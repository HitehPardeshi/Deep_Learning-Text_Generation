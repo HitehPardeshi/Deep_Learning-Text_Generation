{
    "metadata": {
        "kernelspec": {
            "name": "python3",
            "display_name": "Python 3",
            "language": "python"
        },
        "language_info": {
            "name": "python",
            "version": "3.8.10",
            "mimetype": "text/x-python",
            "codemirror_mode": {
                "name": "ipython",
                "version": 3
            },
            "pygments_lexer": "ipython3",
            "nbconvert_exporter": "python",
            "file_extension": ".py"
        }
    },
    "nbformat_minor": 2,
    "nbformat": 4,
    "cells": [
        {
            "cell_type": "code",
            "source": [
                "# import numpy as np\r\n",
                "# from keras.models import Sequential\r\n",
                "# from keras.layers import LSTM, Dense, Embedding\r\n",
                "# from keras.preprocessing.text import Tokenizer\r\n",
                "# from keras.preprocessing.sequence import pad_sequences\r\n",
                "\r\n",
                "# # Example text corpus\r\n",
                "# text = \"Your training text goes here.\"\r\n",
                "\r\n",
                "# # Prepare data\r\n",
                "# tokenizer = Tokenizer()\r\n",
                "# tokenizer.fit_on_texts([text])\r\n",
                "# total_words = len(tokenizer.word_index) + 1\r\n",
                "\r\n",
                "# input_sequences = []\r\n",
                "# for line in text.split('\\n'):\r\n",
                "#     token_list = tokenizer.texts_to_sequences([line])[0]\r\n",
                "#     for i in range(1, len(token_list)):\r\n",
                "#         n_gram_sequence = token_list[:i + 1]\r\n",
                "#         input_sequences.append(n_gram_sequence)\r\n",
                "\r\n",
                "# # Pad sequences\r\n",
                "# max_sequence_length = max(len(x) for x in input_sequences)\r\n",
                "# input_sequences = pad_sequences(input_sequences, maxlen=max_sequence_length, padding='pre')\r\n",
                "\r\n",
                "# # Create predictors and label\r\n",
                "# X, y = input_sequences[:, :-1], input_sequences[:, -1]\r\n",
                "# y = np.eye(total_words)[y]  # One-hot encoding\r\n",
                "\r\n",
                "# # Build the model\r\n",
                "# model = Sequential()\r\n",
                "# model.add(Embedding(total_words, 100, input_length=max_sequence_length - 1))\r\n",
                "# model.add(LSTM(100))\r\n",
                "# model.add(Dense(total_words, activation='softmax'))\r\n",
                "\r\n",
                "# # Compile and train the model\r\n",
                "# model.compile(loss='categorical_crossentropy', optimizer='adam', metrics=['accuracy'])\r\n",
                "# model.fit(X, y, epochs=100, verbose=1)\r\n",
                "\r\n",
                "# # Text generation\r\n",
                "# def generate_text(seed_text, next_words, model, max_sequence_length):\r\n",
                "#     for _ in range(next_words):\r\n",
                "#         token_list = tokenizer.texts_to_sequences([seed_text])[0]\r\n",
                "#         token_list = pad_sequences([token_list], maxlen=max_sequence_length - 1, padding='pre')\r\n",
                "#         predicted = model.predict(token_list, verbose=0)\r\n",
                "#         predicted_word_index = np.argmax(predicted, axis=-1)\r\n",
                "#         predicted_word = tokenizer.index_word[predicted_word_index[0]]\r\n",
                "#         seed_text += \" \" + predicted_word\r\n",
                "#     return seed_text\r\n",
                "\r\n",
                "# # Generate text\r\n",
                "# print(generate_text(\"Your seed text\", 7, model, max_sequence_length))"
            ],
            "metadata": {
                "azdata_cell_guid": "ec24c761-aeaa-43bf-8e9f-ad24e1f2711d",
                "language": "python"
            },
            "outputs": [],
            "execution_count": 1
        },
        {
            "cell_type": "markdown",
            "source": [
                "<span style=\"color: var(--vscode-foreground); background-color: yellow;\"><b>1. Introduction to LSTM</b></span>\n",
                "1.1. What is LSTM?\n",
                "LSTMs are a type of recurrent neural network (RNN) specifically designed to overcome the limitations of standard RNNs, particularly their struggle with long-term dependencies. Traditional RNNs face the vanishing gradient problem, where gradients become very small, making it difficult for the network to learn from long sequences. LSTMs, with their unique architecture, are capable of retaining and manipulating information over longer sequences.\n",
                "<span style=\"color: var(--vscode-foreground);\"><br></span>\n",
                "<span style=\"color: var(--vscode-foreground); background-color: yellow;\"><b>2. LSTM Architecture</b></span>\n",
                "**2.1. Memory Cells:**\n",
                "At the core of LSTM is the memory cell, which retains information across time steps. This memory cell can maintain its state across multiple time steps, allowing it to store important information relevant to the prediction task.\n",
                "**2.2. Gates**:\n",
                "LSTMs utilize three types of gates to manage the flow of information:\n",
                "\\- Forget Gate (\\\\(f\\_t\\\\)):\n",
                "  - <span style=\"color: var(--vscode-foreground);\">Formula:&nbsp;</span>  \n",
                "ft=σ(Wf⋅\\[ht−1,xt\\]+bf)f\\_t = \\\\sigma(W\\_f \\\\cdot \\[h\\_{t-1}, x\\_t\\] + b\\_f)ft​=σ(Wf​⋅\\[ht−1​,xt​\\]+bf​)\n",
                "  - Function: Decides what information to discard from the cell state. It takes the previous hidden state and the current input and outputs a value between 0 and 1 for each number in the cell state. A value closer to 0 means “forget this” and a value closer to 1 means “keep this.”\n",
                "\\- Input Gate :\n",
                "  - <span style=\"color: var(--vscode-foreground);\">Formula:&nbsp;</span>  \n",
                "it=σ(Wi⋅\\[ht−1,xt\\]+bi)i\\_t = \\\\sigma(W\\_i \\\\cdot \\[h\\_{t-1}, x\\_t\\] + b\\_i)it​=σ(Wi​⋅\\[ht−1​,xt​\\]+bi​)\n",
                "  - Function: Determines which values to update in the memory cell. It also has a candidate layer,  which creates new candidate values to be            added to the state.\n",
                "  <span style=\"color: var(--vscode-foreground);\">&nbsp; - Output Gate (\\(o_t\\)):</span>  \n",
                "  - Formula: \\\\(o\\_t = \\\\sigma(W\\_o \\\\cdot \\[h\\_{t-1}, x\\_t\\] + b\\_o)\\\\)\n",
                "  - Function: Determines what the next hidden state should be. It filters the cell state through a sigmoid activation and then applies it to the cell state through the tanh function.\n",
                "**2.3. Cell State Update:**\n",
                "The cell state is updated using the formulas derived from the gates:\n",
                "\\- Updated Cell State (\\\\(C\\_t\\\\)):\n",
                "                                    <span class=\"base\" style=\"color: var(--vscode-foreground);\"><span class=\"mord\"><span class=\"mord mathnormal\">C</span><span class=\"msupsub\"><span class=\"vlist-t vlist-t2\"><span class=\"vlist-r\"><span class=\"vlist\"><span class=\"pstrut\"></span><span class=\"sizing reset-size6 size3 mtight\"><span class=\"mord mathnormal mtight\">t</span></span></span><span class=\"vlist-s\">​</span></span><span class=\"vlist-r\"><span class=\"vlist\"></span></span></span></span></span><span class=\"mspace\"></span><span class=\"mrel\">=</span><span class=\"mspace\"></span></span><span class=\"base\" style=\"color: var(--vscode-foreground);\"><span class=\"strut\"></span><span class=\"mord\"><span class=\"mord mathnormal\">f</span><span class=\"msupsub\"><span class=\"vlist-t vlist-t2\"><span class=\"vlist-r\"><span class=\"vlist\"><span class=\"pstrut\"></span><span class=\"sizing reset-size6 size3 mtight\"><span class=\"mord mathnormal mtight\">t</span></span></span><span class=\"vlist-s\">​</span></span><span class=\"vlist-r\"><span class=\"vlist\"></span></span></span></span></span><span class=\"mspace\"></span><span class=\"mbin\">∗</span><span class=\"mspace\"></span></span><span class=\"base\" style=\"color: var(--vscode-foreground);\"><span class=\"strut\"></span><span class=\"mord\"><span class=\"mord mathnormal\">C</span><span class=\"msupsub\"><span class=\"vlist-t vlist-t2\"><span class=\"vlist-r\"><span class=\"vlist\"><span class=\"pstrut\"></span><span class=\"sizing reset-size6 size3 mtight\"><span class=\"mord mtight\"><span class=\"mord mathnormal mtight\">t</span><span class=\"mbin mtight\">−</span><span class=\"mord mtight\">1</span></span></span></span><span class=\"vlist-s\">​</span></span><span class=\"vlist-r\"><span class=\"vlist\"></span></span></span></span></span><span class=\"mspace\"></span><span class=\"mbin\">+</span><span class=\"mspace\"></span></span><span class=\"base\" style=\"color: var(--vscode-foreground);\"><span class=\"strut\"></span><span class=\"mord\"><span class=\"mord mathnormal\">i</span><span class=\"msupsub\"><span class=\"vlist-t vlist-t2\"><span class=\"vlist-r\"><span class=\"vlist\"><span class=\"pstrut\"></span><span class=\"sizing reset-size6 size3 mtight\"><span class=\"mord mathnormal mtight\">t</span></span></span><span class=\"vlist-s\">​</span></span><span class=\"vlist-r\"><span class=\"vlist\"></span></span></span></span></span><span class=\"mspace\"></span><span class=\"mbin\">∗</span><span class=\"mspace\"></span></span><span class=\"base\" style=\"color: var(--vscode-foreground);\"><span class=\"strut\"></span><span class=\"mord\"><span class=\"mord accent\"><span class=\"vlist-t\"><span class=\"vlist-r\"><span class=\"vlist\"><span class=\"pstrut\"></span><span class=\"mord mathnormal\">C</span><span class=\"pstrut\"></span><span class=\"accent-body\"><span class=\"mord\">~</span></span></span></span></span></span><span class=\"msupsub\"><span class=\"vlist-t vlist-t2\"><span class=\"vlist-r\"><span class=\"vlist\"><span class=\"pstrut\"></span><span class=\"sizing reset-size6 size3 mtight\"><span class=\"mord mathnormal mtight\">t</span></span></span><span class=\"vlist-s\">​</span></span></span></span></span></span>\n",
                "\\- Hidden State (\\\\(h\\_t\\\\)):\n",
                "                                    ht​=ot​∗tanh(Ct​)\n",
                "**<mark>3\\. Sequence Processing</mark>**\n",
                "**3.1. Text Tokenization:**\n",
                "Text needs to be converted into a format that can be processed by the LSTM. This typically involves:\n",
                "\\- Tokenization: Splitting the text into smaller units (words, characters).\n",
                "\\- Vocabulary Creation: Mapping each unique token to an index.\n",
                "\\- Encoding: Transforming tokens into numerical representations (one-hot encoding or embedding).\n",
                "**3.2. Creating Sequences:**\n",
                "To prepare the data for LSTM, you create sequences of fixed length. For example, given a corpus:\n",
                "\\- Original text: \"The cat sat on the mat.\"\n",
                "\\- Sequences (with a window size of 3): \n",
                "\\- Input: \\[\"The cat sat\", \"cat sat on\", \"sat on the\"\\]\n",
                "\\- Output: \\[\"on\", \"the\", \"mat\"\\]\n",
                "<span style=\"color: var(--vscode-foreground);\"><br></span>\n",
                "<span style=\"color: var(--vscode-foreground); background-color: yellow;\"><b>4. Training the LSTM Model</b></span>\n",
                "**4.1. Loss Function:**\n",
                "The objective during training is to minimize the loss function. For text generation, categorical cross-entropy is commonly used:\n",
                "Loss=−i∑​yi​log(y^​i​)\n",
                "where \\\\(y\\_i\\\\) is the true label and \\\\(\\\\hat{y}\\_i\\\\) is the predicted probability.\n",
                "**4.2. Backpropagation Through Time (BPTT):**\n",
                "Training involves calculating gradients through time steps. BPTT is an extension of standard backpropagation that accounts for the sequential nature of RNNs, updating weights based on loss from multiple time steps.\n",
                "**4.3. Hyperparameter Tuning:**\n",
                "Key hyperparameters include:\n",
                "\\- Number of LSTM units: Determines the capacity of the model.\n",
                "\\- Sequence length: Length of the input sequences.\n",
                "\\- Batch size: Number of samples processed before updating the model.\n",
                "\\- Learning rate: Affects the speed of convergence.\n",
                "**<mark>5\\. Text Generation Process</mark>**\n",
                "**5.1. Initialization:**\n",
                "Text generation starts with an initial seed text. The model uses this as the first input to predict the next word.\n",
                "**5.2. Predicting Next Words:**\n",
                "The process involves:\n",
                "1\\. Encoding the seed text into the appropriate format.\n",
                "2\\. Feeding it into the LSTM to predict the next word.\n",
                "3\\. Appending the predicted word to the seed text and using the updated sequence for the next prediction.\n",
                "**5.3. Sampling Strategies:**\n",
                "Different techniques can be employed for selecting the next word:\n",
                "\\- Greedy Sampling: Chooses the word with the highest probability.\n",
                "\\- Random Sampling: Selects a word randomly based on the predicted probabilities.\n",
                "\\- Top-k Sampling: Chooses from the top-k most likely words, adding randomness to the generation process.\n",
                "\\- Temperature Sampling: Controls randomness by scaling the predicted probabilities. A higher temperature produces more diverse results.\n",
                "**<mark>6\\. Challenges in Text Generation</mark>**\n",
                "**6.1. Overfitting:**\n",
                "LSTMs can memorize training data, especially with limited datasets. Regularization techniques like dropout can help combat this.\n",
                "**6.2. Coherence and Relevance:**\n",
                "While LSTMs can generate text, maintaining coherence over longer texts can be challenging. Strategies such as conditioning on specific prompts or using attention mechanisms can enhance relevance.\n",
                "**6.3. Computation and Training Time:**\n",
                "LSTMs can be resource-intensive. Efficient implementations and hardware acceleration (e.g., using GPUs) are often necessary.\n",
                "**<mark>7\\. Applications of LSTM in Text Generation</mark>**\n",
                "LSTM models find applications across various fields, such as:\n",
                "\\- Chatbots: Creating responsive conversational agents.\n",
                "\\- Creative Writing: Assisting in generating poetry, stories, or scripts.\n",
                "\\- Code Generation: Automating the generation of code snippets.\n",
                "\\- Music Generation: Composing music by modeling sequences of notes."
            ],
            "metadata": {
                "language": "",
                "azdata_cell_guid": "c13f03fc-15ba-4bb0-870c-7a3e9541a39e"
            },
            "attachments": {}
        },
        {
            "cell_type": "code",
            "source": [
                "import numpy as np\r\n",
                "\r\n",
                "from tensorflow.keras.models import Sequential\r\n",
                "from tensorflow.keras.layers import LSTM,Dense , Embedding\r\n",
                "from tensorflow.keras.preprocessing.sequence import pad_sequences"
            ],
            "metadata": {
                "azdata_cell_guid": "162f400d-bb66-4e83-b69a-0f1bb267cc1f",
                "language": "python"
            },
            "outputs": [],
            "execution_count": 2
        },
        {
            "cell_type": "code",
            "source": [
                "with open(r\"Deep Learning.txt\") as data:\r\n",
                "    train_data = data.read()"
            ],
            "metadata": {
                "language": "python",
                "azdata_cell_guid": "26c6dbac-c62c-49a6-aea5-3be3dae45808"
            },
            "outputs": [],
            "execution_count": 3
        },
        {
            "cell_type": "code",
            "source": [
                "train_data"
            ],
            "metadata": {
                "language": "python",
                "azdata_cell_guid": "c65a6ebe-2171-44f3-a63a-7dfd48605daa"
            },
            "outputs": [
                {
                    "data": {
                        "text/plain": "'Deep Learning has emerged as a powerful technique in the field of artificial intelligence, revolutionizing various domains and unleashing new possibilities. It encompasses a class of machine learning algorithms that aim to learn hierarchical representations of data by employing multiple layers of artificial neural networks. Through its ability to automatically extract intricate patterns and features from raw data, Deep Learning has made significant strides in areas such as computer vision, natural language processing, speech recognition, and more.\\n\\nComputer vision, one of the most prominent applications of Deep Learning, has witnessed remarkable progress. Deep convolutional neural networks (CNNs) have exhibited exceptional performance in tasks such as image classification, object detection, and image segmentation. By leveraging large datasets and complex architectures, CNNs can learn to recognize and understand visual patterns with astonishing accuracy. This has paved the way for advancements in autonomous vehicles, medical imaging analysis, facial recognition systems, and many other applications that rely on visual information.\\n\\nIn natural language processing (NLP), Deep Learning has brought about transformative changes. Recurrent neural networks (RNNs) and their variants, such as long short-term memory (LSTM) and gated recurrent units (GRU), have enabled significant progress in tasks like language modeling, machine translation, sentiment analysis, and text generation. Through the sequential processing of textual data, these models capture contextual dependencies and generate coherent and contextually rich outputs. Deep Learning has also played a crucial role in speech recognition, enabling accurate transcription of spoken words and facilitating advancements in voice-controlled systems and virtual assistants.\\n\\nThe impact of Deep Learning extends beyond individual domains. Its interdisciplinary nature allows for cross-domain applications and collaboration. For instance, Deep Learning techniques have been successfully applied to healthcare, where they have shown promise in medical imaging analysis, disease diagnosis, and drug discovery. By analyzing large volumes of medical images, Deep Learning models can assist radiologists in detecting abnormalities and improving diagnostic accuracy. Similarly, in drug discovery, Deep Learning algorithms can aid in identifying potential drug candidates and predicting their efficacy, accelerating the development of novel therapeutics.\\n\\nDeep Learning has also made strides in areas such as recommender systems, fraud detection, financial market analysis, and robotics. By leveraging large-scale datasets and powerful computational resources, Deep Learning models can capture intricate patterns and make accurate predictions. Recommender systems employ Deep Learning architectures to provide personalized recommendations to users, enhancing user experiences and improving engagement. In fraud detection, Deep Learning algorithms can identify anomalous patterns and detect fraudulent activities in real-time, safeguarding financial systems. Financial market analysis benefits from Deep Learning techniques by enabling the extraction of insights from complex market data, assisting traders and investors in making informed decisions. Moreover, in robotics, Deep Learning plays a vital role in perception, control, and decision-making, enabling robots to navigate environments, interact with objects, and perform complex tasks autonomously.\\n\\nDespite its achievements, Deep Learning also faces challenges. Training deep neural networks often requires large amounts of labeled data and substantial computational resources. Additionally, model interpretability and explainability remain areas of active research, as deep neural networks can be perceived as black boxes due to their complex internal representations. Addressing these challenges will pave the way for further advancements in Deep Learning and enhance its practical applicability.\\n\\nIn conclusion, Deep Learning has revolutionized the field of artificial intelligence, driving breakthroughs in computer vision, natural language processing, and various other domains. Its ability to learn hierarchical representations and extract meaningful features from raw data has enabled remarkable accuracy and performance in diverse tasks. With ongoing research and advancements, Deep Learning is expected to continue pushing the boundaries of AI and unlocking new possibilities for solving complex real-world problems.\\n\\nFurthermore, the future of Deep Learning holds immense potential. Researchers and practitioners are constantly exploring novel architectures, algorithms, and techniques to push the boundaries of what is possible. One area of focus is the development of more efficient and scalable Deep Learning models. This includes exploring techniques such as model compression, quantization, and network architecture optimization to reduce model size and computational requirements without sacrificing performance.\\n\\nAnother exciting direction in Deep Learning is the integration of domain knowledge and prior information into the learning process. By incorporating domain-specific constraints, expert knowledge, and structured data, Deep Learning models can benefit from a combination of data-driven learning and human expertise. This hybrid approach can lead to more interpretable models, improved generalization, and enhanced performance in specialized domains.\\n\\nDeep Learning is also witnessing advancements in the realm of unsupervised learning. While supervised learning, which relies on labeled data, has been the dominant paradigm, unsupervised learning techniques aim to learn meaningful representations from unlabeled data. This has the potential to unlock valuable insights from vast amounts of unannotated data and enable more efficient and scalable learning algorithms.\\n\\nFurthermore, there is a growing emphasis on addressing the ethical implications and societal impact of Deep Learning. As Deep Learning models become increasingly integrated into various applications and systems, it is crucial to ensure transparency, fairness, and accountability. Researchers and policymakers are actively exploring ethical guidelines, regulatory frameworks, and mechanisms for addressing bias, privacy concerns, and the potential consequences of AI systems on individuals and society as a whole.\\n\\nCollaboration and knowledge sharing also play a vital role in the advancement of Deep Learning. The open-source community, academic institutions, and industry collaborations have facilitated the exchange of ideas, code, and datasets, enabling rapid progress and democratizing access to Deep Learning resources. Online platforms, forums, and conferences provide avenues for researchers, practitioners, and enthusiasts to engage in discussions, share insights, and collectively drive the field forward.\\n\\nIn conclusion, Deep Learning is a rapidly evolving field that continues to push the boundaries of artificial intelligence. Its impact spans across numerous domains, from computer vision to natural language processing, healthcare, finance, robotics, and beyond. With ongoing advancements, collaborations, and a focus on addressing challenges, Deep Learning is poised to drive transformative changes and shape the future of AI, unlocking new possibilities and empowering humanity with intelligent systems that can understand, learn, and make intelligent decisions.\\n\\nAs Deep Learning continues to evolve, it holds great promise for addressing complex real-world problems and driving innovation across various industries. In the field of healthcare, Deep Learning techniques are being applied to medical imaging analysis, disease diagnosis, drug discovery, and personalized medicine. By leveraging large-scale datasets and advanced neural network architectures, Deep Learning models have the potential to enhance medical decision-making, improve patient outcomes, and revolutionize healthcare delivery.\\n\\nIn the realm of natural language processing, Deep Learning has fueled significant advancements in language understanding, machine translation, sentiment analysis, and chatbot development. With the advent of deep neural networks such as Transformers, language models have achieved impressive performance in tasks like language generation, question answering, and text summarization. This has facilitated advancements in virtual assistants, voice recognition systems, and automated language processing applications.\\n\\nDeep Learning also plays a crucial role in the field of autonomous systems. In autonomous vehicles, Deep Learning models enable object detection, scene understanding, and decision-making capabilities, empowering vehicles to perceive their environment and navigate safely. Moreover, Deep Learning algorithms are being employed in robotics to enable robots to perform complex tasks with precision and adaptability, making significant strides in areas like industrial automation, warehouse management, and healthcare robotics.\\n\\nThe impact of Deep Learning extends to the financial sector as well. Deep Learning models are utilized for fraud detection, algorithmic trading, credit scoring, and risk assessment. By analyzing vast amounts of financial data and detecting intricate patterns, these models provide valuable insights for making informed financial decisions and mitigating risks.\\n\\nHowever, it is important to acknowledge that Deep Learning is not without its challenges. Training deep neural networks often requires substantial computational resources and large-scale datasets, which may present barriers for organizations with limited access to such resources. Additionally, ensuring the interpretability and explainability of Deep Learning models remains an ongoing research area, as the complex nature of deep neural networks can make it difficult to understand their decision-making processes.\\n\\nTo address these challenges, researchers and practitioners are exploring techniques like transfer learning, meta-learning, and federated learning to improve the efficiency, generalization, and robustness of Deep Learning models. Moreover, there is a growing emphasis on ethical considerations, data privacy, and the responsible use of Deep Learning technology to ensure its positive impact on society.\\n\\nIn summary, Deep Learning has emerged as a powerful and transformative approach to artificial intelligence, revolutionizing various domains and paving the way for unprecedented advancements. With continuous research, innovation, and collaborations, Deep Learning is poised to unlock new frontiers, shape our future, and drive the development of intelligent systems that can truly understand, learn, and interact with the world in a profound way.\\n\\nDeep Learning has also made significant contributions to the field of computer vision. With the aid of convolutional neural networks (CNNs), Deep Learning models have achieved remarkable accuracy in tasks such as image classification, object detection, image segmentation, and image generation. This has led to advancements in areas such as autonomous surveillance systems, augmented reality, facial recognition technology, and visual understanding for applications like self-driving cars.\\n\\nAnother exciting area where Deep Learning has made an impact is in the realm of generative models. Generative adversarial networks (GANs) and variational autoencoders (VAEs) have revolutionized the generation of realistic images, music, and text. These models can generate new content that resembles the patterns and characteristics of the training data, leading to applications in creative fields such as art, music composition, and content generation for entertainment.\\n\\nIn the scientific community, Deep Learning has been employed for various purposes. It has been used in drug discovery and molecular design, where deep neural networks can predict the properties and activities of compounds, accelerating the search for new drugs and treatments. Deep Learning models have also been applied to fields such as astronomy, physics, and genomics, aiding in data analysis, pattern recognition, and scientific discoveries.\\n\\nThe widespread adoption of Deep Learning has been facilitated by the availability of powerful hardware, such as GPUs (Graphics Processing Units), which greatly accelerate the training and inference processes. Additionally, the open-source nature of Deep Learning frameworks like TensorFlow and PyTorch has fostered a vibrant community of researchers and developers, enabling collaboration and the sharing of knowledge and resources.\\n\\nLooking ahead, the future of Deep Learning holds immense potential. Researchers are exploring areas such as lifelong learning, where models can continually acquire and adapt knowledge over time, and explainable AI, where the decision-making processes of deep neural networks can be understood and interpreted. There is also growing interest in interdisciplinary approaches that combine Deep Learning with other fields such as reinforcement learning, cognitive science, and neuroscience to create more advanced and human-like intelligent systems.\\n\\nIn conclusion, Deep Learning has revolutionized the field of artificial intelligence, enabling machines to learn, perceive, and make intelligent decisions with unprecedented accuracy. Its applications span across various domains, from healthcare and natural language processing to autonomous systems and finance. With ongoing advancements, Deep Learning is set to reshape industries, drive innovation, and unlock new frontiers in our quest for intelligent machines.\\n\\nMoreover, the impact of Deep Learning extends beyond individual applications and industries. It has the potential to drive significant societal transformations. For instance, in healthcare, Deep Learning models can assist in disease diagnosis, personalized treatment planning, and drug discovery. By analyzing large volumes of medical data, these models can uncover patterns and correlations that may not be evident to human experts, leading to more accurate diagnoses and improved patient outcomes.\\n\\nIn the realm of finance, Deep Learning algorithms can analyze vast amounts of financial data to predict market trends, detect anomalies, and optimize investment strategies. This has the potential to enhance decision-making processes and improve financial risk management. Additionally, Deep Learning models can be applied to fraud detection, customer segmentation, and credit scoring, helping financial institutions operate more efficiently and securely.\\n\\nEthical considerations and responsible deployment of Deep Learning technologies are paramount. As these models become more powerful and pervasive, issues such as bias, fairness, and privacy must be addressed. Ensuring that Deep Learning systems are transparent, accountable, and unbiased is crucial to building trust and mitigating potential risks.\\n\\nCollaboration and interdisciplinary research play a vital role in advancing Deep Learning further. The convergence of Deep Learning with other fields such as robotics, natural language processing, and cognitive science can lead to innovative solutions and new breakthroughs. By combining expertise from different domains, researchers can tackle complex problems and create synergistic approaches that push the boundaries of what is possible.\\n\\nIn summary, Deep Learning is a transformative technology that has the potential to reshape industries, drive innovation, and improve the quality of our lives. Its ability to learn from data, extract meaningful patterns, and make intelligent predictions opens up new possibilities in fields ranging from healthcare and finance to transportation and entertainment. As the field continues to evolve and new advancements are made, it is crucial to ensure that Deep Learning is harnessed responsibly, ethically, and for the benefit of society as a whole.\\n\\nAdditionally, the field of Deep Learning is characterized by its continuous evolution and ongoing research. As new algorithms, architectures, and techniques are developed, the performance and capabilities of Deep Learning models continue to improve. Researchers are exploring novel approaches such as generative adversarial networks (GANs), reinforcement learning, and attention mechanisms to further enhance the capabilities of Deep Learning systems.\\n\\nOne area of active research is the development of explainable and interpretable Deep Learning models. As Deep Learning models often function as black boxes, understanding how they arrive at their predictions or decisions can be challenging. Researchers are working towards developing techniques that provide insights into the decision-making process of Deep Learning models, making them more transparent and interpretable. This is particularly important in fields where explainability and accountability are critical, such as healthcare and autonomous systems.\\n\\nAnother area of focus is addressing the limitations of Deep Learning, such as the need for large amounts of labeled data and the computational requirements of training complex models. Researchers are investigating techniques to improve the efficiency of Deep Learning, such as transfer learning, semi-supervised learning, and active learning, which aim to make the most efficient use of available data and resources.\\n\\nFurthermore, the integration of Deep Learning with other emerging technologies is an exciting area of exploration. Deep Learning models can be combined with virtual reality (VR), augmented reality (AR), and mixed reality (MR) to create immersive and interactive experiences. Deep Learning algorithms can also be applied in conjunction with Internet of Things (IoT) devices to enable intelligent and context-aware systems.\\n\\nAs Deep Learning continues to advance, it holds the potential to revolutionize industries, reshape the way we interact with technology, and solve complex problems that were previously considered unsolvable. From autonomous vehicles and robotics to personalized medicine and smart cities, Deep Learning is at the forefront of innovation, pushing the boundaries of what is possible.\\n\\nIn conclusion, Deep Learning is a rapidly evolving field that has already made significant strides in various domains. Its ability to learn from data, extract meaningful insights, and make intelligent predictions has opened up new avenues for innovation and discovery. With continued research, collaboration, and responsible deployment, Deep Learning has the potential to drive transformative change and contribute to a future where intelligent systems are seamlessly integrated into our daily lives.\\n\\n'"
                    },
                    "metadata": {},
                    "execution_count": 4,
                    "output_type": "execute_result"
                }
            ],
            "execution_count": 4
        },
        {
            "cell_type": "code",
            "source": [
                "def preprocess(data):\r\n",
                "    data = data.replace('\\n',' ')\r\n",
                "    chars = list(set(data))\r\n",
                "    char_to_num = {char:idx for idx,char in enumerate(chars)}\r\n",
                "    num_to_char = {idx:char for idx,char in enumerate(chars)}\r\n",
                "    return data,chars,char_to_num , num_to_char"
            ],
            "metadata": {
                "azdata_cell_guid": "50b6e55c-2cdd-49e8-95e2-451c1d11381a",
                "language": "python"
            },
            "outputs": [],
            "execution_count": 5
        },
        {
            "cell_type": "code",
            "source": [
                "def generate_training_data(train_data,seq):\r\n",
                "    input_seqs = []\r\n",
                "    target_seqs = []\r\n",
                "    for index in range(len(train_data)-seq):\r\n",
                "        input_seqs.append([char_to_num[char] for char in train_data[index:index+seq]])\r\n",
                "        target_seqs.append(char_to_num[train_data[index+seq]])\r\n",
                "    return np.array(input_seqs) , np.array(target_seqs)"
            ],
            "metadata": {
                "language": "python",
                "azdata_cell_guid": "9f2e516d-0dda-4c57-873f-b191ac67c038"
            },
            "outputs": [],
            "execution_count": 6
        },
        {
            "cell_type": "code",
            "source": [
                "train_data , unique_char , char_to_num , num_to_char = preprocess(train_data)"
            ],
            "metadata": {
                "language": "python",
                "azdata_cell_guid": "2e7ce04d-70c5-4f2e-8cc4-e461d188da31"
            },
            "outputs": [],
            "execution_count": 7
        },
        {
            "cell_type": "code",
            "source": [
                "max_sequence_length = 100\r\n",
                "x , y = generate_training_data(train_data,max_sequence_length)"
            ],
            "metadata": {
                "language": "python",
                "azdata_cell_guid": "79cd04f4-f288-4492-8cfb-754197728044"
            },
            "outputs": [],
            "execution_count": 8
        },
        {
            "cell_type": "code",
            "source": [
                "vocab_size = len(unique_char)\r\n",
                "embedding_dim = 256\r\n",
                "hidden_dim = 128\r\n",
                "max_sequence_length = 100\r\n",
                "\r\n",
                "model = Sequential([\r\n",
                "    Embedding(input_dim=vocab_size, output_dim=embedding_dim, input_length=max_sequence_length),\r\n",
                "    LSTM(units=hidden_dim, return_sequences=True),\r\n",
                "    LSTM(units=hidden_dim, return_sequences=False),\r\n",
                "    Dense(units=hidden_dim, activation='relu'),\r\n",
                "    Dense(units=vocab_size, activation='softmax')\r\n",
                "])\r\n",
                "\r\n",
                "model.compile(loss='sparse_categorical_crossentropy', optimizer='adam', metrics=['accuracy'])\r\n",
                "\r\n",
                "model.summary()"
            ],
            "metadata": {
                "language": "python",
                "azdata_cell_guid": "8ceb799c-8e5d-4991-b164-1a43df9a9943"
            },
            "outputs": [
                {
                    "name": "stdout",
                    "text": "Model: \"sequential\"\n",
                    "output_type": "stream"
                },
                {
                    "name": "stdout",
                    "text": "_________________________________________________________________\n",
                    "output_type": "stream"
                },
                {
                    "name": "stdout",
                    "text": " Layer (type)                Output Shape              Param #   \n",
                    "output_type": "stream"
                },
                {
                    "name": "stdout",
                    "text": "=================================================================\n",
                    "output_type": "stream"
                },
                {
                    "name": "stdout",
                    "text": " embedding (Embedding)       (None, 100, 256)          13312     \n",
                    "output_type": "stream"
                },
                {
                    "name": "stdout",
                    "text": "                                                                 \n",
                    "output_type": "stream"
                },
                {
                    "name": "stdout",
                    "text": " lstm (LSTM)                 (None, 100, 128)          197120    \n",
                    "output_type": "stream"
                },
                {
                    "name": "stdout",
                    "text": "                                                                 \n",
                    "output_type": "stream"
                },
                {
                    "name": "stdout",
                    "text": " lstm_1 (LSTM)               (None, 128)               131584    \n",
                    "output_type": "stream"
                },
                {
                    "name": "stdout",
                    "text": "                                                                 \n",
                    "output_type": "stream"
                },
                {
                    "name": "stdout",
                    "text": " dense (Dense)               (None, 128)               16512     \n",
                    "output_type": "stream"
                },
                {
                    "name": "stdout",
                    "text": "                                                                 \n",
                    "output_type": "stream"
                },
                {
                    "name": "stdout",
                    "text": " dense_1 (Dense)             (None, 52)                6708      \n",
                    "output_type": "stream"
                },
                {
                    "name": "stdout",
                    "text": "                                                                 \n",
                    "output_type": "stream"
                },
                {
                    "name": "stdout",
                    "text": "=================================================================\n",
                    "output_type": "stream"
                },
                {
                    "name": "stdout",
                    "text": "Total params: 365236 (1.39 MB)\n",
                    "output_type": "stream"
                },
                {
                    "name": "stdout",
                    "text": "Trainable params: 365236 (1.39 MB)\n",
                    "output_type": "stream"
                },
                {
                    "name": "stdout",
                    "text": "Non-trainable params: 0 (0.00 Byte)\n",
                    "output_type": "stream"
                },
                {
                    "name": "stdout",
                    "text": "_________________________________________________________________\n",
                    "output_type": "stream"
                }
            ],
            "execution_count": 9
        },
        {
            "cell_type": "code",
            "source": [
                "x.shape , y.shape"
            ],
            "metadata": {
                "azdata_cell_guid": "989dae4a-0e05-4f5d-91d6-276fffe5af47",
                "language": "python"
            },
            "outputs": [
                {
                    "data": {
                        "text/plain": "((18601, 100), (18601,))"
                    },
                    "metadata": {},
                    "execution_count": 10,
                    "output_type": "execute_result"
                }
            ],
            "execution_count": 10
        },
        {
            "cell_type": "code",
            "source": [
                "history = model.fit(x,y, epochs=75, batch_size = 64 )"
            ],
            "metadata": {
                "language": "python",
                "azdata_cell_guid": "28a81159-3461-43b8-ad46-437bdaad8c58"
            },
            "outputs": [
                {
                    "name": "stdout",
                    "text": "Epoch 1/2\n",
                    "output_type": "stream"
                },
                {
                    "name": "stdout",
                    "text": "\r  1/291 [..............................] - ETA: 1:04 - loss: 3.1449 - accuracy: 0.1094",
                    "output_type": "stream"
                },
                {
                    "name": "stdout",
                    "text": "\b\b\b\b\b\b\b\b\b\b\b\b\b\b\b\b\b\b\b\b\b\b\b\b\b\b\b\b\b\b\b\b\b\b\b\b\b\b\b\b\b\b\b\b\b\b\b\b\b\b\b\b\b\b\b\b\b\b\b\b\b\b\b\b\b\b\b\b\b\b\b\b\b\b\b\b\b\b\b\b\b\b\b\b\b\b\r  2/291 [..............................] - ETA: 1:05 - loss: 3.0903 - accuracy: 0.1406",
                    "output_type": "stream"
                },
                {
                    "name": "stdout",
                    "text": "\b\b\b\b\b\b\b\b\b\b\b\b\b\b\b\b\b\b\b\b\b\b\b\b\b\b\b\b\b\b\b\b\b\b\b\b\b\b\b\b\b\b\b\b\b\b\b\b\b\b\b\b\b\b\b\b\b\b\b\b\b\b\b\b\b\b\b\b\b\b\b\b\b\b\b\b\b\b\b\b\b\b\b\b\b\b\r  3/291 [..............................] - ETA: 1:07 - loss: 3.0877 - accuracy: 0.1406",
                    "output_type": "stream"
                },
                {
                    "name": "stdout",
                    "text": "\b\b\b\b\b\b\b\b\b\b\b\b\b\b\b\b\b\b\b\b\b\b\b\b\b\b\b\b\b\b\b\b\b\b\b\b\b\b\b\b\b\b\b\b\b\b\b\b\b\b\b\b\b\b\b\b\b\b\b\b\b\b\b\b\b\b\b\b\b\b\b\b\b\b\b\b\b\b\b\b\b\b\b\b\b\b\r  4/291 [..............................] - ETA: 1:09 - loss: 3.0717 - accuracy: 0.1523",
                    "output_type": "stream"
                },
                {
                    "name": "stdout",
                    "text": "\b\b\b\b\b\b\b\b\b\b\b\b\b\b\b\b\b\b\b\b\b\b\b\b\b\b\b\b\b\b\b\b\b\b\b\b\b\b\b\b\b\b\b\b\b\b\b\b\b\b\b\b\b\b\b\b\b\b\b\b\b\b\b\b\b\b\b\b\b\b\b\b\b\b\b\b\b\b\b\b\b\b\b\b\b\b\r  5/291 [..............................] - ETA: 1:09 - loss: 3.0762 - accuracy: 0.1469",
                    "output_type": "stream"
                },
                {
                    "name": "stdout",
                    "text": "\b\b\b\b\b\b\b\b\b\b\b\b\b\b\b\b\b\b\b\b\b\b\b\b\b\b\b\b\b\b\b\b\b\b\b\b\b\b\b\b\b\b\b\b\b\b\b\b\b\b\b\b\b\b\b\b\b\b\b\b\b\b\b\b\b\b\b\b\b\b\b\b\b\b\b\b\b\b\b\b\b\b\b\b\b\b\r  6/291 [..............................] - ETA: 1:08 - loss: 3.0516 - accuracy: 0.1589",
                    "output_type": "stream"
                },
                {
                    "name": "stdout",
                    "text": "\b\b\b\b\b\b\b\b\b\b\b\b\b\b\b\b\b\b\b\b\b\b\b\b\b\b\b\b\b\b\b\b\b\b\b\b\b\b\b\b\b\b\b\b\b\b\b\b\b\b\b\b\b\b\b\b\b\b\b\b\b\b\b\b\b\b\b\b\b\b\b\b\b\b\b\b\b\b\b\b\b\b\b\b\b\b\r  7/291 [..............................] - ETA: 1:07 - loss: 3.0419 - accuracy: 0.1496",
                    "output_type": "stream"
                },
                {
                    "name": "stdout",
                    "text": "\b\b\b\b\b\b\b\b\b\b\b\b\b\b\b\b\b\b\b\b\b\b\b\b\b\b\b\b\b\b\b\b\b\b\b\b\b\b\b\b\b\b\b\b\b\b\b\b\b\b\b\b\b\b\b\b\b\b\b\b\b\b\b\b\b\b\b\b\b\b\b\b\b\b\b\b\b\b\b\b\b\b\b\b\b\b\r  8/291 [..............................] - ETA: 1:06 - loss: 3.0458 - accuracy: 0.1445",
                    "output_type": "stream"
                },
                {
                    "name": "stdout",
                    "text": "\b\b\b\b\b\b\b\b\b\b\b\b\b\b\b\b\b\b\b\b\b\b\b\b\b\b\b\b\b\b\b\b\b\b\b\b\b\b\b\b\b\b\b\b\b\b\b\b\b\b\b\b\b\b\b\b\b\b\b\b\b\b\b\b\b\b\b\b\b\b\b\b\b\b\b\b\b\b\b\b\b\b\b\b\b\b\r  9/291 [..............................] - ETA: 1:06 - loss: 3.0638 - accuracy: 0.1354",
                    "output_type": "stream"
                },
                {
                    "name": "stdout",
                    "text": "\b\b\b\b\b\b\b\b\b\b\b\b\b\b\b\b\b\b\b\b\b\b\b\b\b\b\b\b\b\b\b\b\b\b\b\b\b\b\b\b\b\b\b\b\b\b\b\b\b\b\b\b\b\b\b\b\b\b\b\b\b\b\b\b\b\b\b\b\b\b\b\b\b\b\b\b\b\b\b\b\b\b\b\b\b\b\r 10/291 [>.............................] - ETA: 1:06 - loss: 3.0711 - accuracy: 0.1297",
                    "output_type": "stream"
                },
                {
                    "name": "stdout",
                    "text": "\b\b\b\b\b\b\b\b\b\b\b\b\b\b\b\b\b\b\b\b\b\b\b\b\b\b\b\b\b\b\b\b\b\b\b\b\b\b\b\b\b\b\b\b\b\b\b\b\b\b\b\b\b\b\b\b\b\b\b\b\b\b\b\b\b\b\b\b\b\b\b\b\b\b\b\b\b\b\b\b\b\b\b\b\b\b\r 11/291 [>.............................] - ETA: 1:08 - loss: 3.0720 - accuracy: 0.1236",
                    "output_type": "stream"
                },
                {
                    "name": "stdout",
                    "text": "\b\b\b\b\b\b\b\b\b\b\b\b\b\b\b\b\b\b\b\b\b\b\b\b\b\b\b\b\b\b\b\b\b\b\b\b\b\b\b\b\b\b\b\b\b\b\b\b\b\b\b\b\b\b\b\b\b\b\b\b\b\b\b\b\b\b\b\b\b\b\b\b\b\b\b\b\b\b\b\b\b\b\b\b\b\b\r 12/291 [>.............................] - ETA: 1:09 - loss: 3.0641 - accuracy: 0.1276",
                    "output_type": "stream"
                },
                {
                    "name": "stdout",
                    "text": "\b\b\b\b\b\b\b\b\b\b\b\b\b\b\b\b\b\b\b\b\b\b\b\b\b\b\b\b\b\b\b\b\b\b\b\b\b\b\b\b\b\b\b\b\b\b\b\b\b\b\b\b\b\b\b\b\b\b\b\b\b\b\b\b\b\b\b\b\b\b\b\b\b\b\b\b\b\b\b\b\b\b\b\b\b\b\r 13/291 [>.............................] - ETA: 1:10 - loss: 3.0515 - accuracy: 0.1250",
                    "output_type": "stream"
                },
                {
                    "name": "stdout",
                    "text": "\b\b\b\b\b\b\b\b\b\b\b\b\b\b\b\b\b\b\b\b\b\b\b\b\b\b\b\b\b\b\b\b\b\b\b\b\b\b\b\b\b\b\b\b\b\b\b\b\b\b\b\b\b\b\b\b\b\b\b\b\b\b\b\b\b\b\b\b\b\b\b\b\b\b\b\b\b\b\b\b\b\b\b\b\b\b\r 14/291 [>.............................] - ETA: 1:10 - loss: 3.0533 - accuracy: 0.1183",
                    "output_type": "stream"
                },
                {
                    "name": "stdout",
                    "text": "\b\b\b\b\b\b\b\b\b\b\b\b\b\b\b\b\b\b\b\b\b\b\b\b\b\b\b\b\b\b\b\b\b\b\b\b\b\b\b\b\b\b\b\b\b\b\b\b\b\b\b\b\b\b\b\b\b\b\b\b\b\b\b\b\b\b\b\b\b\b\b\b\b\b\b\b\b\b\b\b\b\b\b\b\b\b\r 15/291 [>.............................] - ETA: 1:09 - loss: 3.0576 - accuracy: 0.1156",
                    "output_type": "stream"
                },
                {
                    "name": "stdout",
                    "text": "\b\b\b\b\b\b\b\b\b\b\b\b\b\b\b\b\b\b\b\b\b\b\b\b\b\b\b\b\b\b\b\b\b\b\b\b\b\b\b\b\b\b\b\b\b\b\b\b\b\b\b\b\b\b\b\b\b\b\b\b\b\b\b\b\b\b\b\b\b\b\b\b\b\b\b\b\b\b\b\b\b\b\b\b\b\b\r 16/291 [>.............................] - ETA: 1:08 - loss: 3.0481 - accuracy: 0.1182",
                    "output_type": "stream"
                },
                {
                    "name": "stdout",
                    "text": "\b\b\b\b\b\b\b\b\b\b\b\b\b\b\b\b\b\b\b\b\b\b\b\b\b\b\b\b\b\b\b\b\b\b\b\b\b\b\b\b\b\b\b\b\b\b\b\b\b\b\b\b\b\b\b\b\b\b\b\b\b\b\b\b\b\b\b\b\b\b\b\b\b\b\b\b\b\b\b\b\b\b\b\b\b\b\r 17/291 [>.............................] - ETA: 1:07 - loss: 3.0375 - accuracy: 0.1167",
                    "output_type": "stream"
                },
                {
                    "name": "stdout",
                    "text": "\b\b\b\b\b\b\b\b\b\b\b\b\b\b\b\b\b\b\b\b\b\b\b\b\b\b\b\b\b\b\b\b\b\b\b\b\b\b\b\b\b\b\b\b\b\b\b\b\b\b\b\b\b\b\b\b\b\b\b\b\b\b\b\b\b\b\b\b\b\b\b\b\b\b\b\b\b\b\b\b\b\b\b\b\b\b\r 18/291 [>.............................] - ETA: 1:07 - loss: 3.0337 - accuracy: 0.1155",
                    "output_type": "stream"
                },
                {
                    "name": "stdout",
                    "text": "\b\b\b\b\b\b\b\b\b\b\b\b\b\b\b\b\b\b\b\b\b\b\b\b\b\b\b\b\b\b\b\b\b\b\b\b\b\b\b\b\b\b\b\b\b\b\b\b\b\b\b\b\b\b\b\b\b\b\b\b\b\b\b\b\b\b\b\b\b\b\b\b\b\b\b\b\b\b\b\b\b\b\b\b\b\b\r 19/291 [>.............................] - ETA: 1:06 - loss: 3.0259 - accuracy: 0.1143",
                    "output_type": "stream"
                },
                {
                    "name": "stdout",
                    "text": "\b\b\b\b\b\b\b\b\b\b\b\b\b\b\b\b\b\b\b\b\b\b\b\b\b\b\b\b\b\b\b\b\b\b\b\b\b\b\b\b\b\b\b\b\b\b\b\b\b\b\b\b\b\b\b\b\b\b\b\b\b\b\b\b\b\b\b\b\b\b\b\b\b\b\b\b\b\b\b\b\b\b\b\b\b\b\r 20/291 [=>............................] - ETA: 1:05 - loss: 3.0248 - accuracy: 0.1125",
                    "output_type": "stream"
                },
                {
                    "name": "stdout",
                    "text": "\b\b\b\b\b\b\b\b\b\b\b\b\b\b\b\b\b\b\b\b\b\b\b\b\b\b\b\b\b\b\b\b\b\b\b\b\b\b\b\b\b\b\b\b\b\b\b\b\b\b\b\b\b\b\b\b\b\b\b\b\b\b\b\b\b\b\b\b\b\b\b\b\b\b\b\b\b\b\b\b\b\b\b\b\b\b\r 21/291 [=>............................] - ETA: 1:05 - loss: 3.0247 - accuracy: 0.1131",
                    "output_type": "stream"
                },
                {
                    "name": "stdout",
                    "text": "\b\b\b\b\b\b\b\b\b\b\b\b\b\b\b\b\b\b\b\b\b\b\b\b\b\b\b\b\b\b\b\b\b\b\b\b\b\b\b\b\b\b\b\b\b\b\b\b\b\b\b\b\b\b\b\b\b\b\b\b\b\b\b\b\b\b\b\b\b\b\b\b\b\b\b\b\b\b\b\b\b\b\b\b\b\b\r 22/291 [=>............................] - ETA: 1:05 - loss: 3.0234 - accuracy: 0.1136",
                    "output_type": "stream"
                },
                {
                    "name": "stdout",
                    "text": "\b\b\b\b\b\b\b\b\b\b\b\b\b\b\b\b\b\b\b\b\b\b\b\b\b\b\b\b\b\b\b\b\b\b\b\b\b\b\b\b\b\b\b\b\b\b\b\b\b\b\b\b\b\b\b\b\b\b\b\b\b\b\b\b\b\b\b\b\b\b\b\b\b\b\b\b\b\b\b\b\b\b\b\b\b\b\r 23/291 [=>............................] - ETA: 1:05 - loss: 3.0266 - accuracy: 0.1162",
                    "output_type": "stream"
                },
                {
                    "name": "stdout",
                    "text": "\b\b\b\b\b\b\b\b\b\b\b\b\b\b\b\b\b\b\b\b\b\b\b\b\b\b\b\b\b\b\b\b\b\b\b\b\b\b\b\b\b\b\b\b\b\b\b\b\b\b\b\b\b\b\b\b\b\b\b\b\b\b\b\b\b\b\b\b\b\b\b\b\b\b\b\b\b\b\b\b\b\b\b\b\b\b\r 24/291 [=>............................] - ETA: 1:05 - loss: 3.0319 - accuracy: 0.1159",
                    "output_type": "stream"
                },
                {
                    "name": "stdout",
                    "text": "\b\b\b\b\b\b\b\b\b\b\b\b\b\b\b\b\b\b\b\b\b\b\b\b\b\b\b\b\b\b\b\b\b\b\b\b\b\b\b\b\b\b\b\b\b\b\b\b\b\b\b\b\b\b\b\b\b\b\b\b\b\b\b\b\b\b\b\b\b\b\b\b\b\b\b\b\b\b\b\b\b\b\b\b\b\b\r 25/291 [=>............................] - ETA: 1:05 - loss: 3.0321 - accuracy: 0.1163",
                    "output_type": "stream"
                },
                {
                    "name": "stdout",
                    "text": "\b\b\b\b\b\b\b\b\b\b\b\b\b\b\b\b\b\b\b\b\b\b\b\b\b\b\b\b\b\b\b\b\b\b\b\b\b\b\b\b\b\b\b\b\b\b\b\b\b\b\b\b\b\b\b\b\b\b\b\b\b\b\b\b\b\b\b\b\b\b\b\b\b\b\b\b\b\b\b\b\b\b\b\b\b\b\r 26/291 [=>............................] - ETA: 1:05 - loss: 3.0367 - accuracy: 0.1184",
                    "output_type": "stream"
                },
                {
                    "name": "stdout",
                    "text": "\b\b\b\b\b\b\b\b\b\b\b\b\b\b\b\b\b\b\b\b\b\b\b\b\b\b\b\b\b\b\b\b\b\b\b\b\b\b\b\b\b\b\b\b\b\b\b\b\b\b\b\b\b\b\b\b\b\b\b\b\b\b\b\b\b\b\b\b\b\b\b\b\b\b\b\b\b\b\b\b\b\b\b\b\b\b\r 27/291 [=>............................] - ETA: 1:05 - loss: 3.0325 - accuracy: 0.1181",
                    "output_type": "stream"
                },
                {
                    "name": "stdout",
                    "text": "\b\b\b\b\b\b\b\b\b\b\b\b\b\b\b\b\b\b\b\b\b\b\b\b\b\b\b\b\b\b\b\b\b\b\b\b\b\b\b\b\b\b\b\b\b\b\b\b\b\b\b\b\b\b\b\b\b\b\b\b\b\b\b\b\b\b\b\b\b\b\b\b\b\b\b\b\b\b\b\b\b\b\b\b\b\b\r 28/291 [=>............................] - ETA: 1:04 - loss: 3.0346 - accuracy: 0.1189",
                    "output_type": "stream"
                },
                {
                    "name": "stdout",
                    "text": "\b\b\b\b\b\b\b\b\b\b\b\b\b\b\b\b\b\b\b\b\b\b\b\b\b\b\b\b\b\b\b\b\b\b\b\b\b\b\b\b\b\b\b\b\b\b\b\b\b\b\b\b\b\b\b\b\b\b\b\b\b\b\b\b\b\b\b\b\b\b\b\b\b\b\b\b\b\b\b\b\b\b\b\b\b\b\r 29/291 [=>............................] - ETA: 1:04 - loss: 3.0418 - accuracy: 0.1180",
                    "output_type": "stream"
                },
                {
                    "name": "stdout",
                    "text": "\b\b\b\b\b\b\b\b\b\b\b\b\b\b\b\b\b\b\b\b\b\b\b\b\b\b\b\b\b\b\b\b\b\b\b\b\b\b\b\b\b\b\b\b\b\b\b\b\b\b\b\b\b\b\b\b\b\b\b\b\b\b\b\b\b\b\b\b\b\b\b\b\b\b\b\b\b\b\b\b\b\b\b\b\b\b\r 30/291 [==>...........................] - ETA: 1:04 - loss: 3.0444 - accuracy: 0.1198",
                    "output_type": "stream"
                },
                {
                    "name": "stdout",
                    "text": "\b\b\b\b\b\b\b\b\b\b\b\b\b\b\b\b\b\b\b\b\b\b\b\b\b\b\b\b\b\b\b\b\b\b\b\b\b\b\b\b\b\b\b\b\b\b\b\b\b\b\b\b\b\b\b\b\b\b\b\b\b\b\b\b\b\b\b\b\b\b\b\b\b\b\b\b\b\b\b\b\b\b\b\b\b\b\r 31/291 [==>...........................] - ETA: 1:03 - loss: 3.0403 - accuracy: 0.1225",
                    "output_type": "stream"
                },
                {
                    "name": "stdout",
                    "text": "\b\b\b\b\b\b\b\b\b\b\b\b\b\b\b\b\b\b\b\b\b\b\b\b\b\b\b\b\b\b\b\b\b\b\b\b\b\b\b\b\b\b\b\b\b\b\b\b\b\b\b\b\b\b\b\b\b\b\b\b\b\b\b\b\b\b\b\b\b\b\b\b\b\b\b\b\b\b\b\b\b\b\b\b\b\b\r 32/291 [==>...........................] - ETA: 1:03 - loss: 3.0417 - accuracy: 0.1201",
                    "output_type": "stream"
                },
                {
                    "name": "stdout",
                    "text": "\b\b\b\b\b\b\b\b\b\b\b\b\b\b\b\b\b\b\b\b\b\b\b\b\b\b\b\b\b\b\b\b\b\b\b\b\b\b\b\b\b\b\b\b\b\b\b\b\b\b\b\b\b\b\b\b\b\b\b\b\b\b\b\b\b\b\b\b\b\b\b\b\b\b\b\b\b\b\b\b\b\b\b\b\b\b\r 33/291 [==>...........................] - ETA: 1:03 - loss: 3.0472 - accuracy: 0.1193",
                    "output_type": "stream"
                },
                {
                    "name": "stdout",
                    "text": "\b\b\b\b\b\b\b\b\b\b\b\b\b\b\b\b\b\b\b\b\b\b\b\b\b\b\b\b\b\b\b\b\b\b\b\b\b\b\b\b\b\b\b\b\b\b\b\b\b\b\b\b\b\b\b\b\b\b\b\b\b\b\b\b\b\b\b\b\b\b\b\b\b\b\b\b\b\b\b\b\b\b\b\b\b\b\r 34/291 [==>...........................] - ETA: 1:02 - loss: 3.0394 - accuracy: 0.1218",
                    "output_type": "stream"
                },
                {
                    "name": "stdout",
                    "text": "\b\b\b\b\b\b\b\b\b\b\b\b\b\b\b\b\b\b\b\b\b\b\b\b\b\b\b\b\b\b\b\b\b\b\b\b\b\b\b\b\b\b\b\b\b\b\b\b\b\b\b\b\b\b\b\b\b\b\b\b\b\b\b\b\b\b\b\b\b\b\b\b\b\b\b\b\b\b\b\b\b\b\b\b\b\b\r 35/291 [==>...........................] - ETA: 1:02 - loss: 3.0394 - accuracy: 0.1219",
                    "output_type": "stream"
                },
                {
                    "name": "stdout",
                    "text": "\b\b\b\b\b\b\b\b\b\b\b\b\b\b\b\b\b\b\b\b\b\b\b\b\b\b\b\b\b\b\b\b\b\b\b\b\b\b\b\b\b\b\b\b\b\b\b\b\b\b\b\b\b\b\b\b\b\b\b\b\b\b\b\b\b\b\b\b\b\b\b\b\b\b\b\b\b\b\b\b\b\b\b\b\b\b\r 36/291 [==>...........................] - ETA: 1:02 - loss: 3.0453 - accuracy: 0.1220",
                    "output_type": "stream"
                },
                {
                    "name": "stdout",
                    "text": "\b\b\b\b\b\b\b\b\b\b\b\b\b\b\b\b\b\b\b\b\b\b\b\b\b\b\b\b\b\b\b\b\b\b\b\b\b\b\b\b\b\b\b\b\b\b\b\b\b\b\b\b\b\b\b\b\b\b\b\b\b\b\b\b\b\b\b\b\b\b\b\b\b\b\b\b\b\b\b\b\b\b\b\b\b\b\r 37/291 [==>...........................] - ETA: 1:01 - loss: 3.0463 - accuracy: 0.1216",
                    "output_type": "stream"
                },
                {
                    "name": "stdout",
                    "text": "\b\b\b\b\b\b\b\b\b\b\b\b\b\b\b\b\b\b\b\b\b\b\b\b\b\b\b\b\b\b\b\b\b\b\b\b\b\b\b\b\b\b\b\b\b\b\b\b\b\b\b\b\b\b\b\b\b\b\b\b\b\b\b\b\b\b\b\b\b\b\b\b\b\b\b\b\b\b\b\b\b\b\b\b\b\b\r 38/291 [==>...........................] - ETA: 1:01 - loss: 3.0426 - accuracy: 0.1217",
                    "output_type": "stream"
                },
                {
                    "name": "stdout",
                    "text": "\b\b\b\b\b\b\b\b\b\b\b\b\b\b\b\b\b\b\b\b\b\b\b\b\b\b\b\b\b\b\b\b\b\b\b\b\b\b\b\b\b\b\b\b\b\b\b\b\b\b\b\b\b\b\b\b\b\b\b\b\b\b\b\b\b\b\b\b\b\b\b\b\b\b\b\b\b\b\b\b\b\b\b\b\b\b\r 39/291 [===>..........................] - ETA: 1:01 - loss: 3.0396 - accuracy: 0.1222",
                    "output_type": "stream"
                },
                {
                    "name": "stdout",
                    "text": "\b\b\b\b\b\b\b\b\b\b\b\b\b\b\b\b\b\b\b\b\b\b\b\b\b\b\b\b\b\b\b\b\b\b\b\b\b\b\b\b\b\b\b\b\b\b\b\b\b\b\b\b\b\b\b\b\b\b\b\b\b\b\b\b\b\b\b\b\b\b\b\b\b\b\b\b\b\b\b\b\b\b\b\b\b\b\r 40/291 [===>..........................] - ETA: 1:02 - loss: 3.0420 - accuracy: 0.1219",
                    "output_type": "stream"
                },
                {
                    "name": "stdout",
                    "text": "\b\b\b\b\b\b\b\b\b\b\b\b\b\b\b\b\b\b\b\b\b\b\b\b\b\b\b\b\b\b\b\b\b\b\b\b\b\b\b\b\b\b\b\b\b\b\b\b\b\b\b\b\b\b\b\b\b\b\b\b\b\b\b\b\b\b\b\b\b\b\b\b\b\b\b\b\b\b\b\b\b\b\b\b\b\b\r 41/291 [===>..........................] - ETA: 1:01 - loss: 3.0427 - accuracy: 0.1231",
                    "output_type": "stream"
                },
                {
                    "name": "stdout",
                    "text": "\b\b\b\b\b\b\b\b\b\b\b\b\b\b\b\b\b\b\b\b\b\b\b\b\b\b\b\b\b\b\b\b\b\b\b\b\b\b\b\b\b\b\b\b\b\b\b\b\b\b\b\b\b\b\b\b\b\b\b\b\b\b\b\b\b\b\b\b\b\b\b\b\b\b\b\b\b\b\b\b\b\b\b\b\b\b\r 42/291 [===>..........................] - ETA: 1:01 - loss: 3.0439 - accuracy: 0.1228",
                    "output_type": "stream"
                },
                {
                    "name": "stdout",
                    "text": "\b\b\b\b\b\b\b\b\b\b\b\b\b\b\b\b\b\b\b\b\b\b\b\b\b\b\b\b\b\b\b\b\b\b\b\b\b\b\b\b\b\b\b\b\b\b\b\b\b\b\b\b\b\b\b\b\b\b\b\b\b\b\b\b\b\b\b\b\b\b\b\b\b\b\b\b\b\b\b\b\b\b\b\b\b\b\r 43/291 [===>..........................] - ETA: 1:01 - loss: 3.0423 - accuracy: 0.1243",
                    "output_type": "stream"
                },
                {
                    "name": "stdout",
                    "text": "\b\b\b\b\b\b\b\b\b\b\b\b\b\b\b\b\b\b\b\b\b\b\b\b\b\b\b\b\b\b\b\b\b\b\b\b\b\b\b\b\b\b\b\b\b\b\b\b\b\b\b\b\b\b\b\b\b\b\b\b\b\b\b\b\b\b\b\b\b\b\b\b\b\b\b\b\b\b\b\b\b\b\b\b\b\b\r 44/291 [===>..........................] - ETA: 1:01 - loss: 3.0425 - accuracy: 0.1250",
                    "output_type": "stream"
                },
                {
                    "name": "stdout",
                    "text": "\b\b\b\b\b\b\b\b\b\b\b\b\b\b\b\b\b\b\b\b\b\b\b\b\b\b\b\b\b\b\b\b\b\b\b\b\b\b\b\b\b\b\b\b\b\b\b\b\b\b\b\b\b\b\b\b\b\b\b\b\b\b\b\b\b\b\b\b\b\b\b\b\b\b\b\b\b\b\b\b\b\b\b\b\b\b\r 45/291 [===>..........................] - ETA: 1:01 - loss: 3.0399 - accuracy: 0.1250",
                    "output_type": "stream"
                },
                {
                    "name": "stdout",
                    "text": "\b\b\b\b\b\b\b\b\b\b\b\b\b\b\b\b\b\b\b\b\b\b\b\b\b\b\b\b\b\b\b\b\b\b\b\b\b\b\b\b\b\b\b\b\b\b\b\b\b\b\b\b\b\b\b\b\b\b\b\b\b\b\b\b\b\b\b\b\b\b\b\b\b\b\b\b\b\b\b\b\b\b\b\b\b\b\r 46/291 [===>..........................] - ETA: 1:00 - loss: 3.0391 - accuracy: 0.1257",
                    "output_type": "stream"
                },
                {
                    "name": "stdout",
                    "text": "\b\b\b\b\b\b\b\b\b\b\b\b\b\b\b\b\b\b\b\b\b\b\b\b\b\b\b\b\b\b\b\b\b\b\b\b\b\b\b\b\b\b\b\b\b\b\b\b\b\b\b\b\b\b\b\b\b\b\b\b\b\b\b\b\b\b\b\b\b\b\b\b\b\b\b\b\b\b\b\b\b\b\b\b\b\b\r 47/291 [===>..........................] - ETA: 1:00 - loss: 3.0367 - accuracy: 0.1277",
                    "output_type": "stream"
                },
                {
                    "name": "stdout",
                    "text": "\b\b\b\b\b\b\b\b\b\b\b\b\b\b\b\b\b\b\b\b\b\b\b\b\b\b\b\b\b\b\b\b\b\b\b\b\b\b\b\b\b\b\b\b\b\b\b\b\b\b\b\b\b\b\b\b\b\b\b\b\b\b\b\b\b\b\b\b\b\b\b\b\b\b\b\b\b\b\b\b\b\b\b\b\b\b\r 48/291 [===>..........................] - ETA: 1:00 - loss: 3.0440 - accuracy: 0.1270",
                    "output_type": "stream"
                },
                {
                    "name": "stdout",
                    "text": "\b\b\b\b\b\b\b\b\b\b\b\b\b\b\b\b\b\b\b\b\b\b\b\b\b\b\b\b\b\b\b\b\b\b\b\b\b\b\b\b\b\b\b\b\b\b\b\b\b\b\b\b\b\b\b\b\b\b\b\b\b\b\b\b\b\b\b\b\b\b\b\b\b\b\b\b\b\b\b\b\b\b\b\b\b\b\r 49/291 [====>.........................] - ETA: 59s - loss: 3.0388 - accuracy: 0.1285 ",
                    "output_type": "stream"
                },
                {
                    "name": "stdout",
                    "text": "\b\b\b\b\b\b\b\b\b\b\b\b\b\b\b\b\b\b\b\b\b\b\b\b\b\b\b\b\b\b\b\b\b\b\b\b\b\b\b\b\b\b\b\b\b\b\b\b\b\b\b\b\b\b\b\b\b\b\b\b\b\b\b\b\b\b\b\b\b\b\b\b\b\b\b\b\b\b\b\b\b\b\b\b\b\r 50/291 [====>.........................] - ETA: 59s - loss: 3.0414 - accuracy: 0.1291",
                    "output_type": "stream"
                },
                {
                    "name": "stdout",
                    "text": "\b\b\b\b\b\b\b\b\b\b\b\b\b\b\b\b\b\b\b\b\b\b\b\b\b\b\b\b\b\b\b\b\b\b\b\b\b\b\b\b\b\b\b\b\b\b\b\b\b\b\b\b\b\b\b\b\b\b\b\b\b\b\b\b\b\b\b\b\b\b\b\b\b\b\b\b\b\b\b\b\b\b\b\b\b\r 51/291 [====>.........................] - ETA: 59s - loss: 3.0373 - accuracy: 0.1299",
                    "output_type": "stream"
                },
                {
                    "name": "stdout",
                    "text": "\b\b\b\b\b\b\b\b\b\b\b\b\b\b\b\b\b\b\b\b\b\b\b\b\b\b\b\b\b\b\b\b\b\b\b\b\b\b\b\b\b\b\b\b\b\b\b\b\b\b\b\b\b\b\b\b\b\b\b\b\b\b\b\b\b\b\b\b\b\b\b\b\b\b\b\b\b\b\b\b\b\b\b\b\b\r 52/291 [====>.........................] - ETA: 59s - loss: 3.0407 - accuracy: 0.1310",
                    "output_type": "stream"
                },
                {
                    "name": "stdout",
                    "text": "\b\b\b\b\b\b\b\b\b\b\b\b\b\b\b\b\b\b\b\b\b\b\b\b\b\b\b\b\b\b\b\b\b\b\b\b\b\b\b\b\b\b\b\b\b\b\b\b\b\b\b\b\b\b\b\b\b\b\b\b\b\b\b\b\b\b\b\b\b\b\b\b\b\b\b\b\b\b\b\b\b\b\b\b\b\r 53/291 [====>.........................] - ETA: 58s - loss: 3.0408 - accuracy: 0.1318",
                    "output_type": "stream"
                },
                {
                    "name": "stdout",
                    "text": "\b\b\b\b\b\b\b\b\b\b\b\b\b\b\b\b\b\b\b\b\b\b\b\b\b\b\b\b\b\b\b\b\b\b\b\b\b\b\b\b\b\b\b\b\b\b\b\b\b\b\b\b\b\b\b\b\b\b\b\b\b\b\b\b\b\b\b\b\b\b\b\b\b\b\b\b\b\b\b\b\b\b\b\b\b\r 54/291 [====>.........................] - ETA: 58s - loss: 3.0411 - accuracy: 0.1322",
                    "output_type": "stream"
                },
                {
                    "name": "stdout",
                    "text": "\b\b\b\b\b\b\b\b\b\b\b\b\b\b\b\b\b\b\b\b\b\b\b\b\b\b\b\b\b\b\b\b\b\b\b\b\b\b\b\b\b\b\b\b\b\b\b\b\b\b\b\b\b\b\b\b\b\b\b\b\b\b\b\b\b\b\b\b\b\b\b\b\b\b\b\b\b\b\b\b\b\b\b\b\b\r 55/291 [====>.........................] - ETA: 58s - loss: 3.0379 - accuracy: 0.1335",
                    "output_type": "stream"
                },
                {
                    "name": "stdout",
                    "text": "\b\b\b\b\b\b\b\b\b\b\b\b\b\b\b\b\b\b\b\b\b\b\b\b\b\b\b\b\b\b\b\b\b\b\b\b\b\b\b\b\b\b\b\b\b\b\b\b\b\b\b\b\b\b\b\b\b\b\b\b\b\b\b\b\b\b\b\b\b\b\b\b\b\b\b\b\b\b\b\b\b\b\b\b\b\r 56/291 [====>.........................] - ETA: 58s - loss: 3.0383 - accuracy: 0.1331",
                    "output_type": "stream"
                },
                {
                    "name": "stdout",
                    "text": "\b\b\b\b\b\b\b\b\b\b\b\b\b\b\b\b\b\b\b\b\b\b\b\b\b\b\b\b\b\b\b\b\b\b\b\b\b\b\b\b\b\b\b\b\b\b\b\b\b\b\b\b\b\b\b\b\b\b\b\b\b\b\b\b\b\b\b\b\b\b\b\b\b\b\b\b\b\b\b\b\b\b\b\b\b\r 57/291 [====>.........................] - ETA: 58s - loss: 3.0368 - accuracy: 0.1324",
                    "output_type": "stream"
                },
                {
                    "name": "stdout",
                    "text": "\b\b\b\b\b\b\b\b\b\b\b\b\b\b\b\b\b\b\b\b\b\b\b\b\b\b\b\b\b\b\b\b\b\b\b\b\b\b\b\b\b\b\b\b\b\b\b\b\b\b\b\b\b\b\b\b\b\b\b\b\b\b\b\b\b\b\b\b\b\b\b\b\b\b\b\b\b\b\b\b\b\b\b\b\b\r 58/291 [====>.........................] - ETA: 58s - loss: 3.0356 - accuracy: 0.1320",
                    "output_type": "stream"
                },
                {
                    "name": "stdout",
                    "text": "\b\b\b\b\b\b\b\b\b\b\b\b\b\b\b\b\b\b\b\b\b\b\b\b\b\b\b\b\b\b\b\b\b\b\b\b\b\b\b\b\b\b\b\b\b\b\b\b\b\b\b\b\b\b\b\b\b\b\b\b\b\b\b\b\b\b\b\b\b\b\b\b\b\b\b\b\b\b\b\b\b\b\b\b\b\r 59/291 [=====>........................] - ETA: 58s - loss: 3.0314 - accuracy: 0.1324",
                    "output_type": "stream"
                },
                {
                    "name": "stdout",
                    "text": "\b\b\b\b\b\b\b\b\b\b\b\b\b\b\b\b\b\b\b\b\b\b\b\b\b\b\b\b\b\b\b\b\b\b\b\b\b\b\b\b\b\b\b\b\b\b\b\b\b\b\b\b\b\b\b\b\b\b\b\b\b\b\b\b\b\b\b\b\b\b\b\b\b\b\b\b\b\b\b\b\b\b\b\b\b\r 60/291 [=====>........................] - ETA: 57s - loss: 3.0303 - accuracy: 0.1328",
                    "output_type": "stream"
                },
                {
                    "name": "stdout",
                    "text": "\b\b\b\b\b\b\b\b\b\b\b\b\b\b\b\b\b\b\b\b\b\b\b\b\b\b\b\b\b\b\b\b\b\b\b\b\b\b\b\b\b\b\b\b\b\b\b\b\b\b\b\b\b\b\b\b\b\b\b\b\b\b\b\b\b\b\b\b\b\b\b\b\b\b\b\b\b\b\b\b\b\b\b\b\b\r 61/291 [=====>........................] - ETA: 57s - loss: 3.0341 - accuracy: 0.1319",
                    "output_type": "stream"
                },
                {
                    "name": "stdout",
                    "text": "\b\b\b\b\b\b\b\b\b\b\b\b\b\b\b\b\b\b\b\b\b\b\b\b\b\b\b\b\b\b\b\b\b\b\b\b\b\b\b\b\b\b\b\b\b\b\b\b\b\b\b\b\b\b\b\b\b\b\b\b\b\b\b\b\b\b\b\b\b\b\b\b\b\b\b\b\b\b\b\b\b\b\b\b\b\r 62/291 [=====>........................] - ETA: 57s - loss: 3.0335 - accuracy: 0.1310",
                    "output_type": "stream"
                },
                {
                    "name": "stdout",
                    "text": "\b\b\b\b\b\b\b\b\b\b\b\b\b\b\b\b\b\b\b\b\b\b\b\b\b\b\b\b\b\b\b\b\b\b\b\b\b\b\b\b\b\b\b\b\b\b\b\b\b\b\b\b\b\b\b\b\b\b\b\b\b\b\b\b\b\b\b\b\b\b\b\b\b\b\b\b\b\b\b\b\b\b\b\b\b\r 63/291 [=====>........................] - ETA: 57s - loss: 3.0365 - accuracy: 0.1307",
                    "output_type": "stream"
                },
                {
                    "name": "stdout",
                    "text": "\b\b\b\b\b\b\b\b\b\b\b\b\b\b\b\b\b\b\b\b\b\b\b\b\b\b\b\b\b\b\b\b\b\b\b\b\b\b\b\b\b\b\b\b\b\b\b\b\b\b\b\b\b\b\b\b\b\b\b\b\b\b\b\b\b\b\b\b\b\b\b\b\b\b\b\b\b\b\b\b\b\b\b\b\b\r 64/291 [=====>........................] - ETA: 57s - loss: 3.0367 - accuracy: 0.1311",
                    "output_type": "stream"
                },
                {
                    "name": "stdout",
                    "text": "\b\b\b\b\b\b\b\b\b\b\b\b\b\b\b\b\b\b\b\b\b\b\b\b\b\b\b\b\b\b\b\b\b\b\b\b\b\b\b\b\b\b\b\b\b\b\b\b\b\b\b\b\b\b\b\b\b\b\b\b\b\b\b\b\b\b\b\b\b\b\b\b\b\b\b\b\b\b\b\b\b\b\b\b\b\r 65/291 [=====>........................] - ETA: 56s - loss: 3.0380 - accuracy: 0.1303",
                    "output_type": "stream"
                },
                {
                    "name": "stdout",
                    "text": "\b\b\b\b\b\b\b\b\b\b\b\b\b\b\b\b\b\b\b\b\b\b\b\b\b\b\b\b\b\b\b\b\b\b\b\b\b\b\b\b\b\b\b\b\b\b\b\b\b\b\b\b\b\b\b\b\b\b\b\b\b\b\b\b\b\b\b\b\b\b\b\b\b\b\b\b\b\b\b\b\b\b\b\b\b\r 66/291 [=====>........................] - ETA: 56s - loss: 3.0360 - accuracy: 0.1300",
                    "output_type": "stream"
                },
                {
                    "name": "stdout",
                    "text": "\b\b\b\b\b\b\b\b\b\b\b\b\b\b\b\b\b\b\b\b\b\b\b\b\b\b\b\b\b\b\b\b\b\b\b\b\b\b\b\b\b\b\b\b\b\b\b\b\b\b\b\b\b\b\b\b\b\b\b\b\b\b\b\b\b\b\b\b\b\b\b\b\b\b\b\b\b\b\b\b\b\b\b\b\b\r 67/291 [=====>........................] - ETA: 56s - loss: 3.0343 - accuracy: 0.1290",
                    "output_type": "stream"
                },
                {
                    "name": "stdout",
                    "text": "\b\b\b\b\b\b\b\b\b\b\b\b\b\b\b\b\b\b\b\b\b\b\b\b\b\b\b\b\b\b\b\b\b\b\b\b\b\b\b\b\b\b\b\b\b\b\b\b\b\b\b\b\b\b\b\b\b\b\b\b\b\b\b\b\b\b\b\b\b\b\b\b\b\b\b\b\b\b\b\b\b\b\b\b\b\r 68/291 [======>.......................] - ETA: 56s - loss: 3.0339 - accuracy: 0.1287",
                    "output_type": "stream"
                },
                {
                    "name": "stdout",
                    "text": "\b\b\b\b\b\b\b\b\b\b\b\b\b\b\b\b\b\b\b\b\b\b\b\b\b\b\b\b\b\b\b\b\b\b\b\b\b\b\b\b\b\b\b\b\b\b\b\b\b\b\b\b\b\b\b\b\b\b\b\b\b\b\b\b\b\b\b\b\b\b\b\b\b\b\b\b\b\b\b\b\b\b\b\b\b\r 69/291 [======>.......................] - ETA: 55s - loss: 3.0303 - accuracy: 0.1279",
                    "output_type": "stream"
                },
                {
                    "name": "stdout",
                    "text": "\b\b\b\b\b\b\b\b\b\b\b\b\b\b\b\b\b\b\b\b\b\b\b\b\b\b\b\b\b\b\b\b\b\b\b\b\b\b\b\b\b\b\b\b\b\b\b\b\b\b\b\b\b\b\b\b\b\b\b\b\b\b\b\b\b\b\b\b\b\b\b\b\b\b\b\b\b\b\b\b\b\b\b\b\b\r 70/291 [======>.......................] - ETA: 55s - loss: 3.0301 - accuracy: 0.1275",
                    "output_type": "stream"
                },
                {
                    "name": "stdout",
                    "text": "\b\b\b\b\b\b\b\b\b\b\b\b\b\b\b\b\b\b\b\b\b\b\b\b\b\b\b\b\b\b\b\b\b\b\b\b\b\b\b\b\b\b\b\b\b\b\b\b\b\b\b\b\b\b\b\b\b\b\b\b\b\b\b\b\b\b\b\b\b\b\b\b\b\b\b\b\b\b\b\b\b\b\b\b\b\r 71/291 [======>.......................] - ETA: 55s - loss: 3.0294 - accuracy: 0.1272",
                    "output_type": "stream"
                },
                {
                    "name": "stdout",
                    "text": "\b\b\b\b\b\b\b\b\b\b\b\b\b\b\b\b\b\b\b\b\b\b\b\b\b\b\b\b\b\b\b\b\b\b\b\b\b\b\b\b\b\b\b\b\b\b\b\b\b\b\b\b\b\b\b\b\b\b\b\b\b\b\b\b\b\b\b\b\b\b\b\b\b\b\b\b\b\b\b\b\b\b\b\b\b\r 72/291 [======>.......................] - ETA: 55s - loss: 3.0273 - accuracy: 0.1265",
                    "output_type": "stream"
                },
                {
                    "name": "stdout",
                    "text": "\b\b\b\b\b\b\b\b\b\b\b\b\b\b\b\b\b\b\b\b\b\b\b\b\b\b\b\b\b\b\b\b\b\b\b\b\b\b\b\b\b\b\b\b\b\b\b\b\b\b\b\b\b\b\b\b\b\b\b\b\b\b\b\b\b\b\b\b\b\b\b\b\b\b\b\b\b\b\b\b\b\b\b\b\b\r 73/291 [======>.......................] - ETA: 54s - loss: 3.0289 - accuracy: 0.1265",
                    "output_type": "stream"
                },
                {
                    "name": "stdout",
                    "text": "\b\b\b\b\b\b\b\b\b\b\b\b\b\b\b\b\b\b\b\b\b\b\b\b\b\b\b\b\b\b\b\b\b\b\b\b\b\b\b\b\b\b\b\b\b\b\b\b\b\b\b\b\b\b\b\b\b\b\b\b\b\b\b\b\b\b\b\b\b\b\b\b\b\b\b\b\b\b\b\b\b\b\b\b\b\r 74/291 [======>.......................] - ETA: 54s - loss: 3.0258 - accuracy: 0.1256",
                    "output_type": "stream"
                },
                {
                    "name": "stdout",
                    "text": "\b\b\b\b\b\b\b\b\b\b\b\b\b\b\b\b\b\b\b\b\b\b\b\b\b\b\b\b\b\b\b\b\b\b\b\b\b\b\b\b\b\b\b\b\b\b\b\b\b\b\b\b\b\b\b\b\b\b\b\b\b\b\b\b\b\b\b\b\b\b\b\b\b\b\b\b\b\b\b\b\b\b\b\b\b\r 75/291 [======>.......................] - ETA: 54s - loss: 3.0279 - accuracy: 0.1260",
                    "output_type": "stream"
                },
                {
                    "name": "stdout",
                    "text": "\b\b\b\b\b\b\b\b\b\b\b\b\b\b\b\b\b\b\b\b\b\b\b\b\b\b\b\b\b\b\b\b\b\b\b\b\b\b\b\b\b\b\b\b\b\b\b\b\b\b\b\b\b\b\b\b\b\b\b\b\b\b\b\b\b\b\b\b\b\b\b\b\b\b\b\b\b\b\b\b\b\b\b\b\b\r 76/291 [======>.......................] - ETA: 54s - loss: 3.0275 - accuracy: 0.1266",
                    "output_type": "stream"
                },
                {
                    "name": "stdout",
                    "text": "\b\b\b\b\b\b\b\b\b\b\b\b\b\b\b\b\b\b\b\b\b\b\b\b\b\b\b\b\b\b\b\b\b\b\b\b\b\b\b\b\b\b\b\b\b\b\b\b\b\b\b\b\b\b\b\b\b\b\b\b\b\b\b\b\b\b\b\b\b\b\b\b\b\b\b\b\b\b\b\b\b\b\b\b\b\r 77/291 [======>.......................] - ETA: 53s - loss: 3.0271 - accuracy: 0.1274",
                    "output_type": "stream"
                },
                {
                    "name": "stdout",
                    "text": "\b\b\b\b\b\b\b\b\b\b\b\b\b\b\b\b\b\b\b\b\b\b\b\b\b\b\b\b\b\b\b\b\b\b\b\b\b\b\b\b\b\b\b\b\b\b\b\b\b\b\b\b\b\b\b\b\b\b\b\b\b\b\b\b\b\b\b\b\b\b\b\b\b\b\b\b\b\b\b\b\b\b\b\b\b\r 78/291 [=======>......................] - ETA: 53s - loss: 3.0279 - accuracy: 0.1278",
                    "output_type": "stream"
                },
                {
                    "name": "stdout",
                    "text": "\b\b\b\b\b\b\b\b\b\b\b\b\b\b\b\b\b\b\b\b\b\b\b\b\b\b\b\b\b\b\b\b\b\b\b\b\b\b\b\b\b\b\b\b\b\b\b\b\b\b\b\b\b\b\b\b\b\b\b\b\b\b\b\b\b\b\b\b\b\b\b\b\b\b\b\b\b\b\b\b\b\b\b\b\b\r 79/291 [=======>......................] - ETA: 53s - loss: 3.0297 - accuracy: 0.1278",
                    "output_type": "stream"
                },
                {
                    "name": "stdout",
                    "text": "\b\b\b\b\b\b\b\b\b\b\b\b\b\b\b\b\b\b\b\b\b\b\b\b\b\b\b\b\b\b\b\b\b\b\b\b\b\b\b\b\b\b\b\b\b\b\b\b\b\b\b\b\b\b\b\b\b\b\b\b\b\b\b\b\b\b\b\b\b\b\b\b\b\b\b\b\b\b\b\b\b\b\b\b\b\r 80/291 [=======>......................] - ETA: 53s - loss: 3.0292 - accuracy: 0.1287",
                    "output_type": "stream"
                },
                {
                    "name": "stdout",
                    "text": "\b\b\b\b\b\b\b\b\b\b\b\b\b\b\b\b\b\b\b\b\b\b\b\b\b\b\b\b\b\b\b\b\b\b\b\b\b\b\b\b\b\b\b\b\b\b\b\b\b\b\b\b\b\b\b\b\b\b\b\b\b\b\b\b\b\b\b\b\b\b\b\b\b\b\b\b\b\b\b\b\b\b\b\b\b\r 81/291 [=======>......................] - ETA: 52s - loss: 3.0315 - accuracy: 0.1285",
                    "output_type": "stream"
                },
                {
                    "name": "stdout",
                    "text": "\b\b\b\b\b\b\b\b\b\b\b\b\b\b\b\b\b\b\b\b\b\b\b\b\b\b\b\b\b\b\b\b\b\b\b\b\b\b\b\b\b\b\b\b\b\b\b\b\b\b\b\b\b\b\b\b\b\b\b\b\b\b\b\b\b\b\b\b\b\b\b\b\b\b\b\b\b\b\b\b\b\b\b\b\b\r 82/291 [=======>......................] - ETA: 52s - loss: 3.0309 - accuracy: 0.1290",
                    "output_type": "stream"
                },
                {
                    "name": "stdout",
                    "text": "\b\b\b\b\b\b\b\b\b\b\b\b\b\b\b\b\b\b\b\b\b\b\b\b\b\b\b\b\b\b\b\b\b\b\b\b\b\b\b\b\b\b\b\b\b\b\b\b\b\b\b\b\b\b\b\b\b\b\b\b\b\b\b\b\b\b\b\b\b\b\b\b\b\b\b\b\b\b\b\b\b\b\b\b\b\r 83/291 [=======>......................] - ETA: 52s - loss: 3.0307 - accuracy: 0.1284",
                    "output_type": "stream"
                },
                {
                    "name": "stdout",
                    "text": "\b\b\b\b\b\b\b\b\b\b\b\b\b\b\b\b\b\b\b\b\b\b\b\b\b\b\b\b\b\b\b\b\b\b\b\b\b\b\b\b\b\b\b\b\b\b\b\b\b\b\b\b\b\b\b\b\b\b\b\b\b\b\b\b\b\b\b\b\b\b\b\b\b\b\b\b\b\b\b\b\b\b\b\b\b\r 84/291 [=======>......................] - ETA: 52s - loss: 3.0315 - accuracy: 0.1280",
                    "output_type": "stream"
                },
                {
                    "name": "stdout",
                    "text": "\b\b\b\b\b\b\b\b\b\b\b\b\b\b\b\b\b\b\b\b\b\b\b\b\b\b\b\b\b\b\b\b\b\b\b\b\b\b\b\b\b\b\b\b\b\b\b\b\b\b\b\b\b\b\b\b\b\b\b\b\b\b\b\b\b\b\b\b\b\b\b\b\b\b\b\b\b\b\b\b\b\b\b\b\b\r 85/291 [=======>......................] - ETA: 51s - loss: 3.0333 - accuracy: 0.1272",
                    "output_type": "stream"
                },
                {
                    "name": "stdout",
                    "text": "\b\b\b\b\b\b\b\b\b\b\b\b\b\b\b\b\b\b\b\b\b\b\b\b\b\b\b\b\b\b\b\b\b\b\b\b\b\b\b\b\b\b\b\b\b\b\b\b\b\b\b\b\b\b\b\b\b\b\b\b\b\b\b\b\b\b\b\b\b\b\b\b\b\b\b\b\b\b\b\b\b\b\b\b\b\r 86/291 [=======>......................] - ETA: 51s - loss: 3.0346 - accuracy: 0.1270",
                    "output_type": "stream"
                },
                {
                    "name": "stdout",
                    "text": "\b\b\b\b\b\b\b\b\b\b\b\b\b\b\b\b\b\b\b\b\b\b\b\b\b\b\b\b\b\b\b\b\b\b\b\b\b\b\b\b\b\b\b\b\b\b\b\b\b\b\b\b\b\b\b\b\b\b\b\b\b\b\b\b\b\b\b\b\b\b\b\b\b\b\b\b\b\b\b\b\b\b\b\b\b\r 87/291 [=======>......................] - ETA: 51s - loss: 3.0352 - accuracy: 0.1277",
                    "output_type": "stream"
                },
                {
                    "name": "stdout",
                    "text": "\b\b\b\b\b\b\b\b\b\b\b\b\b\b\b\b\b\b\b\b\b\b\b\b\b\b\b\b\b\b\b\b\b\b\b\b\b\b\b\b\b\b\b\b\b\b\b\b\b\b\b\b\b\b\b\b\b\b\b\b\b\b\b\b\b\b\b\b\b\b\b\b\b\b\b\b\b\b\b\b\b\b\b\b\b\r 88/291 [========>.....................] - ETA: 50s - loss: 3.0360 - accuracy: 0.1271",
                    "output_type": "stream"
                },
                {
                    "name": "stdout",
                    "text": "\b\b\b\b\b\b\b\b\b\b\b\b\b\b\b\b\b\b\b\b\b\b\b\b\b\b\b\b\b\b\b\b\b\b\b\b\b\b\b\b\b\b\b\b\b\b\b\b\b\b\b\b\b\b\b\b\b\b\b\b\b\b\b\b\b\b\b\b\b\b\b\b\b\b\b\b\b\b\b\b\b\b\b\b\b\r 89/291 [========>.....................] - ETA: 50s - loss: 3.0349 - accuracy: 0.1273",
                    "output_type": "stream"
                },
                {
                    "name": "stdout",
                    "text": "\b\b\b\b\b\b\b\b\b\b\b\b\b\b\b\b\b\b\b\b\b\b\b\b\b\b\b\b\b\b\b\b\b\b\b\b\b\b\b\b\b\b\b\b\b\b\b\b\b\b\b\b\b\b\b\b\b\b\b\b\b\b\b\b\b\b\b\b\b\b\b\b\b\b\b\b\b\b\b\b\b\b\b\b\b\r 90/291 [========>.....................] - ETA: 50s - loss: 3.0342 - accuracy: 0.1276",
                    "output_type": "stream"
                },
                {
                    "name": "stdout",
                    "text": "\b\b\b\b\b\b\b\b\b\b\b\b\b\b\b\b\b\b\b\b\b\b\b\b\b\b\b\b\b\b\b\b\b\b\b\b\b\b\b\b\b\b\b\b\b\b\b\b\b\b\b\b\b\b\b\b\b\b\b\b\b\b\b\b\b\b\b\b\b\b\b\b\b\b\b\b\b\b\b\b\b\b\b\b\b\r 91/291 [========>.....................] - ETA: 50s - loss: 3.0340 - accuracy: 0.1276",
                    "output_type": "stream"
                },
                {
                    "name": "stdout",
                    "text": "\b\b\b\b\b\b\b\b\b\b\b\b\b\b\b\b\b\b\b\b\b\b\b\b\b\b\b\b\b\b\b\b\b\b\b\b\b\b\b\b\b\b\b\b\b\b\b\b\b\b\b\b\b\b\b\b\b\b\b\b\b\b\b\b\b\b\b\b\b\b\b\b\b\b\b\b\b\b\b\b\b\b\b\b\b\r 92/291 [========>.....................] - ETA: 50s - loss: 3.0329 - accuracy: 0.1277",
                    "output_type": "stream"
                },
                {
                    "name": "stdout",
                    "text": "\b\b\b\b\b\b\b\b\b\b\b\b\b\b\b\b\b\b\b\b\b\b\b\b\b\b\b\b\b\b\b\b\b\b\b\b\b\b\b\b\b\b\b\b\b\b\b\b\b\b\b\b\b\b\b\b\b\b\b\b\b\b\b\b\b\b\b\b\b\b\b\b\b\b\b\b\b\b\b\b\b\b\b\b\b\r 93/291 [========>.....................] - ETA: 49s - loss: 3.0324 - accuracy: 0.1267",
                    "output_type": "stream"
                },
                {
                    "name": "stdout",
                    "text": "\b\b\b\b\b\b\b\b\b\b\b\b\b\b\b\b\b\b\b\b\b\b\b\b\b\b\b\b\b\b\b\b\b\b\b\b\b\b\b\b\b\b\b\b\b\b\b\b\b\b\b\b\b\b\b\b\b\b\b\b\b\b\b\b\b\b\b\b\b\b\b\b\b\b\b\b\b\b\b\b\b\b\b\b\b\r 94/291 [========>.....................] - ETA: 49s - loss: 3.0317 - accuracy: 0.1265",
                    "output_type": "stream"
                },
                {
                    "name": "stdout",
                    "text": "\b\b\b\b\b\b\b\b\b\b\b\b\b\b\b\b\b\b\b\b\b\b\b\b\b\b\b\b\b\b\b\b\b\b\b\b\b\b\b\b\b\b\b\b\b\b\b\b\b\b\b\b\b\b\b\b\b\b\b\b\b\b\b\b\b\b\b\b\b\b\b\b\b\b\b\b\b\b\b\b\b\b\b\b\b\r 95/291 [========>.....................] - ETA: 49s - loss: 3.0311 - accuracy: 0.1263",
                    "output_type": "stream"
                },
                {
                    "name": "stdout",
                    "text": "\b\b\b\b\b\b\b\b\b\b\b\b\b\b\b\b\b\b\b\b\b\b\b\b\b\b\b\b\b\b\b\b\b\b\b\b\b\b\b\b\b\b\b\b\b\b\b\b\b\b\b\b\b\b\b\b\b\b\b\b\b\b\b\b\b\b\b\b\b\b\b\b\b\b\b\b\b\b\b\b\b\b\b\b\b\r 96/291 [========>.....................] - ETA: 49s - loss: 3.0295 - accuracy: 0.1265",
                    "output_type": "stream"
                },
                {
                    "name": "stdout",
                    "text": "\b\b\b\b\b\b\b\b\b\b\b\b\b\b\b\b\b\b\b\b\b\b\b\b\b\b\b\b\b\b\b\b\b\b\b\b\b\b\b\b\b\b\b\b\b\b\b\b\b\b\b\b\b\b\b\b\b\b\b\b\b\b\b\b\b\b\b\b\b\b\b\b\b\b\b\b\b\b\b\b\b\b\b\b\b\r 97/291 [=========>....................] - ETA: 49s - loss: 3.0274 - accuracy: 0.1264",
                    "output_type": "stream"
                },
                {
                    "name": "stdout",
                    "text": "\b\b\b\b\b\b\b\b\b\b\b\b\b\b\b\b\b\b\b\b\b\b\b\b\b\b\b\b\b\b\b\b\b\b\b\b\b\b\b\b\b\b\b\b\b\b\b\b\b\b\b\b\b\b\b\b\b\b\b\b\b\b\b\b\b\b\b\b\b\b\b\b\b\b\b\b\b\b\b\b\b\b\b\b\b\r 98/291 [=========>....................] - ETA: 48s - loss: 3.0264 - accuracy: 0.1266",
                    "output_type": "stream"
                },
                {
                    "name": "stdout",
                    "text": "\b\b\b\b\b\b\b\b\b\b\b\b\b\b\b\b\b\b\b\b\b\b\b\b\b\b\b\b\b\b\b\b\b\b\b\b\b\b\b\b\b\b\b\b\b\b\b\b\b\b\b\b\b\b\b\b\b\b\b\b\b\b\b\b\b\b\b\b\b\b\b\b\b\b\b\b\b\b\b\b\b\b\b\b\b\r 99/291 [=========>....................] - ETA: 48s - loss: 3.0292 - accuracy: 0.1272",
                    "output_type": "stream"
                },
                {
                    "name": "stdout",
                    "text": "\b\b\b\b\b\b\b\b\b\b\b\b\b\b\b\b\b\b\b\b\b\b\b\b\b\b\b\b\b\b\b\b\b\b\b\b\b\b\b\b\b\b\b\b\b\b\b\b\b\b\b\b\b\b\b\b\b\b\b\b\b\b\b\b\b\b\b\b\b\b\b\b\b\b\b\b\b\b\b\b\b\b\b\b\b\r100/291 [=========>....................] - ETA: 48s - loss: 3.0286 - accuracy: 0.1272",
                    "output_type": "stream"
                },
                {
                    "name": "stdout",
                    "text": "\b\b\b\b\b\b\b\b\b\b\b\b\b\b\b\b\b\b\b\b\b\b\b\b\b\b\b\b\b\b\b\b\b\b\b\b\b\b\b\b\b\b\b\b\b\b\b\b\b\b\b\b\b\b\b\b\b\b\b\b\b\b\b\b\b\b\b\b\b\b\b\b\b\b\b\b\b\b\b\b\b\b\b\b\b\r101/291 [=========>....................] - ETA: 48s - loss: 3.0274 - accuracy: 0.1270",
                    "output_type": "stream"
                },
                {
                    "name": "stdout",
                    "text": "\b\b\b\b\b\b\b\b\b\b\b\b\b\b\b\b\b\b\b\b\b\b\b\b\b\b\b\b\b\b\b\b\b\b\b\b\b\b\b\b\b\b\b\b\b\b\b\b\b\b\b\b\b\b\b\b\b\b\b\b\b\b\b\b\b\b\b\b\b\b\b\b\b\b\b\b\b\b\b\b\b\b\b\b\b\r102/291 [=========>....................] - ETA: 48s - loss: 3.0263 - accuracy: 0.1273",
                    "output_type": "stream"
                },
                {
                    "name": "stdout",
                    "text": "\b\b\b\b\b\b\b\b\b\b\b\b\b\b\b\b\b\b\b\b\b\b\b\b\b\b\b\b\b\b\b\b\b\b\b\b\b\b\b\b\b\b\b\b\b\b\b\b\b\b\b\b\b\b\b\b\b\b\b\b\b\b\b\b\b\b\b\b\b\b\b\b\b\b\b\b\b\b\b\b\b\b\b\b\b\r103/291 [=========>....................] - ETA: 47s - loss: 3.0240 - accuracy: 0.1267",
                    "output_type": "stream"
                },
                {
                    "name": "stdout",
                    "text": "\b\b\b\b\b\b\b\b\b\b\b\b\b\b\b\b\b\b\b\b\b\b\b\b\b\b\b\b\b\b\b\b\b\b\b\b\b\b\b\b\b\b\b\b\b\b\b\b\b\b\b\b\b\b\b\b\b\b\b\b\b\b\b\b\b\b\b\b\b\b\b\b\b\b\b\b\b\b\b\b\b\b\b\b\b\r104/291 [=========>....................] - ETA: 47s - loss: 3.0219 - accuracy: 0.1276",
                    "output_type": "stream"
                },
                {
                    "name": "stdout",
                    "text": "\b\b\b\b\b\b\b\b\b\b\b\b\b\b\b\b\b\b\b\b\b\b\b\b\b\b\b\b\b\b\b\b\b\b\b\b\b\b\b\b\b\b\b\b\b\b\b\b\b\b\b\b\b\b\b\b\b\b\b\b\b\b\b\b\b\b\b\b\b\b\b\b\b\b\b\b\b\b\b\b\b\b\b\b\b\r105/291 [=========>....................] - ETA: 47s - loss: 3.0205 - accuracy: 0.1274",
                    "output_type": "stream"
                },
                {
                    "name": "stdout",
                    "text": "\b\b\b\b\b\b\b\b\b\b\b\b\b\b\b\b\b\b\b\b\b\b\b\b\b\b\b\b\b\b\b\b\b\b\b\b\b\b\b\b\b\b\b\b\b\b\b\b\b\b\b\b\b\b\b\b\b\b\b\b\b\b\b\b\b\b\b\b\b\b\b\b\b\b\b\b\b\b\b\b\b\b\b\b\b\r106/291 [=========>....................] - ETA: 47s - loss: 3.0245 - accuracy: 0.1271",
                    "output_type": "stream"
                },
                {
                    "name": "stdout",
                    "text": "\b\b\b\b\b\b\b\b\b\b\b\b\b\b\b\b\b\b\b\b\b\b\b\b\b\b\b\b\b\b\b\b\b\b\b\b\b\b\b\b\b\b\b\b\b\b\b\b\b\b\b\b\b\b\b\b\b\b\b\b\b\b\b\b\b\b\b\b\b\b\b\b\b\b\b\b\b\b\b\b\b\b\b\b\b\r107/291 [==========>...................] - ETA: 46s - loss: 3.0240 - accuracy: 0.1265",
                    "output_type": "stream"
                },
                {
                    "name": "stdout",
                    "text": "\b\b\b\b\b\b\b\b\b\b\b\b\b\b\b\b\b\b\b\b\b\b\b\b\b\b\b\b\b\b\b\b\b\b\b\b\b\b\b\b\b\b\b\b\b\b\b\b\b\b\b\b\b\b\b\b\b\b\b\b\b\b\b\b\b\b\b\b\b\b\b\b\b\b\b\b\b\b\b\b\b\b\b\b\b\r108/291 [==========>...................] - ETA: 46s - loss: 3.0226 - accuracy: 0.1277",
                    "output_type": "stream"
                },
                {
                    "name": "stdout",
                    "text": "\b\b\b\b\b\b\b\b\b\b\b\b\b\b\b\b\b\b\b\b\b\b\b\b\b\b\b\b\b\b\b\b\b\b\b\b\b\b\b\b\b\b\b\b\b\b\b\b\b\b\b\b\b\b\b\b\b\b\b\b\b\b\b\b\b\b\b\b\b\b\b\b\b\b\b\b\b\b\b\b\b\b\b\b\b\r109/291 [==========>...................] - ETA: 46s - loss: 3.0225 - accuracy: 0.1283",
                    "output_type": "stream"
                },
                {
                    "name": "stdout",
                    "text": "\b\b\b\b\b\b\b\b\b\b\b\b\b\b\b\b\b\b\b\b\b\b\b\b\b\b\b\b\b\b\b\b\b\b\b\b\b\b\b\b\b\b\b\b\b\b\b\b\b\b\b\b\b\b\b\b\b\b\b\b\b\b\b\b\b\b\b\b\b\b\b\b\b\b\b\b\b\b\b\b\b\b\b\b\b\r110/291 [==========>...................] - ETA: 46s - loss: 3.0240 - accuracy: 0.1283",
                    "output_type": "stream"
                },
                {
                    "name": "stdout",
                    "text": "\b\b\b\b\b\b\b\b\b\b\b\b\b\b\b\b\b\b\b\b\b\b\b\b\b\b\b\b\b\b\b\b\b\b\b\b\b\b\b\b\b\b\b\b\b\b\b\b\b\b\b\b\b\b\b\b\b\b\b\b\b\b\b\b\b\b\b\b\b\b\b\b\b\b\b\b\b\b\b\b\b\b\b\b\b\r111/291 [==========>...................] - ETA: 45s - loss: 3.0269 - accuracy: 0.1282",
                    "output_type": "stream"
                },
                {
                    "name": "stdout",
                    "text": "\b\b\b\b\b\b\b\b\b\b\b\b\b\b\b\b\b\b\b\b\b\b\b\b\b\b\b\b\b\b\b\b\b\b\b\b\b\b\b\b\b\b\b\b\b\b\b\b\b\b\b\b\b\b\b\b\b\b\b\b\b\b\b\b\b\b\b\b\b\b\b\b\b\b\b\b\b\b\b\b\b\b\b\b\b\r112/291 [==========>...................] - ETA: 45s - loss: 3.0260 - accuracy: 0.1282",
                    "output_type": "stream"
                },
                {
                    "name": "stdout",
                    "text": "\b\b\b\b\b\b\b\b\b\b\b\b\b\b\b\b\b\b\b\b\b\b\b\b\b\b\b\b\b\b\b\b\b\b\b\b\b\b\b\b\b\b\b\b\b\b\b\b\b\b\b\b\b\b\b\b\b\b\b\b\b\b\b\b\b\b\b\b\b\b\b\b\b\b\b\b\b\b\b\b\b\b\b\b\b\r113/291 [==========>...................] - ETA: 45s - loss: 3.0251 - accuracy: 0.1289",
                    "output_type": "stream"
                },
                {
                    "name": "stdout",
                    "text": "\b\b\b\b\b\b\b\b\b\b\b\b\b\b\b\b\b\b\b\b\b\b\b\b\b\b\b\b\b\b\b\b\b\b\b\b\b\b\b\b\b\b\b\b\b\b\b\b\b\b\b\b\b\b\b\b\b\b\b\b\b\b\b\b\b\b\b\b\b\b\b\b\b\b\b\b\b\b\b\b\b\b\b\b\b\r114/291 [==========>...................] - ETA: 45s - loss: 3.0245 - accuracy: 0.1294",
                    "output_type": "stream"
                },
                {
                    "name": "stdout",
                    "text": "\b\b\b\b\b\b\b\b\b\b\b\b\b\b\b\b\b\b\b\b\b\b\b\b\b\b\b\b\b\b\b\b\b\b\b\b\b\b\b\b\b\b\b\b\b\b\b\b\b\b\b\b\b\b\b\b\b\b\b\b\b\b\b\b\b\b\b\b\b\b\b\b\b\b\b\b\b\b\b\b\b\b\b\b\b\r115/291 [==========>...................] - ETA: 44s - loss: 3.0249 - accuracy: 0.1296",
                    "output_type": "stream"
                },
                {
                    "name": "stdout",
                    "text": "\b\b\b\b\b\b\b\b\b\b\b\b\b\b\b\b\b\b\b\b\b\b\b\b\b\b\b\b\b\b\b\b\b\b\b\b\b\b\b\b\b\b\b\b\b\b\b\b\b\b\b\b\b\b\b\b\b\b\b\b\b\b\b\b\b\b\b\b\b\b\b\b\b\b\b\b\b\b\b\b\b\b\b\b\b\r116/291 [==========>...................] - ETA: 44s - loss: 3.0254 - accuracy: 0.1298",
                    "output_type": "stream"
                },
                {
                    "name": "stdout",
                    "text": "\b\b\b\b\b\b\b\b\b\b\b\b\b\b\b\b\b\b\b\b\b\b\b\b\b\b\b\b\b\b\b\b\b\b\b\b\b\b\b\b\b\b\b\b\b\b\b\b\b\b\b\b\b\b\b\b\b\b\b\b\b\b\b\b\b\b\b\b\b\b\b\b\b\b\b\b\b\b\b\b\b\b\b\b\b\r117/291 [===========>..................] - ETA: 44s - loss: 3.0256 - accuracy: 0.1295",
                    "output_type": "stream"
                },
                {
                    "name": "stdout",
                    "text": "\b\b\b\b\b\b\b\b\b\b\b\b\b\b\b\b\b\b\b\b\b\b\b\b\b\b\b\b\b\b\b\b\b\b\b\b\b\b\b\b\b\b\b\b\b\b\b\b\b\b\b\b\b\b\b\b\b\b\b\b\b\b\b\b\b\b\b\b\b\b\b\b\b\b\b\b\b\b\b\b\b\b\b\b\b\r118/291 [===========>..................] - ETA: 44s - loss: 3.0253 - accuracy: 0.1298",
                    "output_type": "stream"
                },
                {
                    "name": "stdout",
                    "text": "\b\b\b\b\b\b\b\b\b\b\b\b\b\b\b\b\b\b\b\b\b\b\b\b\b\b\b\b\b\b\b\b\b\b\b\b\b\b\b\b\b\b\b\b\b\b\b\b\b\b\b\b\b\b\b\b\b\b\b\b\b\b\b\b\b\b\b\b\b\b\b\b\b\b\b\b\b\b\b\b\b\b\b\b\b\r119/291 [===========>..................] - ETA: 44s - loss: 3.0264 - accuracy: 0.1299",
                    "output_type": "stream"
                },
                {
                    "name": "stdout",
                    "text": "\b\b\b\b\b\b\b\b\b\b\b\b\b\b\b\b\b\b\b\b\b\b\b\b\b\b\b\b\b\b\b\b\b\b\b\b\b\b\b\b\b\b\b\b\b\b\b\b\b\b\b\b\b\b\b\b\b\b\b\b\b\b\b\b\b\b\b\b\b\b\b\b\b\b\b\b\b\b\b\b\b\b\b\b\b\r120/291 [===========>..................] - ETA: 44s - loss: 3.0270 - accuracy: 0.1298",
                    "output_type": "stream"
                },
                {
                    "name": "stdout",
                    "text": "\b\b\b\b\b\b\b\b\b\b\b\b\b\b\b\b\b\b\b\b\b\b\b\b\b\b\b\b\b\b\b\b\b\b\b\b\b\b\b\b\b\b\b\b\b\b\b\b\b\b\b\b\b\b\b\b\b\b\b\b\b\b\b\b\b\b\b\b\b\b\b\b\b\b\b\b\b\b\b\b\b\b\b\b\b\r121/291 [===========>..................] - ETA: 44s - loss: 3.0250 - accuracy: 0.1304",
                    "output_type": "stream"
                },
                {
                    "name": "stdout",
                    "text": "\b\b\b\b\b\b\b\b\b\b\b\b\b\b\b\b\b\b\b\b\b\b\b\b\b\b\b\b\b\b\b\b\b\b\b\b\b\b\b\b\b\b\b\b\b\b\b\b\b\b\b\b\b\b\b\b\b\b\b\b\b\b\b\b\b\b\b\b\b\b\b\b\b\b\b\b\b\b\b\b\b\b\b\b\b\r122/291 [===========>..................] - ETA: 44s - loss: 3.0267 - accuracy: 0.1303",
                    "output_type": "stream"
                },
                {
                    "name": "stdout",
                    "text": "\b\b\b\b\b\b\b\b\b\b\b\b\b\b\b\b\b\b\b\b\b\b\b\b\b\b\b\b\b\b\b\b\b\b\b\b\b\b\b\b\b\b\b\b\b\b\b\b\b\b\b\b\b\b\b\b\b\b\b\b\b\b\b\b\b\b\b\b\b\b\b\b\b\b\b\b\b\b\b\b\b\b\b\b\b\r123/291 [===========>..................] - ETA: 43s - loss: 3.0261 - accuracy: 0.1301",
                    "output_type": "stream"
                },
                {
                    "name": "stdout",
                    "text": "\b\b\b\b\b\b\b\b\b\b\b\b\b\b\b\b\b\b\b\b\b\b\b\b\b\b\b\b\b\b\b\b\b\b\b\b\b\b\b\b\b\b\b\b\b\b\b\b\b\b\b\b\b\b\b\b\b\b\b\b\b\b\b\b\b\b\b\b\b\b\b\b\b\b\b\b\b\b\b\b\b\b\b\b\b\r124/291 [===========>..................] - ETA: 43s - loss: 3.0267 - accuracy: 0.1298",
                    "output_type": "stream"
                },
                {
                    "name": "stdout",
                    "text": "\b\b\b\b\b\b\b\b\b\b\b\b\b\b\b\b\b\b\b\b\b\b\b\b\b\b\b\b\b\b\b\b\b\b\b\b\b\b\b\b\b\b\b\b\b\b\b\b\b\b\b\b\b\b\b\b\b\b\b\b\b\b\b\b\b\b\b\b\b\b\b\b\b\b\b\b\b\b\b\b\b\b\b\b\b\r125/291 [===========>..................] - ETA: 43s - loss: 3.0267 - accuracy: 0.1297",
                    "output_type": "stream"
                },
                {
                    "name": "stdout",
                    "text": "\b\b\b\b\b\b\b\b\b\b\b\b\b\b\b\b\b\b\b\b\b\b\b\b\b\b\b\b\b\b\b\b\b\b\b\b\b\b\b\b\b\b\b\b\b\b\b\b\b\b\b\b\b\b\b\b\b\b\b\b\b\b\b\b\b\b\b\b\b\b\b\b\b\b\b\b\b\b\b\b\b\b\b\b\b\r126/291 [===========>..................] - ETA: 43s - loss: 3.0267 - accuracy: 0.1301",
                    "output_type": "stream"
                },
                {
                    "name": "stdout",
                    "text": "\b\b\b\b\b\b\b\b\b\b\b\b\b\b\b\b\b\b\b\b\b\b\b\b\b\b\b\b\b\b\b\b\b\b\b\b\b\b\b\b\b\b\b\b\b\b\b\b\b\b\b\b\b\b\b\b\b\b\b\b\b\b\b\b\b\b\b\b\b\b\b\b\b\b\b\b\b\b\b\b\b\b\b\b\b\r127/291 [============>.................] - ETA: 42s - loss: 3.0264 - accuracy: 0.1304",
                    "output_type": "stream"
                },
                {
                    "name": "stdout",
                    "text": "\b\b\b\b\b\b\b\b\b\b\b\b\b\b\b\b\b\b\b\b\b\b\b\b\b\b\b\b\b\b\b\b\b\b\b\b\b\b\b\b\b\b\b\b\b\b\b\b\b\b\b\b\b\b\b\b\b\b\b\b\b\b\b\b\b\b\b\b\b\b\b\b\b\b\b\b\b\b\b\b\b\b\b\b\b\r128/291 [============>.................] - ETA: 42s - loss: 3.0252 - accuracy: 0.1304",
                    "output_type": "stream"
                },
                {
                    "name": "stdout",
                    "text": "\b\b\b\b\b\b\b\b\b\b\b\b\b\b\b\b\b\b\b\b\b\b\b\b\b\b\b\b\b\b\b\b\b\b\b\b\b\b\b\b\b\b\b\b\b\b\b\b\b\b\b\b\b\b\b\b\b\b\b\b\b\b\b\b\b\b\b\b\b\b\b\b\b\b\b\b\b\b\b\b\b\b\b\b\b\r129/291 [============>.................] - ETA: 42s - loss: 3.0248 - accuracy: 0.1309",
                    "output_type": "stream"
                },
                {
                    "name": "stdout",
                    "text": "\b\b\b\b\b\b\b\b\b\b\b\b\b\b\b\b\b\b\b\b\b\b\b\b\b\b\b\b\b\b\b\b\b\b\b\b\b\b\b\b\b\b\b\b\b\b\b\b\b\b\b\b\b\b\b\b\b\b\b\b\b\b\b\b\b\b\b\b\b\b\b\b\b\b\b\b\b\b\b\b\b\b\b\b\b\r130/291 [============>.................] - ETA: 42s - loss: 3.0251 - accuracy: 0.1312",
                    "output_type": "stream"
                },
                {
                    "name": "stdout",
                    "text": "\b\b\b\b\b\b\b\b\b\b\b\b\b\b\b\b\b\b\b\b\b\b\b\b\b\b\b\b\b\b\b\b\b\b\b\b\b\b\b\b\b\b\b\b\b\b\b\b\b\b\b\b\b\b\b\b\b\b\b\b\b\b\b\b\b\b\b\b\b\b\b\b\b\b\b\b\b\b\b\b\b\b\b\b\b\r131/291 [============>.................] - ETA: 41s - loss: 3.0264 - accuracy: 0.1310",
                    "output_type": "stream"
                },
                {
                    "name": "stdout",
                    "text": "\b\b\b\b\b\b\b\b\b\b\b\b\b\b\b\b\b\b\b\b\b\b\b\b\b\b\b\b\b\b\b\b\b\b\b\b\b\b\b\b\b\b\b\b\b\b\b\b\b\b\b\b\b\b\b\b\b\b\b\b\b\b\b\b\b\b\b\b\b\b\b\b\b\b\b\b\b\b\b\b\b\b\b\b\b\r132/291 [============>.................] - ETA: 41s - loss: 3.0256 - accuracy: 0.1312",
                    "output_type": "stream"
                },
                {
                    "name": "stdout",
                    "text": "\b\b\b\b\b\b\b\b\b\b\b\b\b\b\b\b\b\b\b\b\b\b\b\b\b\b\b\b\b\b\b\b\b\b\b\b\b\b\b\b\b\b\b\b\b\b\b\b\b\b\b\b\b\b\b\b\b\b\b\b\b\b\b\b\b\b\b\b\b\b\b\b\b\b\b\b\b\b\b\b\b\b\b\b\b\r133/291 [============>.................] - ETA: 41s - loss: 3.0242 - accuracy: 0.1312",
                    "output_type": "stream"
                },
                {
                    "name": "stdout",
                    "text": "\b\b\b\b\b\b\b\b\b\b\b\b\b\b\b\b\b\b\b\b\b\b\b\b\b\b\b\b\b\b\b\b\b\b\b\b\b\b\b\b\b\b\b\b\b\b\b\b\b\b\b\b\b\b\b\b\b\b\b\b\b\b\b\b\b\b\b\b\b\b\b\b\b\b\b\b\b\b\b\b\b\b\b\b\b\r134/291 [============>.................] - ETA: 41s - loss: 3.0228 - accuracy: 0.1315",
                    "output_type": "stream"
                },
                {
                    "name": "stdout",
                    "text": "\b\b\b\b\b\b\b\b\b\b\b\b\b\b\b\b\b\b\b\b\b\b\b\b\b\b\b\b\b\b\b\b\b\b\b\b\b\b\b\b\b\b\b\b\b\b\b\b\b\b\b\b\b\b\b\b\b\b\b\b\b\b\b\b\b\b\b\b\b\b\b\b\b\b\b\b\b\b\b\b\b\b\b\b\b\r135/291 [============>.................] - ETA: 40s - loss: 3.0216 - accuracy: 0.1311",
                    "output_type": "stream"
                },
                {
                    "name": "stdout",
                    "text": "\b\b\b\b\b\b\b\b\b\b\b\b\b\b\b\b\b\b\b\b\b\b\b\b\b\b\b\b\b\b\b\b\b\b\b\b\b\b\b\b\b\b\b\b\b\b\b\b\b\b\b\b\b\b\b\b\b\b\b\b\b\b\b\b\b\b\b\b\b\b\b\b\b\b\b\b\b\b\b\b\b\b\b\b\b\r136/291 [=============>................] - ETA: 40s - loss: 3.0212 - accuracy: 0.1309",
                    "output_type": "stream"
                },
                {
                    "name": "stdout",
                    "text": "\b\b\b\b\b\b\b\b\b\b\b\b\b\b\b\b\b\b\b\b\b\b\b\b\b\b\b\b\b\b\b\b\b\b\b\b\b\b\b\b\b\b\b\b\b\b\b\b\b\b\b\b\b\b\b\b\b\b\b\b\b\b\b\b\b\b\b\b\b\b\b\b\b\b\b\b\b\b\b\b\b\b\b\b\b\r137/291 [=============>................] - ETA: 40s - loss: 3.0207 - accuracy: 0.1313",
                    "output_type": "stream"
                },
                {
                    "name": "stdout",
                    "text": "\b\b\b\b\b\b\b\b\b\b\b\b\b\b\b\b\b\b\b\b\b\b\b\b\b\b\b\b\b\b\b\b\b\b\b\b\b\b\b\b\b\b\b\b\b\b\b\b\b\b\b\b\b\b\b\b\b\b\b\b\b\b\b\b\b\b\b\b\b\b\b\b\b\b\b\b\b\b\b\b\b\b\b\b\b\r138/291 [=============>................] - ETA: 40s - loss: 3.0210 - accuracy: 0.1312",
                    "output_type": "stream"
                },
                {
                    "name": "stdout",
                    "text": "\b\b\b\b\b\b\b\b\b\b\b\b\b\b\b\b\b\b\b\b\b\b\b\b\b\b\b\b\b\b\b\b\b\b\b\b\b\b\b\b\b\b\b\b\b\b\b\b\b\b\b\b\b\b\b\b\b\b\b\b\b\b\b\b\b\b\b\b\b\b\b\b\b\b\b\b\b\b\b\b\b\b\b\b\b\r139/291 [=============>................] - ETA: 39s - loss: 3.0207 - accuracy: 0.1312",
                    "output_type": "stream"
                },
                {
                    "name": "stdout",
                    "text": "\b\b\b\b\b\b\b\b\b\b\b\b\b\b\b\b\b\b\b\b\b\b\b\b\b\b\b\b\b\b\b\b\b\b\b\b\b\b\b\b\b\b\b\b\b\b\b\b\b\b\b\b\b\b\b\b\b\b\b\b\b\b\b\b\b\b\b\b\b\b\b\b\b\b\b\b\b\b\b\b\b\b\b\b\b\r140/291 [=============>................] - ETA: 39s - loss: 3.0214 - accuracy: 0.1311",
                    "output_type": "stream"
                },
                {
                    "name": "stdout",
                    "text": "\b\b\b\b\b\b\b\b\b\b\b\b\b\b\b\b\b\b\b\b\b\b\b\b\b\b\b\b\b\b\b\b\b\b\b\b\b\b\b\b\b\b\b\b\b\b\b\b\b\b\b\b\b\b\b\b\b\b\b\b\b\b\b\b\b\b\b\b\b\b\b\b\b\b\b\b\b\b\b\b\b\b\b\b\b\r141/291 [=============>................] - ETA: 39s - loss: 3.0201 - accuracy: 0.1309",
                    "output_type": "stream"
                },
                {
                    "name": "stdout",
                    "text": "\b\b\b\b\b\b\b\b\b\b\b\b\b\b\b\b\b\b\b\b\b\b\b\b\b\b\b\b\b\b\b\b\b\b\b\b\b\b\b\b\b\b\b\b\b\b\b\b\b\b\b\b\b\b\b\b\b\b\b\b\b\b\b\b\b\b\b\b\b\b\b\b\b\b\b\b\b\b\b\b\b\b\b\b\b\r142/291 [=============>................] - ETA: 39s - loss: 3.0201 - accuracy: 0.1311",
                    "output_type": "stream"
                },
                {
                    "name": "stdout",
                    "text": "\b\b\b\b\b\b\b\b\b\b\b\b\b\b\b\b\b\b\b\b\b\b\b\b\b\b\b\b\b\b\b\b\b\b\b\b\b\b\b\b\b\b\b\b\b\b\b\b\b\b\b\b\b\b\b\b\b\b\b\b\b\b\b\b\b\b\b\b\b\b\b\b\b\b\b\b\b\b\b\b\b\b\b\b\b\r143/291 [=============>................] - ETA: 38s - loss: 3.0206 - accuracy: 0.1304",
                    "output_type": "stream"
                },
                {
                    "name": "stdout",
                    "text": "\b\b\b\b\b\b\b\b\b\b\b\b\b\b\b\b\b\b\b\b\b\b\b\b\b\b\b\b\b\b\b\b\b\b\b\b\b\b\b\b\b\b\b\b\b\b\b\b\b\b\b\b\b\b\b\b\b\b\b\b\b\b\b\b\b\b\b\b\b\b\b\b\b\b\b\b\b\b\b\b\b\b\b\b\b\r144/291 [=============>................] - ETA: 38s - loss: 3.0197 - accuracy: 0.1303",
                    "output_type": "stream"
                },
                {
                    "name": "stdout",
                    "text": "\b\b\b\b\b\b\b\b\b\b\b\b\b\b\b\b\b\b\b\b\b\b\b\b\b\b\b\b\b\b\b\b\b\b\b\b\b\b\b\b\b\b\b\b\b\b\b\b\b\b\b\b\b\b\b\b\b\b\b\b\b\b\b\b\b\b\b\b\b\b\b\b\b\b\b\b\b\b\b\b\b\b\b\b\b\r145/291 [=============>................] - ETA: 38s - loss: 3.0204 - accuracy: 0.1304",
                    "output_type": "stream"
                },
                {
                    "name": "stdout",
                    "text": "\b\b\b\b\b\b\b\b\b\b\b\b\b\b\b\b\b\b\b\b\b\b\b\b\b\b\b\b\b\b\b\b\b\b\b\b\b\b\b\b\b\b\b\b\b\b\b\b\b\b\b\b\b\b\b\b\b\b\b\b\b\b\b\b\b\b\b\b\b\b\b\b\b\b\b\b\b\b\b\b\b\b\b\b\b\r146/291 [==============>...............] - ETA: 38s - loss: 3.0207 - accuracy: 0.1309",
                    "output_type": "stream"
                },
                {
                    "name": "stdout",
                    "text": "\b\b\b\b\b\b\b\b\b\b\b\b\b\b\b\b\b\b\b\b\b\b\b\b\b\b\b\b\b\b\b\b\b\b\b\b\b\b\b\b\b\b\b\b\b\b\b\b\b\b\b\b\b\b\b\b\b\b\b\b\b\b\b\b\b\b\b\b\b\b\b\b\b\b\b\b\b\b\b\b\b\b\b\b\b\r147/291 [==============>...............] - ETA: 37s - loss: 3.0192 - accuracy: 0.1314",
                    "output_type": "stream"
                },
                {
                    "name": "stdout",
                    "text": "\b\b\b\b\b\b\b\b\b\b\b\b\b\b\b\b\b\b\b\b\b\b\b\b\b\b\b\b\b\b\b\b\b\b\b\b\b\b\b\b\b\b\b\b\b\b\b\b\b\b\b\b\b\b\b\b\b\b\b\b\b\b\b\b\b\b\b\b\b\b\b\b\b\b\b\b\b\b\b\b\b\b\b\b\b\r148/291 [==============>...............] - ETA: 37s - loss: 3.0193 - accuracy: 0.1313",
                    "output_type": "stream"
                },
                {
                    "name": "stdout",
                    "text": "\b\b\b\b\b\b\b\b\b\b\b\b\b\b\b\b\b\b\b\b\b\b\b\b\b\b\b\b\b\b\b\b\b\b\b\b\b\b\b\b\b\b\b\b\b\b\b\b\b\b\b\b\b\b\b\b\b\b\b\b\b\b\b\b\b\b\b\b\b\b\b\b\b\b\b\b\b\b\b\b\b\b\b\b\b\r149/291 [==============>...............] - ETA: 37s - loss: 3.0189 - accuracy: 0.1317",
                    "output_type": "stream"
                },
                {
                    "name": "stdout",
                    "text": "\b\b\b\b\b\b\b\b\b\b\b\b\b\b\b\b\b\b\b\b\b\b\b\b\b\b\b\b\b\b\b\b\b\b\b\b\b\b\b\b\b\b\b\b\b\b\b\b\b\b\b\b\b\b\b\b\b\b\b\b\b\b\b\b\b\b\b\b\b\b\b\b\b\b\b\b\b\b\b\b\b\b\b\b\b\r150/291 [==============>...............] - ETA: 36s - loss: 3.0188 - accuracy: 0.1319",
                    "output_type": "stream"
                },
                {
                    "name": "stdout",
                    "text": "\b\b\b\b\b\b\b\b\b\b\b\b\b\b\b\b\b\b\b\b\b\b\b\b\b\b\b\b\b\b\b\b\b\b\b\b\b\b\b\b\b\b\b\b\b\b\b\b\b\b\b\b\b\b\b\b\b\b\b\b\b\b\b\b\b\b\b\b\b\b\b\b\b\b\b\b\b\b\b\b\b\b\b\b\b\r151/291 [==============>...............] - ETA: 36s - loss: 3.0186 - accuracy: 0.1322",
                    "output_type": "stream"
                },
                {
                    "name": "stdout",
                    "text": "\b\b\b\b\b\b\b\b\b\b\b\b\b\b\b\b\b\b\b\b\b\b\b\b\b\b\b\b\b\b\b\b\b\b\b\b\b\b\b\b\b\b\b\b\b\b\b\b\b\b\b\b\b\b\b\b\b\b\b\b\b\b\b\b\b\b\b\b\b\b\b\b\b\b\b\b\b\b\b\b\b\b\b\b\b\r152/291 [==============>...............] - ETA: 36s - loss: 3.0181 - accuracy: 0.1326",
                    "output_type": "stream"
                },
                {
                    "name": "stdout",
                    "text": "\b\b\b\b\b\b\b\b\b\b\b\b\b\b\b\b\b\b\b\b\b\b\b\b\b\b\b\b\b\b\b\b\b\b\b\b\b\b\b\b\b\b\b\b\b\b\b\b\b\b\b\b\b\b\b\b\b\b\b\b\b\b\b\b\b\b\b\b\b\b\b\b\b\b\b\b\b\b\b\b\b\b\b\b\b\r153/291 [==============>...............] - ETA: 36s - loss: 3.0173 - accuracy: 0.1330",
                    "output_type": "stream"
                },
                {
                    "name": "stdout",
                    "text": "\b\b\b\b\b\b\b\b\b\b\b\b\b\b\b\b\b\b\b\b\b\b\b\b\b\b\b\b\b\b\b\b\b\b\b\b\b\b\b\b\b\b\b\b\b\b\b\b\b\b\b\b\b\b\b\b\b\b\b\b\b\b\b\b\b\b\b\b\b\b\b\b\b\b\b\b\b\b\b\b\b\b\b\b\b\r154/291 [==============>...............] - ETA: 35s - loss: 3.0170 - accuracy: 0.1332",
                    "output_type": "stream"
                },
                {
                    "name": "stdout",
                    "text": "\b\b\b\b\b\b\b\b\b\b\b\b\b\b\b\b\b\b\b\b\b\b\b\b\b\b\b\b\b\b\b\b\b\b\b\b\b\b\b\b\b\b\b\b\b\b\b\b\b\b\b\b\b\b\b\b\b\b\b\b\b\b\b\b\b\b\b\b\b\b\b\b\b\b\b\b\b\b\b\b\b\b\b\b\b\r155/291 [==============>...............] - ETA: 35s - loss: 3.0176 - accuracy: 0.1338",
                    "output_type": "stream"
                },
                {
                    "name": "stdout",
                    "text": "\b\b\b\b\b\b\b\b\b\b\b\b\b\b\b\b\b\b\b\b\b\b\b\b\b\b\b\b\b\b\b\b\b\b\b\b\b\b\b\b\b\b\b\b\b\b\b\b\b\b\b\b\b\b\b\b\b\b\b\b\b\b\b\b\b\b\b\b\b\b\b\b\b\b\b\b\b\b\b\b\b\b\b\b\b\r156/291 [===============>..............] - ETA: 35s - loss: 3.0163 - accuracy: 0.1345",
                    "output_type": "stream"
                },
                {
                    "name": "stdout",
                    "text": "\b\b\b\b\b\b\b\b\b\b\b\b\b\b\b\b\b\b\b\b\b\b\b\b\b\b\b\b\b\b\b\b\b\b\b\b\b\b\b\b\b\b\b\b\b\b\b\b\b\b\b\b\b\b\b\b\b\b\b\b\b\b\b\b\b\b\b\b\b\b\b\b\b\b\b\b\b\b\b\b\b\b\b\b\b\r157/291 [===============>..............] - ETA: 35s - loss: 3.0160 - accuracy: 0.1347",
                    "output_type": "stream"
                },
                {
                    "name": "stdout",
                    "text": "\b\b\b\b\b\b\b\b\b\b\b\b\b\b\b\b\b\b\b\b\b\b\b\b\b\b\b\b\b\b\b\b\b\b\b\b\b\b\b\b\b\b\b\b\b\b\b\b\b\b\b\b\b\b\b\b\b\b\b\b\b\b\b\b\b\b\b\b\b\b\b\b\b\b\b\b\b\b\b\b\b\b\b\b\b\r158/291 [===============>..............] - ETA: 34s - loss: 3.0154 - accuracy: 0.1346",
                    "output_type": "stream"
                },
                {
                    "name": "stdout",
                    "text": "\b\b\b\b\b\b\b\b\b\b\b\b\b\b\b\b\b\b\b\b\b\b\b\b\b\b\b\b\b\b\b\b\b\b\b\b\b\b\b\b\b\b\b\b\b\b\b\b\b\b\b\b\b\b\b\b\b\b\b\b\b\b\b\b\b\b\b\b\b\b\b\b\b\b\b\b\b\b\b\b\b\b\b\b\b\r159/291 [===============>..............] - ETA: 34s - loss: 3.0144 - accuracy: 0.1345",
                    "output_type": "stream"
                },
                {
                    "name": "stdout",
                    "text": "\b\b\b\b\b\b\b\b\b\b\b\b\b\b\b\b\b\b\b\b\b\b\b\b\b\b\b\b\b\b\b\b\b\b\b\b\b\b\b\b\b\b\b\b\b\b\b\b\b\b\b\b\b\b\b\b\b\b\b\b\b\b\b\b\b\b\b\b\b\b\b\b\b\b\b\b\b\b\b\b\b\b\b\b\b\r160/291 [===============>..............] - ETA: 34s - loss: 3.0146 - accuracy: 0.1348",
                    "output_type": "stream"
                },
                {
                    "name": "stdout",
                    "text": "\b\b\b\b\b\b\b\b\b\b\b\b\b\b\b\b\b\b\b\b\b\b\b\b\b\b\b\b\b\b\b\b\b\b\b\b\b\b\b\b\b\b\b\b\b\b\b\b\b\b\b\b\b\b\b\b\b\b\b\b\b\b\b\b\b\b\b\b\b\b\b\b\b\b\b\b\b\b\b\b\b\b\b\b\b\r161/291 [===============>..............] - ETA: 34s - loss: 3.0136 - accuracy: 0.1355",
                    "output_type": "stream"
                },
                {
                    "name": "stdout",
                    "text": "\b\b\b\b\b\b\b\b\b\b\b\b\b\b\b\b\b\b\b\b\b\b\b\b\b\b\b\b\b\b\b\b\b\b\b\b\b\b\b\b\b\b\b\b\b\b\b\b\b\b\b\b\b\b\b\b\b\b\b\b\b\b\b\b\b\b\b\b\b\b\b\b\b\b\b\b\b\b\b\b\b\b\b\b\b\r162/291 [===============>..............] - ETA: 34s - loss: 3.0121 - accuracy: 0.1360",
                    "output_type": "stream"
                },
                {
                    "name": "stdout",
                    "text": "\b\b\b\b\b\b\b\b\b\b\b\b\b\b\b\b\b\b\b\b\b\b\b\b\b\b\b\b\b\b\b\b\b\b\b\b\b\b\b\b\b\b\b\b\b\b\b\b\b\b\b\b\b\b\b\b\b\b\b\b\b\b\b\b\b\b\b\b\b\b\b\b\b\b\b\b\b\b\b\b\b\b\b\b\b\r163/291 [===============>..............] - ETA: 33s - loss: 3.0114 - accuracy: 0.1363",
                    "output_type": "stream"
                },
                {
                    "name": "stdout",
                    "text": "\b\b\b\b\b\b\b\b\b\b\b\b\b\b\b\b\b\b\b\b\b\b\b\b\b\b\b\b\b\b\b\b\b\b\b\b\b\b\b\b\b\b\b\b\b\b\b\b\b\b\b\b\b\b\b\b\b\b\b\b\b\b\b\b\b\b\b\b\b\b\b\b\b\b\b\b\b\b\b\b\b\b\b\b\b\r164/291 [===============>..............] - ETA: 33s - loss: 3.0119 - accuracy: 0.1364",
                    "output_type": "stream"
                },
                {
                    "name": "stdout",
                    "text": "\b\b\b\b\b\b\b\b\b\b\b\b\b\b\b\b\b\b\b\b\b\b\b\b\b\b\b\b\b\b\b\b\b\b\b\b\b\b\b\b\b\b\b\b\b\b\b\b\b\b\b\b\b\b\b\b\b\b\b\b\b\b\b\b\b\b\b\b\b\b\b\b\b\b\b\b\b\b\b\b\b\b\b\b\b\r165/291 [================>.............] - ETA: 33s - loss: 3.0111 - accuracy: 0.1369",
                    "output_type": "stream"
                },
                {
                    "name": "stdout",
                    "text": "\b\b\b\b\b\b\b\b\b\b\b\b\b\b\b\b\b\b\b\b\b\b\b\b\b\b\b\b\b\b\b\b\b\b\b\b\b\b\b\b\b\b\b\b\b\b\b\b\b\b\b\b\b\b\b\b\b\b\b\b\b\b\b\b\b\b\b\b\b\b\b\b\b\b\b\b\b\b\b\b\b\b\b\b\b\r166/291 [================>.............] - ETA: 33s - loss: 3.0102 - accuracy: 0.1372",
                    "output_type": "stream"
                },
                {
                    "name": "stdout",
                    "text": "\b\b\b\b\b\b\b\b\b\b\b\b\b\b\b\b\b\b\b\b\b\b\b\b\b\b\b\b\b\b\b\b\b\b\b\b\b\b\b\b\b\b\b\b\b\b\b\b\b\b\b\b\b\b\b\b\b\b\b\b\b\b\b\b\b\b\b\b\b\b\b\b\b\b\b\b\b\b\b\b\b\b\b\b\b\r167/291 [================>.............] - ETA: 32s - loss: 3.0095 - accuracy: 0.1374",
                    "output_type": "stream"
                },
                {
                    "name": "stdout",
                    "text": "\b\b\b\b\b\b\b\b\b\b\b\b\b\b\b\b\b\b\b\b\b\b\b\b\b\b\b\b\b\b\b\b\b\b\b\b\b\b\b\b\b\b\b\b\b\b\b\b\b\b\b\b\b\b\b\b\b\b\b\b\b\b\b\b\b\b\b\b\b\b\b\b\b\b\b\b\b\b\b\b\b\b\b\b\b\r168/291 [================>.............] - ETA: 32s - loss: 3.0075 - accuracy: 0.1381",
                    "output_type": "stream"
                },
                {
                    "name": "stdout",
                    "text": "\b\b\b\b\b\b\b\b\b\b\b\b\b\b\b\b\b\b\b\b\b\b\b\b\b\b\b\b\b\b\b\b\b\b\b\b\b\b\b\b\b\b\b\b\b\b\b\b\b\b\b\b\b\b\b\b\b\b\b\b\b\b\b\b\b\b\b\b\b\b\b\b\b\b\b\b\b\b\b\b\b\b\b\b\b\r169/291 [================>.............] - ETA: 32s - loss: 3.0077 - accuracy: 0.1382",
                    "output_type": "stream"
                },
                {
                    "name": "stdout",
                    "text": "\b\b\b\b\b\b\b\b\b\b\b\b\b\b\b\b\b\b\b\b\b\b\b\b\b\b\b\b\b\b\b\b\b\b\b\b\b\b\b\b\b\b\b\b\b\b\b\b\b\b\b\b\b\b\b\b\b\b\b\b\b\b\b\b\b\b\b\b\b\b\b\b\b\b\b\b\b\b\b\b\b\b\b\b\b\r170/291 [================>.............] - ETA: 32s - loss: 3.0073 - accuracy: 0.1383",
                    "output_type": "stream"
                },
                {
                    "name": "stdout",
                    "text": "\b\b\b\b\b\b\b\b\b\b\b\b\b\b\b\b\b\b\b\b\b\b\b\b\b\b\b\b\b\b\b\b\b\b\b\b\b\b\b\b\b\b\b\b\b\b\b\b\b\b\b\b\b\b\b\b\b\b\b\b\b\b\b\b\b\b\b\b\b\b\b\b\b\b\b\b\b\b\b\b\b\b\b\b\b\r171/291 [================>.............] - ETA: 31s - loss: 3.0069 - accuracy: 0.1386",
                    "output_type": "stream"
                },
                {
                    "name": "stdout",
                    "text": "\b\b\b\b\b\b\b\b\b\b\b\b\b\b\b\b\b\b\b\b\b\b\b\b\b\b\b\b\b\b\b\b\b\b\b\b\b\b\b\b\b\b\b\b\b\b\b\b\b\b\b\b\b\b\b\b\b\b\b\b\b\b\b\b\b\b\b\b\b\b\b\b\b\b\b\b\b\b\b\b\b\b\b\b\b\r172/291 [================>.............] - ETA: 31s - loss: 3.0060 - accuracy: 0.1391",
                    "output_type": "stream"
                },
                {
                    "name": "stdout",
                    "text": "\b\b\b\b\b\b\b\b\b\b\b\b\b\b\b\b\b\b\b\b\b\b\b\b\b\b\b\b\b\b\b\b\b\b\b\b\b\b\b\b\b\b\b\b\b\b\b\b\b\b\b\b\b\b\b\b\b\b\b\b\b\b\b\b\b\b\b\b\b\b\b\b\b\b\b\b\b\b\b\b\b\b\b\b\b\r173/291 [================>.............] - ETA: 31s - loss: 3.0067 - accuracy: 0.1394",
                    "output_type": "stream"
                },
                {
                    "name": "stdout",
                    "text": "\b\b\b\b\b\b\b\b\b\b\b\b\b\b\b\b\b\b\b\b\b\b\b\b\b\b\b\b\b\b\b\b\b\b\b\b\b\b\b\b\b\b\b\b\b\b\b\b\b\b\b\b\b\b\b\b\b\b\b\b\b\b\b\b\b\b\b\b\b\b\b\b\b\b\b\b\b\b\b\b\b\b\b\b\b\r174/291 [================>.............] - ETA: 31s - loss: 3.0056 - accuracy: 0.1394",
                    "output_type": "stream"
                },
                {
                    "name": "stdout",
                    "text": "\b\b\b\b\b\b\b\b\b\b\b\b\b\b\b\b\b\b\b\b\b\b\b\b\b\b\b\b\b\b\b\b\b\b\b\b\b\b\b\b\b\b\b\b\b\b\b\b\b\b\b\b\b\b\b\b\b\b\b\b\b\b\b\b\b\b\b\b\b\b\b\b\b\b\b\b\b\b\b\b\b\b\b\b\b\r175/291 [=================>............] - ETA: 30s - loss: 3.0056 - accuracy: 0.1393",
                    "output_type": "stream"
                },
                {
                    "name": "stdout",
                    "text": "\b\b\b\b\b\b\b\b\b\b\b\b\b\b\b\b\b\b\b\b\b\b\b\b\b\b\b\b\b\b\b\b\b\b\b\b\b\b\b\b\b\b\b\b\b\b\b\b\b\b\b\b\b\b\b\b\b\b\b\b\b\b\b\b\b\b\b\b\b\b\b\b\b\b\b\b\b\b\b\b\b\b\b\b\b\r176/291 [=================>............] - ETA: 30s - loss: 3.0037 - accuracy: 0.1396",
                    "output_type": "stream"
                },
                {
                    "name": "stdout",
                    "text": "\b\b\b\b\b\b\b\b\b\b\b\b\b\b\b\b\b\b\b\b\b\b\b\b\b\b\b\b\b\b\b\b\b\b\b\b\b\b\b\b\b\b\b\b\b\b\b\b\b\b\b\b\b\b\b\b\b\b\b\b\b\b\b\b\b\b\b\b\b\b\b\b\b\b\b\b\b\b\b\b\b\b\b\b\b\r177/291 [=================>............] - ETA: 30s - loss: 3.0026 - accuracy: 0.1397",
                    "output_type": "stream"
                },
                {
                    "name": "stdout",
                    "text": "\b\b\b\b\b\b\b\b\b\b\b\b\b\b\b\b\b\b\b\b\b\b\b\b\b\b\b\b\b\b\b\b\b\b\b\b\b\b\b\b\b\b\b\b\b\b\b\b\b\b\b\b\b\b\b\b\b\b\b\b\b\b\b\b\b\b\b\b\b\b\b\b\b\b\b\b\b\b\b\b\b\b\b\b\b\r178/291 [=================>............] - ETA: 29s - loss: 3.0039 - accuracy: 0.1400",
                    "output_type": "stream"
                },
                {
                    "name": "stdout",
                    "text": "\b\b\b\b\b\b\b\b\b\b\b\b\b\b\b\b\b\b\b\b\b\b\b\b\b\b\b\b\b\b\b\b\b\b\b\b\b\b\b\b\b\b\b\b\b\b\b\b\b\b\b\b\b\b\b\b\b\b\b\b\b\b\b\b\b\b\b\b\b\b\b\b\b\b\b\b\b\b\b\b\b\b\b\b\b\r179/291 [=================>............] - ETA: 29s - loss: 3.0043 - accuracy: 0.1404",
                    "output_type": "stream"
                },
                {
                    "name": "stdout",
                    "text": "\b\b\b\b\b\b\b\b\b\b\b\b\b\b\b\b\b\b\b\b\b\b\b\b\b\b\b\b\b\b\b\b\b\b\b\b\b\b\b\b\b\b\b\b\b\b\b\b\b\b\b\b\b\b\b\b\b\b\b\b\b\b\b\b\b\b\b\b\b\b\b\b\b\b\b\b\b\b\b\b\b\b\b\b\b\r180/291 [=================>............] - ETA: 29s - loss: 3.0038 - accuracy: 0.1410",
                    "output_type": "stream"
                },
                {
                    "name": "stdout",
                    "text": "\b\b\b\b\b\b\b\b\b\b\b\b\b\b\b\b\b\b\b\b\b\b\b\b\b\b\b\b\b\b\b\b\b\b\b\b\b\b\b\b\b\b\b\b\b\b\b\b\b\b\b\b\b\b\b\b\b\b\b\b\b\b\b\b\b\b\b\b\b\b\b\b\b\b\b\b\b\b\b\b\b\b\b\b\b\r181/291 [=================>............] - ETA: 29s - loss: 3.0034 - accuracy: 0.1418",
                    "output_type": "stream"
                },
                {
                    "name": "stdout",
                    "text": "\b\b\b\b\b\b\b\b\b\b\b\b\b\b\b\b\b\b\b\b\b\b\b\b\b\b\b\b\b\b\b\b\b\b\b\b\b\b\b\b\b\b\b\b\b\b\b\b\b\b\b\b\b\b\b\b\b\b\b\b\b\b\b\b\b\b\b\b\b\b\b\b\b\b\b\b\b\b\b\b\b\b\b\b\b\r182/291 [=================>............] - ETA: 28s - loss: 3.0034 - accuracy: 0.1421",
                    "output_type": "stream"
                },
                {
                    "name": "stdout",
                    "text": "\b\b\b\b\b\b\b\b\b\b\b\b\b\b\b\b\b\b\b\b\b\b\b\b\b\b\b\b\b\b\b\b\b\b\b\b\b\b\b\b\b\b\b\b\b\b\b\b\b\b\b\b\b\b\b\b\b\b\b\b\b\b\b\b\b\b\b\b\b\b\b\b\b\b\b\b\b\b\b\b\b\b\b\b\b\r183/291 [=================>............] - ETA: 28s - loss: 3.0026 - accuracy: 0.1424",
                    "output_type": "stream"
                },
                {
                    "name": "stdout",
                    "text": "\b\b\b\b\b\b\b\b\b\b\b\b\b\b\b\b\b\b\b\b\b\b\b\b\b\b\b\b\b\b\b\b\b\b\b\b\b\b\b\b\b\b\b\b\b\b\b\b\b\b\b\b\b\b\b\b\b\b\b\b\b\b\b\b\b\b\b\b\b\b\b\b\b\b\b\b\b\b\b\b\b\b\b\b\b\r184/291 [=================>............] - ETA: 28s - loss: 3.0020 - accuracy: 0.1426",
                    "output_type": "stream"
                },
                {
                    "name": "stdout",
                    "text": "\b\b\b\b\b\b\b\b\b\b\b\b\b\b\b\b\b\b\b\b\b\b\b\b\b\b\b\b\b\b\b\b\b\b\b\b\b\b\b\b\b\b\b\b\b\b\b\b\b\b\b\b\b\b\b\b\b\b\b\b\b\b\b\b\b\b\b\b\b\b\b\b\b\b\b\b\b\b\b\b\b\b\b\b\b\r185/291 [==================>...........] - ETA: 28s - loss: 3.0015 - accuracy: 0.1427",
                    "output_type": "stream"
                },
                {
                    "name": "stdout",
                    "text": "\b\b\b\b\b\b\b\b\b\b\b\b\b\b\b\b\b\b\b\b\b\b\b\b\b\b\b\b\b\b\b\b\b\b\b\b\b\b\b\b\b\b\b\b\b\b\b\b\b\b\b\b\b\b\b\b\b\b\b\b\b\b\b\b\b\b\b\b\b\b\b\b\b\b\b\b\b\b\b\b\b\b\b\b\b\r186/291 [==================>...........] - ETA: 27s - loss: 3.0003 - accuracy: 0.1431",
                    "output_type": "stream"
                },
                {
                    "name": "stdout",
                    "text": "\b\b\b\b\b\b\b\b\b\b\b\b\b\b\b\b\b\b\b\b\b\b\b\b\b\b\b\b\b\b\b\b\b\b\b\b\b\b\b\b\b\b\b\b\b\b\b\b\b\b\b\b\b\b\b\b\b\b\b\b\b\b\b\b\b\b\b\b\b\b\b\b\b\b\b\b\b\b\b\b\b\b\b\b\b\r187/291 [==================>...........] - ETA: 27s - loss: 2.9999 - accuracy: 0.1436",
                    "output_type": "stream"
                },
                {
                    "name": "stdout",
                    "text": "\b\b\b\b\b\b\b\b\b\b\b\b\b\b\b\b\b\b\b\b\b\b\b\b\b\b\b\b\b\b\b\b\b\b\b\b\b\b\b\b\b\b\b\b\b\b\b\b\b\b\b\b\b\b\b\b\b\b\b\b\b\b\b\b\b\b\b\b\b\b\b\b\b\b\b\b\b\b\b\b\b\b\b\b\b\r188/291 [==================>...........] - ETA: 27s - loss: 2.9994 - accuracy: 0.1444",
                    "output_type": "stream"
                },
                {
                    "name": "stdout",
                    "text": "\b\b\b\b\b\b\b\b\b\b\b\b\b\b\b\b\b\b\b\b\b\b\b\b\b\b\b\b\b\b\b\b\b\b\b\b\b\b\b\b\b\b\b\b\b\b\b\b\b\b\b\b\b\b\b\b\b\b\b\b\b\b\b\b\b\b\b\b\b\b\b\b\b\b\b\b\b\b\b\b\b\b\b\b\b\r189/291 [==================>...........] - ETA: 27s - loss: 2.9989 - accuracy: 0.1448",
                    "output_type": "stream"
                },
                {
                    "name": "stdout",
                    "text": "\b\b\b\b\b\b\b\b\b\b\b\b\b\b\b\b\b\b\b\b\b\b\b\b\b\b\b\b\b\b\b\b\b\b\b\b\b\b\b\b\b\b\b\b\b\b\b\b\b\b\b\b\b\b\b\b\b\b\b\b\b\b\b\b\b\b\b\b\b\b\b\b\b\b\b\b\b\b\b\b\b\b\b\b\b\r190/291 [==================>...........] - ETA: 26s - loss: 3.0004 - accuracy: 0.1446",
                    "output_type": "stream"
                },
                {
                    "name": "stdout",
                    "text": "\b\b\b\b\b\b\b\b\b\b\b\b\b\b\b\b\b\b\b\b\b\b\b\b\b\b\b\b\b\b\b\b\b\b\b\b\b\b\b\b\b\b\b\b\b\b\b\b\b\b\b\b\b\b\b\b\b\b\b\b\b\b\b\b\b\b\b\b\b\b\b\b\b\b\b\b\b\b\b\b\b\b\b\b\b\r191/291 [==================>...........] - ETA: 26s - loss: 2.9987 - accuracy: 0.1452",
                    "output_type": "stream"
                },
                {
                    "name": "stdout",
                    "text": "\b\b\b\b\b\b\b\b\b\b\b\b\b\b\b\b\b\b\b\b\b\b\b\b\b\b\b\b\b\b\b\b\b\b\b\b\b\b\b\b\b\b\b\b\b\b\b\b\b\b\b\b\b\b\b\b\b\b\b\b\b\b\b\b\b\b\b\b\b\b\b\b\b\b\b\b\b\b\b\b\b\b\b\b\b\r192/291 [==================>...........] - ETA: 26s - loss: 2.9972 - accuracy: 0.1458",
                    "output_type": "stream"
                },
                {
                    "name": "stdout",
                    "text": "\b\b\b\b\b\b\b\b\b\b\b\b\b\b\b\b\b\b\b\b\b\b\b\b\b\b\b\b\b\b\b\b\b\b\b\b\b\b\b\b\b\b\b\b\b\b\b\b\b\b\b\b\b\b\b\b\b\b\b\b\b\b\b\b\b\b\b\b\b\b\b\b\b\b\b\b\b\b\b\b\b\b\b\b\b\r193/291 [==================>...........] - ETA: 25s - loss: 2.9966 - accuracy: 0.1460",
                    "output_type": "stream"
                },
                {
                    "name": "stdout",
                    "text": "\b\b\b\b\b\b\b\b\b\b\b\b\b\b\b\b\b\b\b\b\b\b\b\b\b\b\b\b\b\b\b\b\b\b\b\b\b\b\b\b\b\b\b\b\b\b\b\b\b\b\b\b\b\b\b\b\b\b\b\b\b\b\b\b\b\b\b\b\b\b\b\b\b\b\b\b\b\b\b\b\b\b\b\b\b\r194/291 [===================>..........] - ETA: 25s - loss: 2.9962 - accuracy: 0.1461",
                    "output_type": "stream"
                },
                {
                    "name": "stdout",
                    "text": "\b\b\b\b\b\b\b\b\b\b\b\b\b\b\b\b\b\b\b\b\b\b\b\b\b\b\b\b\b\b\b\b\b\b\b\b\b\b\b\b\b\b\b\b\b\b\b\b\b\b\b\b\b\b\b\b\b\b\b\b\b\b\b\b\b\b\b\b\b\b\b\b\b\b\b\b\b\b\b\b\b\b\b\b\b\r195/291 [===================>..........] - ETA: 25s - loss: 2.9950 - accuracy: 0.1466",
                    "output_type": "stream"
                },
                {
                    "name": "stdout",
                    "text": "\b\b\b\b\b\b\b\b\b\b\b\b\b\b\b\b\b\b\b\b\b\b\b\b\b\b\b\b\b\b\b\b\b\b\b\b\b\b\b\b\b\b\b\b\b\b\b\b\b\b\b\b\b\b\b\b\b\b\b\b\b\b\b\b\b\b\b\b\b\b\b\b\b\b\b\b\b\b\b\b\b\b\b\b\b\r196/291 [===================>..........] - ETA: 25s - loss: 2.9935 - accuracy: 0.1476",
                    "output_type": "stream"
                },
                {
                    "name": "stdout",
                    "text": "\b\b\b\b\b\b\b\b\b\b\b\b\b\b\b\b\b\b\b\b\b\b\b\b\b\b\b\b\b\b\b\b\b\b\b\b\b\b\b\b\b\b\b\b\b\b\b\b\b\b\b\b\b\b\b\b\b\b\b\b\b\b\b\b\b\b\b\b\b\b\b\b\b\b\b\b\b\b\b\b\b\b\b\b\b\r197/291 [===================>..........] - ETA: 25s - loss: 2.9930 - accuracy: 0.1479",
                    "output_type": "stream"
                },
                {
                    "name": "stdout",
                    "text": "\b\b\b\b\b\b\b\b\b\b\b\b\b\b\b\b\b\b\b\b\b\b\b\b\b\b\b\b\b\b\b\b\b\b\b\b\b\b\b\b\b\b\b\b\b\b\b\b\b\b\b\b\b\b\b\b\b\b\b\b\b\b\b\b\b\b\b\b\b\b\b\b\b\b\b\b\b\b\b\b\b\b\b\b\b\r198/291 [===================>..........] - ETA: 24s - loss: 2.9924 - accuracy: 0.1488",
                    "output_type": "stream"
                },
                {
                    "name": "stdout",
                    "text": "\b\b\b\b\b\b\b\b\b\b\b\b\b\b\b\b\b\b\b\b\b\b\b\b\b\b\b\b\b\b\b\b\b\b\b\b\b\b\b\b\b\b\b\b\b\b\b\b\b\b\b\b\b\b\b\b\b\b\b\b\b\b\b\b\b\b\b\b\b\b\b\b\b\b\b\b\b\b\b\b\b\b\b\b\b\r199/291 [===================>..........] - ETA: 24s - loss: 2.9913 - accuracy: 0.1492",
                    "output_type": "stream"
                },
                {
                    "name": "stdout",
                    "text": "\b\b\b\b\b\b\b\b\b\b\b\b\b\b\b\b\b\b\b\b\b\b\b\b\b\b\b\b\b\b\b\b\b\b\b\b\b\b\b\b\b\b\b\b\b\b\b\b\b\b\b\b\b\b\b\b\b\b\b\b\b\b\b\b\b\b\b\b\b\b\b\b\b\b\b\b\b\b\b\b\b\b\b\b\b\r200/291 [===================>..........] - ETA: 24s - loss: 2.9918 - accuracy: 0.1492",
                    "output_type": "stream"
                },
                {
                    "name": "stdout",
                    "text": "\b\b\b\b\b\b\b\b\b\b\b\b\b\b\b\b\b\b\b\b\b\b\b\b\b\b\b\b\b\b\b\b\b\b\b\b\b\b\b\b\b\b\b\b\b\b\b\b\b\b\b\b\b\b\b\b\b\b\b\b\b\b\b\b\b\b\b\b\b\b\b\b\b\b\b\b\b\b\b\b\b\b\b\b\b\r201/291 [===================>..........] - ETA: 23s - loss: 2.9904 - accuracy: 0.1494",
                    "output_type": "stream"
                },
                {
                    "name": "stdout",
                    "text": "\b\b\b\b\b\b\b\b\b\b\b\b\b\b\b\b\b\b\b\b\b\b\b\b\b\b\b\b\b\b\b\b\b\b\b\b\b\b\b\b\b\b\b\b\b\b\b\b\b\b\b\b\b\b\b\b\b\b\b\b\b\b\b\b\b\b\b\b\b\b\b\b\b\b\b\b\b\b\b\b\b\b\b\b\b\r202/291 [===================>..........] - ETA: 23s - loss: 2.9894 - accuracy: 0.1500",
                    "output_type": "stream"
                },
                {
                    "name": "stdout",
                    "text": "\b\b\b\b\b\b\b\b\b\b\b\b\b\b\b\b\b\b\b\b\b\b\b\b\b\b\b\b\b\b\b\b\b\b\b\b\b\b\b\b\b\b\b\b\b\b\b\b\b\b\b\b\b\b\b\b\b\b\b\b\b\b\b\b\b\b\b\b\b\b\b\b\b\b\b\b\b\b\b\b\b\b\b\b\b\r203/291 [===================>..........] - ETA: 23s - loss: 2.9890 - accuracy: 0.1504",
                    "output_type": "stream"
                },
                {
                    "name": "stdout",
                    "text": "\b\b\b\b\b\b\b\b\b\b\b\b\b\b\b\b\b\b\b\b\b\b\b\b\b\b\b\b\b\b\b\b\b\b\b\b\b\b\b\b\b\b\b\b\b\b\b\b\b\b\b\b\b\b\b\b\b\b\b\b\b\b\b\b\b\b\b\b\b\b\b\b\b\b\b\b\b\b\b\b\b\b\b\b\b\r204/291 [====================>.........] - ETA: 23s - loss: 2.9872 - accuracy: 0.1510",
                    "output_type": "stream"
                },
                {
                    "name": "stdout",
                    "text": "\b\b\b\b\b\b\b\b\b\b\b\b\b\b\b\b\b\b\b\b\b\b\b\b\b\b\b\b\b\b\b\b\b\b\b\b\b\b\b\b\b\b\b\b\b\b\b\b\b\b\b\b\b\b\b\b\b\b\b\b\b\b\b\b\b\b\b\b\b\b\b\b\b\b\b\b\b\b\b\b\b\b\b\b\b\r205/291 [====================>.........] - ETA: 22s - loss: 2.9880 - accuracy: 0.1514",
                    "output_type": "stream"
                },
                {
                    "name": "stdout",
                    "text": "\b\b\b\b\b\b\b\b\b\b\b\b\b\b\b\b\b\b\b\b\b\b\b\b\b\b\b\b\b\b\b\b\b\b\b\b\b\b\b\b\b\b\b\b\b\b\b\b\b\b\b\b\b\b\b\b\b\b\b\b\b\b\b\b\b\b\b\b\b\b\b\b\b\b\b\b\b\b\b\b\b\b\b\b\b\r206/291 [====================>.........] - ETA: 22s - loss: 2.9876 - accuracy: 0.1516",
                    "output_type": "stream"
                },
                {
                    "name": "stdout",
                    "text": "\b\b\b\b\b\b\b\b\b\b\b\b\b\b\b\b\b\b\b\b\b\b\b\b\b\b\b\b\b\b\b\b\b\b\b\b\b\b\b\b\b\b\b\b\b\b\b\b\b\b\b\b\b\b\b\b\b\b\b\b\b\b\b\b\b\b\b\b\b\b\b\b\b\b\b\b\b\b\b\b\b\b\b\b\b\r207/291 [====================>.........] - ETA: 22s - loss: 2.9843 - accuracy: 0.1526",
                    "output_type": "stream"
                },
                {
                    "name": "stdout",
                    "text": "\b\b\b\b\b\b\b\b\b\b\b\b\b\b\b\b\b\b\b\b\b\b\b\b\b\b\b\b\b\b\b\b\b\b\b\b\b\b\b\b\b\b\b\b\b\b\b\b\b\b\b\b\b\b\b\b\b\b\b\b\b\b\b\b\b\b\b\b\b\b\b\b\b\b\b\b\b\b\b\b\b\b\b\b\b\r208/291 [====================>.........] - ETA: 22s - loss: 2.9832 - accuracy: 0.1532",
                    "output_type": "stream"
                },
                {
                    "name": "stdout",
                    "text": "\b\b\b\b\b\b\b\b\b\b\b\b\b\b\b\b\b\b\b\b\b\b\b\b\b\b\b\b\b\b\b\b\b\b\b\b\b\b\b\b\b\b\b\b\b\b\b\b\b\b\b\b\b\b\b\b\b\b\b\b\b\b\b\b\b\b\b\b\b\b\b\b\b\b\b\b\b\b\b\b\b\b\b\b\b\r209/291 [====================>.........] - ETA: 21s - loss: 2.9816 - accuracy: 0.1542",
                    "output_type": "stream"
                },
                {
                    "name": "stdout",
                    "text": "\b\b\b\b\b\b\b\b\b\b\b\b\b\b\b\b\b\b\b\b\b\b\b\b\b\b\b\b\b\b\b\b\b\b\b\b\b\b\b\b\b\b\b\b\b\b\b\b\b\b\b\b\b\b\b\b\b\b\b\b\b\b\b\b\b\b\b\b\b\b\b\b\b\b\b\b\b\b\b\b\b\b\b\b\b\r210/291 [====================>.........] - ETA: 21s - loss: 2.9808 - accuracy: 0.1541",
                    "output_type": "stream"
                },
                {
                    "name": "stdout",
                    "text": "\b\b\b\b\b\b\b\b\b\b\b\b\b\b\b\b\b\b\b\b\b\b\b\b\b\b\b\b\b\b\b\b\b\b\b\b\b\b\b\b\b\b\b\b\b\b\b\b\b\b\b\b\b\b\b\b\b\b\b\b\b\b\b\b\b\b\b\b\b\b\b\b\b\b\b\b\b\b\b\b\b\b\b\b\b\r211/291 [====================>.........] - ETA: 21s - loss: 2.9806 - accuracy: 0.1543",
                    "output_type": "stream"
                },
                {
                    "name": "stdout",
                    "text": "\b\b\b\b\b\b\b\b\b\b\b\b\b\b\b\b\b\b\b\b\b\b\b\b\b\b\b\b\b\b\b\b\b\b\b\b\b\b\b\b\b\b\b\b\b\b\b\b\b\b\b\b\b\b\b\b\b\b\b\b\b\b\b\b\b\b\b\b\b\b\b\b\b\b\b\b\b\b\b\b\b\b\b\b\b\r212/291 [====================>.........] - ETA: 21s - loss: 2.9794 - accuracy: 0.1550",
                    "output_type": "stream"
                },
                {
                    "name": "stdout",
                    "text": "\b\b\b\b\b\b\b\b\b\b\b\b\b\b\b\b\b\b\b\b\b\b\b\b\b\b\b\b\b\b\b\b\b\b\b\b\b\b\b\b\b\b\b\b\b\b\b\b\b\b\b\b\b\b\b\b\b\b\b\b\b\b\b\b\b\b\b\b\b\b\b\b\b\b\b\b\b\b\b\b\b\b\b\b\b\r213/291 [====================>.........] - ETA: 20s - loss: 2.9783 - accuracy: 0.1553",
                    "output_type": "stream"
                },
                {
                    "name": "stdout",
                    "text": "\b\b\b\b\b\b\b\b\b\b\b\b\b\b\b\b\b\b\b\b\b\b\b\b\b\b\b\b\b\b\b\b\b\b\b\b\b\b\b\b\b\b\b\b\b\b\b\b\b\b\b\b\b\b\b\b\b\b\b\b\b\b\b\b\b\b\b\b\b\b\b\b\b\b\b\b\b\b\b\b\b\b\b\b\b\r214/291 [=====================>........] - ETA: 20s - loss: 2.9775 - accuracy: 0.1555",
                    "output_type": "stream"
                },
                {
                    "name": "stdout",
                    "text": "\b\b\b\b\b\b\b\b\b\b\b\b\b\b\b\b\b\b\b\b\b\b\b\b\b\b\b\b\b\b\b\b\b\b\b\b\b\b\b\b\b\b\b\b\b\b\b\b\b\b\b\b\b\b\b\b\b\b\b\b\b\b\b\b\b\b\b\b\b\b\b\b\b\b\b\b\b\b\b\b\b\b\b\b\b\r215/291 [=====================>........] - ETA: 20s - loss: 2.9771 - accuracy: 0.1558",
                    "output_type": "stream"
                },
                {
                    "name": "stdout",
                    "text": "\b\b\b\b\b\b\b\b\b\b\b\b\b\b\b\b\b\b\b\b\b\b\b\b\b\b\b\b\b\b\b\b\b\b\b\b\b\b\b\b\b\b\b\b\b\b\b\b\b\b\b\b\b\b\b\b\b\b\b\b\b\b\b\b\b\b\b\b\b\b\b\b\b\b\b\b\b\b\b\b\b\b\b\b\b\r216/291 [=====================>........] - ETA: 19s - loss: 2.9752 - accuracy: 0.1562",
                    "output_type": "stream"
                },
                {
                    "name": "stdout",
                    "text": "\b\b\b\b\b\b\b\b\b\b\b\b\b\b\b\b\b\b\b\b\b\b\b\b\b\b\b\b\b\b\b\b\b\b\b\b\b\b\b\b\b\b\b\b\b\b\b\b\b\b\b\b\b\b\b\b\b\b\b\b\b\b\b\b\b\b\b\b\b\b\b\b\b\b\b\b\b\b\b\b\b\b\b\b\b\r217/291 [=====================>........] - ETA: 19s - loss: 2.9742 - accuracy: 0.1567",
                    "output_type": "stream"
                },
                {
                    "name": "stdout",
                    "text": "\b\b\b\b\b\b\b\b\b\b\b\b\b\b\b\b\b\b\b\b\b\b\b\b\b\b\b\b\b\b\b\b\b\b\b\b\b\b\b\b\b\b\b\b\b\b\b\b\b\b\b\b\b\b\b\b\b\b\b\b\b\b\b\b\b\b\b\b\b\b\b\b\b\b\b\b\b\b\b\b\b\b\b\b\b\r218/291 [=====================>........] - ETA: 19s - loss: 2.9725 - accuracy: 0.1572",
                    "output_type": "stream"
                },
                {
                    "name": "stdout",
                    "text": "\b\b\b\b\b\b\b\b\b\b\b\b\b\b\b\b\b\b\b\b\b\b\b\b\b\b\b\b\b\b\b\b\b\b\b\b\b\b\b\b\b\b\b\b\b\b\b\b\b\b\b\b\b\b\b\b\b\b\b\b\b\b\b\b\b\b\b\b\b\b\b\b\b\b\b\b\b\b\b\b\b\b\b\b\b\r219/291 [=====================>........] - ETA: 19s - loss: 2.9712 - accuracy: 0.1575",
                    "output_type": "stream"
                },
                {
                    "name": "stdout",
                    "text": "\b\b\b\b\b\b\b\b\b\b\b\b\b\b\b\b\b\b\b\b\b\b\b\b\b\b\b\b\b\b\b\b\b\b\b\b\b\b\b\b\b\b\b\b\b\b\b\b\b\b\b\b\b\b\b\b\b\b\b\b\b\b\b\b\b\b\b\b\b\b\b\b\b\b\b\b\b\b\b\b\b\b\b\b\b\r220/291 [=====================>........] - ETA: 18s - loss: 2.9710 - accuracy: 0.1576",
                    "output_type": "stream"
                },
                {
                    "name": "stdout",
                    "text": "\b\b\b\b\b\b\b\b\b\b\b\b\b\b\b\b\b\b\b\b\b\b\b\b\b\b\b\b\b\b\b\b\b\b\b\b\b\b\b\b\b\b\b\b\b\b\b\b\b\b\b\b\b\b\b\b\b\b\b\b\b\b\b\b\b\b\b\b\b\b\b\b\b\b\b\b\b\b\b\b\b\b\b\b\b\r221/291 [=====================>........] - ETA: 18s - loss: 2.9690 - accuracy: 0.1587",
                    "output_type": "stream"
                },
                {
                    "name": "stdout",
                    "text": "\b\b\b\b\b\b\b\b\b\b\b\b\b\b\b\b\b\b\b\b\b\b\b\b\b\b\b\b\b\b\b\b\b\b\b\b\b\b\b\b\b\b\b\b\b\b\b\b\b\b\b\b\b\b\b\b\b\b\b\b\b\b\b\b\b\b\b\b\b\b\b\b\b\b\b\b\b\b\b\b\b\b\b\b\b\r222/291 [=====================>........] - ETA: 18s - loss: 2.9667 - accuracy: 0.1598",
                    "output_type": "stream"
                },
                {
                    "name": "stdout",
                    "text": "\b\b\b\b\b\b\b\b\b\b\b\b\b\b\b\b\b\b\b\b\b\b\b\b\b\b\b\b\b\b\b\b\b\b\b\b\b\b\b\b\b\b\b\b\b\b\b\b\b\b\b\b\b\b\b\b\b\b\b\b\b\b\b\b\b\b\b\b\b\b\b\b\b\b\b\b\b\b\b\b\b\b\b\b\b\r223/291 [=====================>........] - ETA: 18s - loss: 2.9658 - accuracy: 0.1602",
                    "output_type": "stream"
                },
                {
                    "name": "stdout",
                    "text": "\b\b\b\b\b\b\b\b\b\b\b\b\b\b\b\b\b\b\b\b\b\b\b\b\b\b\b\b\b\b\b\b\b\b\b\b\b\b\b\b\b\b\b\b\b\b\b\b\b\b\b\b\b\b\b\b\b\b\b\b\b\b\b\b\b\b\b\b\b\b\b\b\b\b\b\b\b\b\b\b\b\b\b\b\b\r224/291 [======================>.......] - ETA: 17s - loss: 2.9645 - accuracy: 0.1604",
                    "output_type": "stream"
                },
                {
                    "name": "stdout",
                    "text": "\b\b\b\b\b\b\b\b\b\b\b\b\b\b\b\b\b\b\b\b\b\b\b\b\b\b\b\b\b\b\b\b\b\b\b\b\b\b\b\b\b\b\b\b\b\b\b\b\b\b\b\b\b\b\b\b\b\b\b\b\b\b\b\b\b\b\b\b\b\b\b\b\b\b\b\b\b\b\b\b\b\b\b\b\b\r225/291 [======================>.......] - ETA: 17s - loss: 2.9641 - accuracy: 0.1605",
                    "output_type": "stream"
                },
                {
                    "name": "stdout",
                    "text": "\b\b\b\b\b\b\b\b\b\b\b\b\b\b\b\b\b\b\b\b\b\b\b\b\b\b\b\b\b\b\b\b\b\b\b\b\b\b\b\b\b\b\b\b\b\b\b\b\b\b\b\b\b\b\b\b\b\b\b\b\b\b\b\b\b\b\b\b\b\b\b\b\b\b\b\b\b\b\b\b\b\b\b\b\b\r226/291 [======================>.......] - ETA: 17s - loss: 2.9640 - accuracy: 0.1605",
                    "output_type": "stream"
                },
                {
                    "name": "stdout",
                    "text": "\b\b\b\b\b\b\b\b\b\b\b\b\b\b\b\b\b\b\b\b\b\b\b\b\b\b\b\b\b\b\b\b\b\b\b\b\b\b\b\b\b\b\b\b\b\b\b\b\b\b\b\b\b\b\b\b\b\b\b\b\b\b\b\b\b\b\b\b\b\b\b\b\b\b\b\b\b\b\b\b\b\b\b\b\b\r227/291 [======================>.......] - ETA: 17s - loss: 2.9631 - accuracy: 0.1609",
                    "output_type": "stream"
                },
                {
                    "name": "stdout",
                    "text": "\b\b\b\b\b\b\b\b\b\b\b\b\b\b\b\b\b\b\b\b\b\b\b\b\b\b\b\b\b\b\b\b\b\b\b\b\b\b\b\b\b\b\b\b\b\b\b\b\b\b\b\b\b\b\b\b\b\b\b\b\b\b\b\b\b\b\b\b\b\b\b\b\b\b\b\b\b\b\b\b\b\b\b\b\b\r228/291 [======================>.......] - ETA: 16s - loss: 2.9624 - accuracy: 0.1613",
                    "output_type": "stream"
                },
                {
                    "name": "stdout",
                    "text": "\b\b\b\b\b\b\b\b\b\b\b\b\b\b\b\b\b\b\b\b\b\b\b\b\b\b\b\b\b\b\b\b\b\b\b\b\b\b\b\b\b\b\b\b\b\b\b\b\b\b\b\b\b\b\b\b\b\b\b\b\b\b\b\b\b\b\b\b\b\b\b\b\b\b\b\b\b\b\b\b\b\b\b\b\b\r229/291 [======================>.......] - ETA: 16s - loss: 2.9600 - accuracy: 0.1618",
                    "output_type": "stream"
                },
                {
                    "name": "stdout",
                    "text": "\b\b\b\b\b\b\b\b\b\b\b\b\b\b\b\b\b\b\b\b\b\b\b\b\b\b\b\b\b\b\b\b\b\b\b\b\b\b\b\b\b\b\b\b\b\b\b\b\b\b\b\b\b\b\b\b\b\b\b\b\b\b\b\b\b\b\b\b\b\b\b\b\b\b\b\b\b\b\b\b\b\b\b\b\b\r230/291 [======================>.......] - ETA: 16s - loss: 2.9590 - accuracy: 0.1620",
                    "output_type": "stream"
                },
                {
                    "name": "stdout",
                    "text": "\b\b\b\b\b\b\b\b\b\b\b\b\b\b\b\b\b\b\b\b\b\b\b\b\b\b\b\b\b\b\b\b\b\b\b\b\b\b\b\b\b\b\b\b\b\b\b\b\b\b\b\b\b\b\b\b\b\b\b\b\b\b\b\b\b\b\b\b\b\b\b\b\b\b\b\b\b\b\b\b\b\b\b\b\b\r231/291 [======================>.......] - ETA: 16s - loss: 2.9574 - accuracy: 0.1622",
                    "output_type": "stream"
                },
                {
                    "name": "stdout",
                    "text": "\b\b\b\b\b\b\b\b\b\b\b\b\b\b\b\b\b\b\b\b\b\b\b\b\b\b\b\b\b\b\b\b\b\b\b\b\b\b\b\b\b\b\b\b\b\b\b\b\b\b\b\b\b\b\b\b\b\b\b\b\b\b\b\b\b\b\b\b\b\b\b\b\b\b\b\b\b\b\b\b\b\b\b\b\b\r232/291 [======================>.......] - ETA: 15s - loss: 2.9562 - accuracy: 0.1624",
                    "output_type": "stream"
                },
                {
                    "name": "stdout",
                    "text": "\b\b\b\b\b\b\b\b\b\b\b\b\b\b\b\b\b\b\b\b\b\b\b\b\b\b\b\b\b\b\b\b\b\b\b\b\b\b\b\b\b\b\b\b\b\b\b\b\b\b\b\b\b\b\b\b\b\b\b\b\b\b\b\b\b\b\b\b\b\b\b\b\b\b\b\b\b\b\b\b\b\b\b\b\b\r233/291 [=======================>......] - ETA: 15s - loss: 2.9552 - accuracy: 0.1626",
                    "output_type": "stream"
                },
                {
                    "name": "stdout",
                    "text": "\b\b\b\b\b\b\b\b\b\b\b\b\b\b\b\b\b\b\b\b\b\b\b\b\b\b\b\b\b\b\b\b\b\b\b\b\b\b\b\b\b\b\b\b\b\b\b\b\b\b\b\b\b\b\b\b\b\b\b\b\b\b\b\b\b\b\b\b\b\b\b\b\b\b\b\b\b\b\b\b\b\b\b\b\b\r234/291 [=======================>......] - ETA: 15s - loss: 2.9544 - accuracy: 0.1629",
                    "output_type": "stream"
                },
                {
                    "name": "stdout",
                    "text": "\b\b\b\b\b\b\b\b\b\b\b\b\b\b\b\b\b\b\b\b\b\b\b\b\b\b\b\b\b\b\b\b\b\b\b\b\b\b\b\b\b\b\b\b\b\b\b\b\b\b\b\b\b\b\b\b\b\b\b\b\b\b\b\b\b\b\b\b\b\b\b\b\b\b\b\b\b\b\b\b\b\b\b\b\b\r235/291 [=======================>......] - ETA: 15s - loss: 2.9541 - accuracy: 0.1628",
                    "output_type": "stream"
                },
                {
                    "name": "stdout",
                    "text": "\b\b\b\b\b\b\b\b\b\b\b\b\b\b\b\b\b\b\b\b\b\b\b\b\b\b\b\b\b\b\b\b\b\b\b\b\b\b\b\b\b\b\b\b\b\b\b\b\b\b\b\b\b\b\b\b\b\b\b\b\b\b\b\b\b\b\b\b\b\b\b\b\b\b\b\b\b\b\b\b\b\b\b\b\b\r236/291 [=======================>......] - ETA: 14s - loss: 2.9534 - accuracy: 0.1633",
                    "output_type": "stream"
                },
                {
                    "name": "stdout",
                    "text": "\b\b\b\b\b\b\b\b\b\b\b\b\b\b\b\b\b\b\b\b\b\b\b\b\b\b\b\b\b\b\b\b\b\b\b\b\b\b\b\b\b\b\b\b\b\b\b\b\b\b\b\b\b\b\b\b\b\b\b\b\b\b\b\b\b\b\b\b\b\b\b\b\b\b\b\b\b\b\b\b\b\b\b\b\b\r237/291 [=======================>......] - ETA: 14s - loss: 2.9526 - accuracy: 0.1636",
                    "output_type": "stream"
                },
                {
                    "name": "stdout",
                    "text": "\b\b\b\b\b\b\b\b\b\b\b\b\b\b\b\b\b\b\b\b\b\b\b\b\b\b\b\b\b\b\b\b\b\b\b\b\b\b\b\b\b\b\b\b\b\b\b\b\b\b\b\b\b\b\b\b\b\b\b\b\b\b\b\b\b\b\b\b\b\b\b\b\b\b\b\b\b\b\b\b\b\b\b\b\b\r238/291 [=======================>......] - ETA: 14s - loss: 2.9511 - accuracy: 0.1639",
                    "output_type": "stream"
                },
                {
                    "name": "stdout",
                    "text": "\b\b\b\b\b\b\b\b\b\b\b\b\b\b\b\b\b\b\b\b\b\b\b\b\b\b\b\b\b\b\b\b\b\b\b\b\b\b\b\b\b\b\b\b\b\b\b\b\b\b\b\b\b\b\b\b\b\b\b\b\b\b\b\b\b\b\b\b\b\b\b\b\b\b\b\b\b\b\b\b\b\b\b\b\b\r239/291 [=======================>......] - ETA: 14s - loss: 2.9498 - accuracy: 0.1640",
                    "output_type": "stream"
                },
                {
                    "name": "stdout",
                    "text": "\b\b\b\b\b\b\b\b\b\b\b\b\b\b\b\b\b\b\b\b\b\b\b\b\b\b\b\b\b\b\b\b\b\b\b\b\b\b\b\b\b\b\b\b\b\b\b\b\b\b\b\b\b\b\b\b\b\b\b\b\b\b\b\b\b\b\b\b\b\b\b\b\b\b\b\b\b\b\b\b\b\b\b\b\b\r240/291 [=======================>......] - ETA: 13s - loss: 2.9490 - accuracy: 0.1645",
                    "output_type": "stream"
                },
                {
                    "name": "stdout",
                    "text": "\b\b\b\b\b\b\b\b\b\b\b\b\b\b\b\b\b\b\b\b\b\b\b\b\b\b\b\b\b\b\b\b\b\b\b\b\b\b\b\b\b\b\b\b\b\b\b\b\b\b\b\b\b\b\b\b\b\b\b\b\b\b\b\b\b\b\b\b\b\b\b\b\b\b\b\b\b\b\b\b\b\b\b\b\b\r241/291 [=======================>......] - ETA: 13s - loss: 2.9475 - accuracy: 0.1649",
                    "output_type": "stream"
                },
                {
                    "name": "stdout",
                    "text": "\b\b\b\b\b\b\b\b\b\b\b\b\b\b\b\b\b\b\b\b\b\b\b\b\b\b\b\b\b\b\b\b\b\b\b\b\b\b\b\b\b\b\b\b\b\b\b\b\b\b\b\b\b\b\b\b\b\b\b\b\b\b\b\b\b\b\b\b\b\b\b\b\b\b\b\b\b\b\b\b\b\b\b\b\b\r242/291 [=======================>......] - ETA: 13s - loss: 2.9474 - accuracy: 0.1652",
                    "output_type": "stream"
                },
                {
                    "name": "stdout",
                    "text": "\b\b\b\b\b\b\b\b\b\b\b\b\b\b\b\b\b\b\b\b\b\b\b\b\b\b\b\b\b\b\b\b\b\b\b\b\b\b\b\b\b\b\b\b\b\b\b\b\b\b\b\b\b\b\b\b\b\b\b\b\b\b\b\b\b\b\b\b\b\b\b\b\b\b\b\b\b\b\b\b\b\b\b\b\b\r243/291 [========================>.....] - ETA: 13s - loss: 2.9466 - accuracy: 0.1656",
                    "output_type": "stream"
                },
                {
                    "name": "stdout",
                    "text": "\b\b\b\b\b\b\b\b\b\b\b\b\b\b\b\b\b\b\b\b\b\b\b\b\b\b\b\b\b\b\b\b\b\b\b\b\b\b\b\b\b\b\b\b\b\b\b\b\b\b\b\b\b\b\b\b\b\b\b\b\b\b\b\b\b\b\b\b\b\b\b\b\b\b\b\b\b\b\b\b\b\b\b\b\b\r244/291 [========================>.....] - ETA: 12s - loss: 2.9461 - accuracy: 0.1657",
                    "output_type": "stream"
                },
                {
                    "name": "stdout",
                    "text": "\b\b\b\b\b\b\b\b\b\b\b\b\b\b\b\b\b\b\b\b\b\b\b\b\b\b\b\b\b\b\b\b\b\b\b\b\b\b\b\b\b\b\b\b\b\b\b\b\b\b\b\b\b\b\b\b\b\b\b\b\b\b\b\b\b\b\b\b\b\b\b\b\b\b\b\b\b\b\b\b\b\b\b\b\b\r245/291 [========================>.....] - ETA: 12s - loss: 2.9457 - accuracy: 0.1657",
                    "output_type": "stream"
                },
                {
                    "name": "stdout",
                    "text": "\b\b\b\b\b\b\b\b\b\b\b\b\b\b\b\b\b\b\b\b\b\b\b\b\b\b\b\b\b\b\b\b\b\b\b\b\b\b\b\b\b\b\b\b\b\b\b\b\b\b\b\b\b\b\b\b\b\b\b\b\b\b\b\b\b\b\b\b\b\b\b\b\b\b\b\b\b\b\b\b\b\b\b\b\b\r246/291 [========================>.....] - ETA: 12s - loss: 2.9435 - accuracy: 0.1661",
                    "output_type": "stream"
                },
                {
                    "name": "stdout",
                    "text": "\b\b\b\b\b\b\b\b\b\b\b\b\b\b\b\b\b\b\b\b\b\b\b\b\b\b\b\b\b\b\b\b\b\b\b\b\b\b\b\b\b\b\b\b\b\b\b\b\b\b\b\b\b\b\b\b\b\b\b\b\b\b\b\b\b\b\b\b\b\b\b\b\b\b\b\b\b\b\b\b\b\b\b\b\b\r247/291 [========================>.....] - ETA: 12s - loss: 2.9425 - accuracy: 0.1664",
                    "output_type": "stream"
                },
                {
                    "name": "stdout",
                    "text": "\b\b\b\b\b\b\b\b\b\b\b\b\b\b\b\b\b\b\b\b\b\b\b\b\b\b\b\b\b\b\b\b\b\b\b\b\b\b\b\b\b\b\b\b\b\b\b\b\b\b\b\b\b\b\b\b\b\b\b\b\b\b\b\b\b\b\b\b\b\b\b\b\b\b\b\b\b\b\b\b\b\b\b\b\b\r248/291 [========================>.....] - ETA: 11s - loss: 2.9410 - accuracy: 0.1666",
                    "output_type": "stream"
                },
                {
                    "name": "stdout",
                    "text": "\b\b\b\b\b\b\b\b\b\b\b\b\b\b\b\b\b\b\b\b\b\b\b\b\b\b\b\b\b\b\b\b\b\b\b\b\b\b\b\b\b\b\b\b\b\b\b\b\b\b\b\b\b\b\b\b\b\b\b\b\b\b\b\b\b\b\b\b\b\b\b\b\b\b\b\b\b\b\b\b\b\b\b\b\b\r249/291 [========================>.....] - ETA: 11s - loss: 2.9405 - accuracy: 0.1669",
                    "output_type": "stream"
                },
                {
                    "name": "stdout",
                    "text": "\b\b\b\b\b\b\b\b\b\b\b\b\b\b\b\b\b\b\b\b\b\b\b\b\b\b\b\b\b\b\b\b\b\b\b\b\b\b\b\b\b\b\b\b\b\b\b\b\b\b\b\b\b\b\b\b\b\b\b\b\b\b\b\b\b\b\b\b\b\b\b\b\b\b\b\b\b\b\b\b\b\b\b\b\b\r250/291 [========================>.....] - ETA: 11s - loss: 2.9388 - accuracy: 0.1675",
                    "output_type": "stream"
                },
                {
                    "name": "stdout",
                    "text": "\b\b\b\b\b\b\b\b\b\b\b\b\b\b\b\b\b\b\b\b\b\b\b\b\b\b\b\b\b\b\b\b\b\b\b\b\b\b\b\b\b\b\b\b\b\b\b\b\b\b\b\b\b\b\b\b\b\b\b\b\b\b\b\b\b\b\b\b\b\b\b\b\b\b\b\b\b\b\b\b\b\b\b\b\b\r251/291 [========================>.....] - ETA: 11s - loss: 2.9375 - accuracy: 0.1678",
                    "output_type": "stream"
                },
                {
                    "name": "stdout",
                    "text": "\b\b\b\b\b\b\b\b\b\b\b\b\b\b\b\b\b\b\b\b\b\b\b\b\b\b\b\b\b\b\b\b\b\b\b\b\b\b\b\b\b\b\b\b\b\b\b\b\b\b\b\b\b\b\b\b\b\b\b\b\b\b\b\b\b\b\b\b\b\b\b\b\b\b\b\b\b\b\b\b\b\b\b\b\b\r252/291 [========================>.....] - ETA: 10s - loss: 2.9362 - accuracy: 0.1678",
                    "output_type": "stream"
                },
                {
                    "name": "stdout",
                    "text": "\b\b\b\b\b\b\b\b\b\b\b\b\b\b\b\b\b\b\b\b\b\b\b\b\b\b\b\b\b\b\b\b\b\b\b\b\b\b\b\b\b\b\b\b\b\b\b\b\b\b\b\b\b\b\b\b\b\b\b\b\b\b\b\b\b\b\b\b\b\b\b\b\b\b\b\b\b\b\b\b\b\b\b\b\b\r253/291 [=========================>....] - ETA: 10s - loss: 2.9354 - accuracy: 0.1680",
                    "output_type": "stream"
                },
                {
                    "name": "stdout",
                    "text": "\b\b\b\b\b\b\b\b\b\b\b\b\b\b\b\b\b\b\b\b\b\b\b\b\b\b\b\b\b\b\b\b\b\b\b\b\b\b\b\b\b\b\b\b\b\b\b\b\b\b\b\b\b\b\b\b\b\b\b\b\b\b\b\b\b\b\b\b\b\b\b\b\b\b\b\b\b\b\b\b\b\b\b\b\b\r254/291 [=========================>....] - ETA: 10s - loss: 2.9348 - accuracy: 0.1684",
                    "output_type": "stream"
                },
                {
                    "name": "stdout",
                    "text": "\b\b\b\b\b\b\b\b\b\b\b\b\b\b\b\b\b\b\b\b\b\b\b\b\b\b\b\b\b\b\b\b\b\b\b\b\b\b\b\b\b\b\b\b\b\b\b\b\b\b\b\b\b\b\b\b\b\b\b\b\b\b\b\b\b\b\b\b\b\b\b\b\b\b\b\b\b\b\b\b\b\b\b\b\b\r255/291 [=========================>....] - ETA: 10s - loss: 2.9342 - accuracy: 0.1690",
                    "output_type": "stream"
                },
                {
                    "name": "stdout",
                    "text": "\b\b\b\b\b\b\b\b\b\b\b\b\b\b\b\b\b\b\b\b\b\b\b\b\b\b\b\b\b\b\b\b\b\b\b\b\b\b\b\b\b\b\b\b\b\b\b\b\b\b\b\b\b\b\b\b\b\b\b\b\b\b\b\b\b\b\b\b\b\b\b\b\b\b\b\b\b\b\b\b\b\b\b\b\b\r256/291 [=========================>....] - ETA: 9s - loss: 2.9327 - accuracy: 0.1693 ",
                    "output_type": "stream"
                },
                {
                    "name": "stdout",
                    "text": "\b\b\b\b\b\b\b\b\b\b\b\b\b\b\b\b\b\b\b\b\b\b\b\b\b\b\b\b\b\b\b\b\b\b\b\b\b\b\b\b\b\b\b\b\b\b\b\b\b\b\b\b\b\b\b\b\b\b\b\b\b\b\b\b\b\b\b\b\b\b\b\b\b\b\b\b\b\b\b\b\b\b\b\b\r257/291 [=========================>....] - ETA: 9s - loss: 2.9312 - accuracy: 0.1697",
                    "output_type": "stream"
                },
                {
                    "name": "stdout",
                    "text": "\b\b\b\b\b\b\b\b\b\b\b\b\b\b\b\b\b\b\b\b\b\b\b\b\b\b\b\b\b\b\b\b\b\b\b\b\b\b\b\b\b\b\b\b\b\b\b\b\b\b\b\b\b\b\b\b\b\b\b\b\b\b\b\b\b\b\b\b\b\b\b\b\b\b\b\b\b\b\b\b\b\b\b\b\r258/291 [=========================>....] - ETA: 9s - loss: 2.9294 - accuracy: 0.1700",
                    "output_type": "stream"
                },
                {
                    "name": "stdout",
                    "text": "\b\b\b\b\b\b\b\b\b\b\b\b\b\b\b\b\b\b\b\b\b\b\b\b\b\b\b\b\b\b\b\b\b\b\b\b\b\b\b\b\b\b\b\b\b\b\b\b\b\b\b\b\b\b\b\b\b\b\b\b\b\b\b\b\b\b\b\b\b\b\b\b\b\b\b\b\b\b\b\b\b\b\b\b\r259/291 [=========================>....] - ETA: 8s - loss: 2.9280 - accuracy: 0.1705",
                    "output_type": "stream"
                },
                {
                    "name": "stdout",
                    "text": "\b\b\b\b\b\b\b\b\b\b\b\b\b\b\b\b\b\b\b\b\b\b\b\b\b\b\b\b\b\b\b\b\b\b\b\b\b\b\b\b\b\b\b\b\b\b\b\b\b\b\b\b\b\b\b\b\b\b\b\b\b\b\b\b\b\b\b\b\b\b\b\b\b\b\b\b\b\b\b\b\b\b\b\b\r260/291 [=========================>....] - ETA: 8s - loss: 2.9258 - accuracy: 0.1712",
                    "output_type": "stream"
                },
                {
                    "name": "stdout",
                    "text": "\b\b\b\b\b\b\b\b\b\b\b\b\b\b\b\b\b\b\b\b\b\b\b\b\b\b\b\b\b\b\b\b\b\b\b\b\b\b\b\b\b\b\b\b\b\b\b\b\b\b\b\b\b\b\b\b\b\b\b\b\b\b\b\b\b\b\b\b\b\b\b\b\b\b\b\b\b\b\b\b\b\b\b\b\r261/291 [=========================>....] - ETA: 8s - loss: 2.9256 - accuracy: 0.1713",
                    "output_type": "stream"
                },
                {
                    "name": "stdout",
                    "text": "\b\b\b\b\b\b\b\b\b\b\b\b\b\b\b\b\b\b\b\b\b\b\b\b\b\b\b\b\b\b\b\b\b\b\b\b\b\b\b\b\b\b\b\b\b\b\b\b\b\b\b\b\b\b\b\b\b\b\b\b\b\b\b\b\b\b\b\b\b\b\b\b\b\b\b\b\b\b\b\b\b\b\b\b\r262/291 [==========================>...] - ETA: 8s - loss: 2.9257 - accuracy: 0.1712",
                    "output_type": "stream"
                },
                {
                    "name": "stdout",
                    "text": "\b\b\b\b\b\b\b\b\b\b\b\b\b\b\b\b\b\b\b\b\b\b\b\b\b\b\b\b\b\b\b\b\b\b\b\b\b\b\b\b\b\b\b\b\b\b\b\b\b\b\b\b\b\b\b\b\b\b\b\b\b\b\b\b\b\b\b\b\b\b\b\b\b\b\b\b\b\b\b\b\b\b\b\b\r263/291 [==========================>...] - ETA: 7s - loss: 2.9247 - accuracy: 0.1713",
                    "output_type": "stream"
                },
                {
                    "name": "stdout",
                    "text": "\b\b\b\b\b\b\b\b\b\b\b\b\b\b\b\b\b\b\b\b\b\b\b\b\b\b\b\b\b\b\b\b\b\b\b\b\b\b\b\b\b\b\b\b\b\b\b\b\b\b\b\b\b\b\b\b\b\b\b\b\b\b\b\b\b\b\b\b\b\b\b\b\b\b\b\b\b\b\b\b\b\b\b\b\r264/291 [==========================>...] - ETA: 7s - loss: 2.9235 - accuracy: 0.1716",
                    "output_type": "stream"
                },
                {
                    "name": "stdout",
                    "text": "\b\b\b\b\b\b\b\b\b\b\b\b\b\b\b\b\b\b\b\b\b\b\b\b\b\b\b\b\b\b\b\b\b\b\b\b\b\b\b\b\b\b\b\b\b\b\b\b\b\b\b\b\b\b\b\b\b\b\b\b\b\b\b\b\b\b\b\b\b\b\b\b\b\b\b\b\b\b\b\b\b\b\b\b\r265/291 [==========================>...] - ETA: 7s - loss: 2.9220 - accuracy: 0.1721",
                    "output_type": "stream"
                },
                {
                    "name": "stdout",
                    "text": "\b\b\b\b\b\b\b\b\b\b\b\b\b\b\b\b\b\b\b\b\b\b\b\b\b\b\b\b\b\b\b\b\b\b\b\b\b\b\b\b\b\b\b\b\b\b\b\b\b\b\b\b\b\b\b\b\b\b\b\b\b\b\b\b\b\b\b\b\b\b\b\b\b\b\b\b\b\b\b\b\b\b\b\b\r266/291 [==========================>...] - ETA: 7s - loss: 2.9216 - accuracy: 0.1722",
                    "output_type": "stream"
                },
                {
                    "name": "stdout",
                    "text": "\b\b\b\b\b\b\b\b\b\b\b\b\b\b\b\b\b\b\b\b\b\b\b\b\b\b\b\b\b\b\b\b\b\b\b\b\b\b\b\b\b\b\b\b\b\b\b\b\b\b\b\b\b\b\b\b\b\b\b\b\b\b\b\b\b\b\b\b\b\b\b\b\b\b\b\b\b\b\b\b\b\b\b\b\r267/291 [==========================>...] - ETA: 6s - loss: 2.9200 - accuracy: 0.1723",
                    "output_type": "stream"
                },
                {
                    "name": "stdout",
                    "text": "\b\b\b\b\b\b\b\b\b\b\b\b\b\b\b\b\b\b\b\b\b\b\b\b\b\b\b\b\b\b\b\b\b\b\b\b\b\b\b\b\b\b\b\b\b\b\b\b\b\b\b\b\b\b\b\b\b\b\b\b\b\b\b\b\b\b\b\b\b\b\b\b\b\b\b\b\b\b\b\b\b\b\b\b\r268/291 [==========================>...] - ETA: 6s - loss: 2.9190 - accuracy: 0.1725",
                    "output_type": "stream"
                },
                {
                    "name": "stdout",
                    "text": "\b\b\b\b\b\b\b\b\b\b\b\b\b\b\b\b\b\b\b\b\b\b\b\b\b\b\b\b\b\b\b\b\b\b\b\b\b\b\b\b\b\b\b\b\b\b\b\b\b\b\b\b\b\b\b\b\b\b\b\b\b\b\b\b\b\b\b\b\b\b\b\b\b\b\b\b\b\b\b\b\b\b\b\b\r269/291 [==========================>...] - ETA: 6s - loss: 2.9177 - accuracy: 0.1728",
                    "output_type": "stream"
                },
                {
                    "name": "stdout",
                    "text": "\b\b\b\b\b\b\b\b\b\b\b\b\b\b\b\b\b\b\b\b\b\b\b\b\b\b\b\b\b\b\b\b\b\b\b\b\b\b\b\b\b\b\b\b\b\b\b\b\b\b\b\b\b\b\b\b\b\b\b\b\b\b\b\b\b\b\b\b\b\b\b\b\b\b\b\b\b\b\b\b\b\b\b\b\r270/291 [==========================>...] - ETA: 5s - loss: 2.9170 - accuracy: 0.1730",
                    "output_type": "stream"
                },
                {
                    "name": "stdout",
                    "text": "\b\b\b\b\b\b\b\b\b\b\b\b\b\b\b\b\b\b\b\b\b\b\b\b\b\b\b\b\b\b\b\b\b\b\b\b\b\b\b\b\b\b\b\b\b\b\b\b\b\b\b\b\b\b\b\b\b\b\b\b\b\b\b\b\b\b\b\b\b\b\b\b\b\b\b\b\b\b\b\b\b\b\b\b\r271/291 [==========================>...] - ETA: 5s - loss: 2.9169 - accuracy: 0.1733",
                    "output_type": "stream"
                },
                {
                    "name": "stdout",
                    "text": "\b\b\b\b\b\b\b\b\b\b\b\b\b\b\b\b\b\b\b\b\b\b\b\b\b\b\b\b\b\b\b\b\b\b\b\b\b\b\b\b\b\b\b\b\b\b\b\b\b\b\b\b\b\b\b\b\b\b\b\b\b\b\b\b\b\b\b\b\b\b\b\b\b\b\b\b\b\b\b\b\b\b\b\b\r272/291 [===========================>..] - ETA: 5s - loss: 2.9151 - accuracy: 0.1736",
                    "output_type": "stream"
                },
                {
                    "name": "stdout",
                    "text": "\b\b\b\b\b\b\b\b\b\b\b\b\b\b\b\b\b\b\b\b\b\b\b\b\b\b\b\b\b\b\b\b\b\b\b\b\b\b\b\b\b\b\b\b\b\b\b\b\b\b\b\b\b\b\b\b\b\b\b\b\b\b\b\b\b\b\b\b\b\b\b\b\b\b\b\b\b\b\b\b\b\b\b\b\r273/291 [===========================>..] - ETA: 5s - loss: 2.9141 - accuracy: 0.1739",
                    "output_type": "stream"
                },
                {
                    "name": "stdout",
                    "text": "\b\b\b\b\b\b\b\b\b\b\b\b\b\b\b\b\b\b\b\b\b\b\b\b\b\b\b\b\b\b\b\b\b\b\b\b\b\b\b\b\b\b\b\b\b\b\b\b\b\b\b\b\b\b\b\b\b\b\b\b\b\b\b\b\b\b\b\b\b\b\b\b\b\b\b\b\b\b\b\b\b\b\b\b\r274/291 [===========================>..] - ETA: 4s - loss: 2.9124 - accuracy: 0.1746",
                    "output_type": "stream"
                },
                {
                    "name": "stdout",
                    "text": "\b\b\b\b\b\b\b\b\b\b\b\b\b\b\b\b\b\b\b\b\b\b\b\b\b\b\b\b\b\b\b\b\b\b\b\b\b\b\b\b\b\b\b\b\b\b\b\b\b\b\b\b\b\b\b\b\b\b\b\b\b\b\b\b\b\b\b\b\b\b\b\b\b\b\b\b\b\b\b\b\b\b\b\b\r275/291 [===========================>..] - ETA: 4s - loss: 2.9106 - accuracy: 0.1751",
                    "output_type": "stream"
                },
                {
                    "name": "stdout",
                    "text": "\b\b\b\b\b\b\b\b\b\b\b\b\b\b\b\b\b\b\b\b\b\b\b\b\b\b\b\b\b\b\b\b\b\b\b\b\b\b\b\b\b\b\b\b\b\b\b\b\b\b\b\b\b\b\b\b\b\b\b\b\b\b\b\b\b\b\b\b\b\b\b\b\b\b\b\b\b\b\b\b\b\b\b\b\r276/291 [===========================>..] - ETA: 4s - loss: 2.9106 - accuracy: 0.1750",
                    "output_type": "stream"
                },
                {
                    "name": "stdout",
                    "text": "\b\b\b\b\b\b\b\b\b\b\b\b\b\b\b\b\b\b\b\b\b\b\b\b\b\b\b\b\b\b\b\b\b\b\b\b\b\b\b\b\b\b\b\b\b\b\b\b\b\b\b\b\b\b\b\b\b\b\b\b\b\b\b\b\b\b\b\b\b\b\b\b\b\b\b\b\b\b\b\b\b\b\b\b\r277/291 [===========================>..] - ETA: 4s - loss: 2.9087 - accuracy: 0.1754",
                    "output_type": "stream"
                },
                {
                    "name": "stdout",
                    "text": "\b\b\b\b\b\b\b\b\b\b\b\b\b\b\b\b\b\b\b\b\b\b\b\b\b\b\b\b\b\b\b\b\b\b\b\b\b\b\b\b\b\b\b\b\b\b\b\b\b\b\b\b\b\b\b\b\b\b\b\b\b\b\b\b\b\b\b\b\b\b\b\b\b\b\b\b\b\b\b\b\b\b\b\b\r278/291 [===========================>..] - ETA: 3s - loss: 2.9075 - accuracy: 0.1759",
                    "output_type": "stream"
                },
                {
                    "name": "stdout",
                    "text": "\b\b\b\b\b\b\b\b\b\b\b\b\b\b\b\b\b\b\b\b\b\b\b\b\b\b\b\b\b\b\b\b\b\b\b\b\b\b\b\b\b\b\b\b\b\b\b\b\b\b\b\b\b\b\b\b\b\b\b\b\b\b\b\b\b\b\b\b\b\b\b\b\b\b\b\b\b\b\b\b\b\b\b\b\r279/291 [===========================>..] - ETA: 3s - loss: 2.9069 - accuracy: 0.1760",
                    "output_type": "stream"
                },
                {
                    "name": "stdout",
                    "text": "\b\b\b\b\b\b\b\b\b\b\b\b\b\b\b\b\b\b\b\b\b\b\b\b\b\b\b\b\b\b\b\b\b\b\b\b\b\b\b\b\b\b\b\b\b\b\b\b\b\b\b\b\b\b\b\b\b\b\b\b\b\b\b\b\b\b\b\b\b\b\b\b\b\b\b\b\b\b\b\b\b\b\b\b\r280/291 [===========================>..] - ETA: 3s - loss: 2.9051 - accuracy: 0.1763",
                    "output_type": "stream"
                },
                {
                    "name": "stdout",
                    "text": "\b\b\b\b\b\b\b\b\b\b\b\b\b\b\b\b\b\b\b\b\b\b\b\b\b\b\b\b\b\b\b\b\b\b\b\b\b\b\b\b\b\b\b\b\b\b\b\b\b\b\b\b\b\b\b\b\b\b\b\b\b\b\b\b\b\b\b\b\b\b\b\b\b\b\b\b\b\b\b\b\b\b\b\b\r281/291 [===========================>..] - ETA: 2s - loss: 2.9047 - accuracy: 0.1765",
                    "output_type": "stream"
                },
                {
                    "name": "stdout",
                    "text": "\b\b\b\b\b\b\b\b\b\b\b\b\b\b\b\b\b\b\b\b\b\b\b\b\b\b\b\b\b\b\b\b\b\b\b\b\b\b\b\b\b\b\b\b\b\b\b\b\b\b\b\b\b\b\b\b\b\b\b\b\b\b\b\b\b\b\b\b\b\b\b\b\b\b\b\b\b\b\b\b\b\b\b\b\r282/291 [============================>.] - ETA: 2s - loss: 2.9025 - accuracy: 0.1772",
                    "output_type": "stream"
                },
                {
                    "name": "stdout",
                    "text": "\b\b\b\b\b\b\b\b\b\b\b\b\b\b\b\b\b\b\b\b\b\b\b\b\b\b\b\b\b\b\b\b\b\b\b\b\b\b\b\b\b\b\b\b\b\b\b\b\b\b\b\b\b\b\b\b\b\b\b\b\b\b\b\b\b\b\b\b\b\b\b\b\b\b\b\b\b\b\b\b\b\b\b\b\r283/291 [============================>.] - ETA: 2s - loss: 2.9018 - accuracy: 0.1776",
                    "output_type": "stream"
                },
                {
                    "name": "stdout",
                    "text": "\b\b\b\b\b\b\b\b\b\b\b\b\b\b\b\b\b\b\b\b\b\b\b\b\b\b\b\b\b\b\b\b\b\b\b\b\b\b\b\b\b\b\b\b\b\b\b\b\b\b\b\b\b\b\b\b\b\b\b\b\b\b\b\b\b\b\b\b\b\b\b\b\b\b\b\b\b\b\b\b\b\b\b\b\r284/291 [============================>.] - ETA: 2s - loss: 2.9010 - accuracy: 0.1777",
                    "output_type": "stream"
                },
                {
                    "name": "stdout",
                    "text": "\b\b\b\b\b\b\b\b\b\b\b\b\b\b\b\b\b\b\b\b\b\b\b\b\b\b\b\b\b\b\b\b\b\b\b\b\b\b\b\b\b\b\b\b\b\b\b\b\b\b\b\b\b\b\b\b\b\b\b\b\b\b\b\b\b\b\b\b\b\b\b\b\b\b\b\b\b\b\b\b\b\b\b\b\r285/291 [============================>.] - ETA: 1s - loss: 2.9004 - accuracy: 0.1780",
                    "output_type": "stream"
                },
                {
                    "name": "stdout",
                    "text": "\b\b\b\b\b\b\b\b\b\b\b\b\b\b\b\b\b\b\b\b\b\b\b\b\b\b\b\b\b\b\b\b\b\b\b\b\b\b\b\b\b\b\b\b\b\b\b\b\b\b\b\b\b\b\b\b\b\b\b\b\b\b\b\b\b\b\b\b\b\b\b\b\b\b\b\b\b\b\b\b\b\b\b\b\r286/291 [============================>.] - ETA: 1s - loss: 2.8996 - accuracy: 0.1783",
                    "output_type": "stream"
                },
                {
                    "name": "stdout",
                    "text": "\b\b\b\b\b\b\b\b\b\b\b\b\b\b\b\b\b\b\b\b\b\b\b\b\b\b\b\b\b\b\b\b\b\b\b\b\b\b\b\b\b\b\b\b\b\b\b\b\b\b\b\b\b\b\b\b\b\b\b\b\b\b\b\b\b\b\b\b\b\b\b\b\b\b\b\b\b\b\b\b\b\b\b\b\r287/291 [============================>.] - ETA: 1s - loss: 2.8987 - accuracy: 0.1786",
                    "output_type": "stream"
                },
                {
                    "name": "stdout",
                    "text": "\b\b\b\b\b\b\b\b\b\b\b\b\b\b\b\b\b\b\b\b\b\b\b\b\b\b\b\b\b\b\b\b\b\b\b\b\b\b\b\b\b\b\b\b\b\b\b\b\b\b\b\b\b\b\b\b\b\b\b\b\b\b\b\b\b\b\b\b\b\b\b\b\b\b\b\b\b\b\b\b\b\b\b\b\r288/291 [============================>.] - ETA: 0s - loss: 2.8966 - accuracy: 0.1791",
                    "output_type": "stream"
                },
                {
                    "name": "stdout",
                    "text": "\b\b\b\b\b\b\b\b\b\b\b\b\b\b\b\b\b\b\b\b\b\b\b\b\b\b\b\b\b\b\b\b\b\b\b\b\b\b\b\b\b\b\b\b\b\b\b\b\b\b\b\b\b\b\b\b\b\b\b\b\b\b\b\b\b\b\b\b\b\b\b\b\b\b\b\b\b\b\b\b\b\b\b\b\r289/291 [============================>.] - ETA: 0s - loss: 2.8956 - accuracy: 0.1792",
                    "output_type": "stream"
                },
                {
                    "name": "stdout",
                    "text": "\b\b\b\b\b\b\b\b\b\b\b\b\b\b\b\b\b\b\b\b\b\b\b\b\b\b\b\b\b\b\b\b\b\b\b\b\b\b\b\b\b\b\b\b\b\b\b\b\b\b\b\b\b\b\b\b\b\b\b\b\b\b\b\b\b\b\b\b\b\b\b\b\b\b\b\b\b\b\b\b\b\b\b\b\r290/291 [============================>.] - ETA: 0s - loss: 2.8937 - accuracy: 0.1798",
                    "output_type": "stream"
                },
                {
                    "name": "stdout",
                    "text": "\b\b\b\b\b\b\b\b\b\b\b\b\b\b\b\b\b\b\b\b\b\b\b\b\b\b\b\b\b\b\b\b\b\b\b\b\b\b\b\b\b\b\b\b\b\b\b\b\b\b\b\b\b\b\b\b\b\b\b\b\b\b\b\b\b\b\b\b\b\b\b\b\b\b\b\b\b\b\b\b\b\b\b\b\r291/291 [==============================] - ETA: 0s - loss: 2.8928 - accuracy: 0.1800",
                    "output_type": "stream"
                },
                {
                    "name": "stdout",
                    "text": "\b\b\b\b\b\b\b\b\b\b\b\b\b\b\b\b\b\b\b\b\b\b\b\b\b\b\b\b\b\b\b\b\b\b\b\b\b\b\b\b\b\b\b\b\b\b\b\b\b\b\b\b\b\b\b\b\b\b\b\b\b\b\b\b\b\b\b\b\b\b\b\b\b\b\b\b\b\b\b\b\b\b\b\b\r291/291 [==============================] - 85s 293ms/step - loss: 2.8928 - accuracy: 0.1800\n",
                    "output_type": "stream"
                },
                {
                    "name": "stdout",
                    "text": "Epoch 2/2\n",
                    "output_type": "stream"
                },
                {
                    "name": "stdout",
                    "text": "\r  1/291 [..............................] - ETA: 2:17 - loss: 2.9290 - accuracy: 0.2031",
                    "output_type": "stream"
                },
                {
                    "name": "stdout",
                    "text": "\b\b\b\b\b\b\b\b\b\b\b\b\b\b\b\b\b\b\b\b\b\b\b\b\b\b\b\b\b\b\b\b\b\b\b\b\b\b\b\b\b\b\b\b\b\b\b\b\b\b\b\b\b\b\b\b\b\b\b\b\b\b\b\b\b\b\b\b\b\b\b\b\b\b\b\b\b\b\b\b\b\b\b\b\b\b\r  2/291 [..............................] - ETA: 2:05 - loss: 2.8215 - accuracy: 0.2266",
                    "output_type": "stream"
                },
                {
                    "name": "stdout",
                    "text": "\b\b\b\b\b\b\b\b\b\b\b\b\b\b\b\b\b\b\b\b\b\b\b\b\b\b\b\b\b\b\b\b\b\b\b\b\b\b\b\b\b\b\b\b\b\b\b\b\b\b\b\b\b\b\b\b\b\b\b\b\b\b\b\b\b\b\b\b\b\b\b\b\b\b\b\b\b\b\b\b\b\b\b\b\b\b\r  3/291 [..............................] - ETA: 1:59 - loss: 2.7174 - accuracy: 0.2135",
                    "output_type": "stream"
                },
                {
                    "name": "stdout",
                    "text": "\b\b\b\b\b\b\b\b\b\b\b\b\b\b\b\b\b\b\b\b\b\b\b\b\b\b\b\b\b\b\b\b\b\b\b\b\b\b\b\b\b\b\b\b\b\b\b\b\b\b\b\b\b\b\b\b\b\b\b\b\b\b\b\b\b\b\b\b\b\b\b\b\b\b\b\b\b\b\b\b\b\b\b\b\b\b\r  4/291 [..............................] - ETA: 1:52 - loss: 2.7215 - accuracy: 0.2305",
                    "output_type": "stream"
                },
                {
                    "name": "stdout",
                    "text": "\b\b\b\b\b\b\b\b\b\b\b\b\b\b\b\b\b\b\b\b\b\b\b\b\b\b\b\b\b\b\b\b\b\b\b\b\b\b\b\b\b\b\b\b\b\b\b\b\b\b\b\b\b\b\b\b\b\b\b\b\b\b\b\b\b\b\b\b\b\b\b\b\b\b\b\b\b\b\b\b\b\b\b\b\b\b\r  5/291 [..............................] - ETA: 1:53 - loss: 2.6584 - accuracy: 0.2344",
                    "output_type": "stream"
                },
                {
                    "name": "stdout",
                    "text": "\b\b\b\b\b\b\b\b\b\b\b\b\b\b\b\b\b\b\b\b\b\b\b\b\b\b\b\b\b\b\b\b\b\b\b\b\b\b\b\b\b\b\b\b\b\b\b\b\b\b\b\b\b\b\b\b\b\b\b\b\b\b\b\b\b\b\b\b\b\b\b\b\b\b\b\b\b\b\b\b\b\b\b\b\b\b\r  6/291 [..............................] - ETA: 1:56 - loss: 2.6210 - accuracy: 0.2604",
                    "output_type": "stream"
                },
                {
                    "name": "stdout",
                    "text": "\b\b\b\b\b\b\b\b\b\b\b\b\b\b\b\b\b\b\b\b\b\b\b\b\b\b\b\b\b\b\b\b\b\b\b\b\b\b\b\b\b\b\b\b\b\b\b\b\b\b\b\b\b\b\b\b\b\b\b\b\b\b\b\b\b\b\b\b\b\b\b\b\b\b\b\b\b\b\b\b\b\b\b\b\b\b\r  7/291 [..............................] - ETA: 1:55 - loss: 2.6298 - accuracy: 0.2612",
                    "output_type": "stream"
                },
                {
                    "name": "stdout",
                    "text": "\b\b\b\b\b\b\b\b\b\b\b\b\b\b\b\b\b\b\b\b\b\b\b\b\b\b\b\b\b\b\b\b\b\b\b\b\b\b\b\b\b\b\b\b\b\b\b\b\b\b\b\b\b\b\b\b\b\b\b\b\b\b\b\b\b\b\b\b\b\b\b\b\b\b\b\b\b\b\b\b\b\b\b\b\b\b\r  8/291 [..............................] - ETA: 1:56 - loss: 2.6252 - accuracy: 0.2598",
                    "output_type": "stream"
                },
                {
                    "name": "stdout",
                    "text": "\b\b\b\b\b\b\b\b\b\b\b\b\b\b\b\b\b\b\b\b\b\b\b\b\b\b\b\b\b\b\b\b\b\b\b\b\b\b\b\b\b\b\b\b\b\b\b\b\b\b\b\b\b\b\b\b\b\b\b\b\b\b\b\b\b\b\b\b\b\b\b\b\b\b\b\b\b\b\b\b\b\b\b\b\b\b\r  9/291 [..............................] - ETA: 1:59 - loss: 2.6236 - accuracy: 0.2604",
                    "output_type": "stream"
                },
                {
                    "name": "stdout",
                    "text": "\b\b\b\b\b\b\b\b\b\b\b\b\b\b\b\b\b\b\b\b\b\b\b\b\b\b\b\b\b\b\b\b\b\b\b\b\b\b\b\b\b\b\b\b\b\b\b\b\b\b\b\b\b\b\b\b\b\b\b\b\b\b\b\b\b\b\b\b\b\b\b\b\b\b\b\b\b\b\b\b\b\b\b\b\b\b\r 10/291 [>.............................] - ETA: 1:57 - loss: 2.6238 - accuracy: 0.2625",
                    "output_type": "stream"
                },
                {
                    "name": "stdout",
                    "text": "\b\b\b\b\b\b\b\b\b\b\b\b\b\b\b\b\b\b\b\b\b\b\b\b\b\b\b\b\b\b\b\b\b\b\b\b\b\b\b\b\b\b\b\b\b\b\b\b\b\b\b\b\b\b\b\b\b\b\b\b\b\b\b\b\b\b\b\b\b\b\b\b\b\b\b\b\b\b\b\b\b\b\b\b\b\b\r 11/291 [>.............................] - ETA: 1:56 - loss: 2.5842 - accuracy: 0.2727",
                    "output_type": "stream"
                },
                {
                    "name": "stdout",
                    "text": "\b\b\b\b\b\b\b\b\b\b\b\b\b\b\b\b\b\b\b\b\b\b\b\b\b\b\b\b\b\b\b\b\b\b\b\b\b\b\b\b\b\b\b\b\b\b\b\b\b\b\b\b\b\b\b\b\b\b\b\b\b\b\b\b\b\b\b\b\b\b\b\b\b\b\b\b\b\b\b\b\b\b\b\b\b\b\r 12/291 [>.............................] - ETA: 1:57 - loss: 2.5923 - accuracy: 0.2747",
                    "output_type": "stream"
                },
                {
                    "name": "stdout",
                    "text": "\b\b\b\b\b\b\b\b\b\b\b\b\b\b\b\b\b\b\b\b\b\b\b\b\b\b\b\b\b\b\b\b\b\b\b\b\b\b\b\b\b\b\b\b\b\b\b\b\b\b\b\b\b\b\b\b\b\b\b\b\b\b\b\b\b\b\b\b\b\b\b\b\b\b\b\b\b\b\b\b\b\b\b\b\b\b\r 13/291 [>.............................] - ETA: 1:56 - loss: 2.5806 - accuracy: 0.2776",
                    "output_type": "stream"
                },
                {
                    "name": "stdout",
                    "text": "\b\b\b\b\b\b\b\b\b\b\b\b\b\b\b\b\b\b\b\b\b\b\b\b\b\b\b\b\b\b\b\b\b\b\b\b\b\b\b\b\b\b\b\b\b\b\b\b\b\b\b\b\b\b\b\b\b\b\b\b\b\b\b\b\b\b\b\b\b\b\b\b\b\b\b\b\b\b\b\b\b\b\b\b\b\b\r 14/291 [>.............................] - ETA: 1:59 - loss: 2.5775 - accuracy: 0.2812",
                    "output_type": "stream"
                },
                {
                    "name": "stdout",
                    "text": "\b\b\b\b\b\b\b\b\b\b\b\b\b\b\b\b\b\b\b\b\b\b\b\b\b\b\b\b\b\b\b\b\b\b\b\b\b\b\b\b\b\b\b\b\b\b\b\b\b\b\b\b\b\b\b\b\b\b\b\b\b\b\b\b\b\b\b\b\b\b\b\b\b\b\b\b\b\b\b\b\b\b\b\b\b\b\r 15/291 [>.............................] - ETA: 1:58 - loss: 2.5545 - accuracy: 0.2875",
                    "output_type": "stream"
                },
                {
                    "name": "stdout",
                    "text": "\b\b\b\b\b\b\b\b\b\b\b\b\b\b\b\b\b\b\b\b\b\b\b\b\b\b\b\b\b\b\b\b\b\b\b\b\b\b\b\b\b\b\b\b\b\b\b\b\b\b\b\b\b\b\b\b\b\b\b\b\b\b\b\b\b\b\b\b\b\b\b\b\b\b\b\b\b\b\b\b\b\b\b\b\b\b\r 16/291 [>.............................] - ETA: 1:58 - loss: 2.5745 - accuracy: 0.2812",
                    "output_type": "stream"
                },
                {
                    "name": "stdout",
                    "text": "\b\b\b\b\b\b\b\b\b\b\b\b\b\b\b\b\b\b\b\b\b\b\b\b\b\b\b\b\b\b\b\b\b\b\b\b\b\b\b\b\b\b\b\b\b\b\b\b\b\b\b\b\b\b\b\b\b\b\b\b\b\b\b\b\b\b\b\b\b\b\b\b\b\b\b\b\b\b\b\b\b\b\b\b\b\b\r 17/291 [>.............................] - ETA: 1:57 - loss: 2.5687 - accuracy: 0.2812",
                    "output_type": "stream"
                },
                {
                    "name": "stdout",
                    "text": "\b\b\b\b\b\b\b\b\b\b\b\b\b\b\b\b\b\b\b\b\b\b\b\b\b\b\b\b\b\b\b\b\b\b\b\b\b\b\b\b\b\b\b\b\b\b\b\b\b\b\b\b\b\b\b\b\b\b\b\b\b\b\b\b\b\b\b\b\b\b\b\b\b\b\b\b\b\b\b\b\b\b\b\b\b\b\r 18/291 [>.............................] - ETA: 1:55 - loss: 2.5837 - accuracy: 0.2769",
                    "output_type": "stream"
                },
                {
                    "name": "stdout",
                    "text": "\b\b\b\b\b\b\b\b\b\b\b\b\b\b\b\b\b\b\b\b\b\b\b\b\b\b\b\b\b\b\b\b\b\b\b\b\b\b\b\b\b\b\b\b\b\b\b\b\b\b\b\b\b\b\b\b\b\b\b\b\b\b\b\b\b\b\b\b\b\b\b\b\b\b\b\b\b\b\b\b\b\b\b\b\b\b\r 19/291 [>.............................] - ETA: 1:54 - loss: 2.5817 - accuracy: 0.2804",
                    "output_type": "stream"
                },
                {
                    "name": "stdout",
                    "text": "\b\b\b\b\b\b\b\b\b\b\b\b\b\b\b\b\b\b\b\b\b\b\b\b\b\b\b\b\b\b\b\b\b\b\b\b\b\b\b\b\b\b\b\b\b\b\b\b\b\b\b\b\b\b\b\b\b\b\b\b\b\b\b\b\b\b\b\b\b\b\b\b\b\b\b\b\b\b\b\b\b\b\b\b\b\b\r 20/291 [=>............................] - ETA: 1:53 - loss: 2.5946 - accuracy: 0.2781",
                    "output_type": "stream"
                },
                {
                    "name": "stdout",
                    "text": "\b\b\b\b\b\b\b\b\b\b\b\b\b\b\b\b\b\b\b\b\b\b\b\b\b\b\b\b\b\b\b\b\b\b\b\b\b\b\b\b\b\b\b\b\b\b\b\b\b\b\b\b\b\b\b\b\b\b\b\b\b\b\b\b\b\b\b\b\b\b\b\b\b\b\b\b\b\b\b\b\b\b\b\b\b\b\r 21/291 [=>............................] - ETA: 1:53 - loss: 2.6015 - accuracy: 0.2760",
                    "output_type": "stream"
                },
                {
                    "name": "stdout",
                    "text": "\b\b\b\b\b\b\b\b\b\b\b\b\b\b\b\b\b\b\b\b\b\b\b\b\b\b\b\b\b\b\b\b\b\b\b\b\b\b\b\b\b\b\b\b\b\b\b\b\b\b\b\b\b\b\b\b\b\b\b\b\b\b\b\b\b\b\b\b\b\b\b\b\b\b\b\b\b\b\b\b\b\b\b\b\b\b\r 22/291 [=>............................] - ETA: 1:52 - loss: 2.6000 - accuracy: 0.2749",
                    "output_type": "stream"
                },
                {
                    "name": "stdout",
                    "text": "\b\b\b\b\b\b\b\b\b\b\b\b\b\b\b\b\b\b\b\b\b\b\b\b\b\b\b\b\b\b\b\b\b\b\b\b\b\b\b\b\b\b\b\b\b\b\b\b\b\b\b\b\b\b\b\b\b\b\b\b\b\b\b\b\b\b\b\b\b\b\b\b\b\b\b\b\b\b\b\b\b\b\b\b\b\b\r 23/291 [=>............................] - ETA: 1:51 - loss: 2.6069 - accuracy: 0.2724",
                    "output_type": "stream"
                },
                {
                    "name": "stdout",
                    "text": "\b\b\b\b\b\b\b\b\b\b\b\b\b\b\b\b\b\b\b\b\b\b\b\b\b\b\b\b\b\b\b\b\b\b\b\b\b\b\b\b\b\b\b\b\b\b\b\b\b\b\b\b\b\b\b\b\b\b\b\b\b\b\b\b\b\b\b\b\b\b\b\b\b\b\b\b\b\b\b\b\b\b\b\b\b\b\r 24/291 [=>............................] - ETA: 1:50 - loss: 2.6066 - accuracy: 0.2747",
                    "output_type": "stream"
                },
                {
                    "name": "stdout",
                    "text": "\b\b\b\b\b\b\b\b\b\b\b\b\b\b\b\b\b\b\b\b\b\b\b\b\b\b\b\b\b\b\b\b\b\b\b\b\b\b\b\b\b\b\b\b\b\b\b\b\b\b\b\b\b\b\b\b\b\b\b\b\b\b\b\b\b\b\b\b\b\b\b\b\b\b\b\b\b\b\b\b\b\b\b\b\b\b\r 25/291 [=>............................] - ETA: 1:49 - loss: 2.6010 - accuracy: 0.2744",
                    "output_type": "stream"
                },
                {
                    "name": "stdout",
                    "text": "\b\b\b\b\b\b\b\b\b\b\b\b\b\b\b\b\b\b\b\b\b\b\b\b\b\b\b\b\b\b\b\b\b\b\b\b\b\b\b\b\b\b\b\b\b\b\b\b\b\b\b\b\b\b\b\b\b\b\b\b\b\b\b\b\b\b\b\b\b\b\b\b\b\b\b\b\b\b\b\b\b\b\b\b\b\b\r 26/291 [=>............................] - ETA: 1:47 - loss: 2.5975 - accuracy: 0.2734",
                    "output_type": "stream"
                },
                {
                    "name": "stdout",
                    "text": "\b\b\b\b\b\b\b\b\b\b\b\b\b\b\b\b\b\b\b\b\b\b\b\b\b\b\b\b\b\b\b\b\b\b\b\b\b\b\b\b\b\b\b\b\b\b\b\b\b\b\b\b\b\b\b\b\b\b\b\b\b\b\b\b\b\b\b\b\b\b\b\b\b\b\b\b\b\b\b\b\b\b\b\b\b\b\r 27/291 [=>............................] - ETA: 1:47 - loss: 2.5884 - accuracy: 0.2726",
                    "output_type": "stream"
                },
                {
                    "name": "stdout",
                    "text": "\b\b\b\b\b\b\b\b\b\b\b\b\b\b\b\b\b\b\b\b\b\b\b\b\b\b\b\b\b\b\b\b\b\b\b\b\b\b\b\b\b\b\b\b\b\b\b\b\b\b\b\b\b\b\b\b\b\b\b\b\b\b\b\b\b\b\b\b\b\b\b\b\b\b\b\b\b\b\b\b\b\b\b\b\b\b\r 28/291 [=>............................] - ETA: 1:46 - loss: 2.5751 - accuracy: 0.2757",
                    "output_type": "stream"
                },
                {
                    "name": "stdout",
                    "text": "\b\b\b\b\b\b\b\b\b\b\b\b\b\b\b\b\b\b\b\b\b\b\b\b\b\b\b\b\b\b\b\b\b\b\b\b\b\b\b\b\b\b\b\b\b\b\b\b\b\b\b\b\b\b\b\b\b\b\b\b\b\b\b\b\b\b\b\b\b\b\b\b\b\b\b\b\b\b\b\b\b\b\b\b\b\b\r 29/291 [=>............................] - ETA: 1:45 - loss: 2.5697 - accuracy: 0.2775",
                    "output_type": "stream"
                },
                {
                    "name": "stdout",
                    "text": "\b\b\b\b\b\b\b\b\b\b\b\b\b\b\b\b\b\b\b\b\b\b\b\b\b\b\b\b\b\b\b\b\b\b\b\b\b\b\b\b\b\b\b\b\b\b\b\b\b\b\b\b\b\b\b\b\b\b\b\b\b\b\b\b\b\b\b\b\b\b\b\b\b\b\b\b\b\b\b\b\b\b\b\b\b\b\r 30/291 [==>...........................] - ETA: 1:44 - loss: 2.5676 - accuracy: 0.2755",
                    "output_type": "stream"
                },
                {
                    "name": "stdout",
                    "text": "\b\b\b\b\b\b\b\b\b\b\b\b\b\b\b\b\b\b\b\b\b\b\b\b\b\b\b\b\b\b\b\b\b\b\b\b\b\b\b\b\b\b\b\b\b\b\b\b\b\b\b\b\b\b\b\b\b\b\b\b\b\b\b\b\b\b\b\b\b\b\b\b\b\b\b\b\b\b\b\b\b\b\b\b\b\b\r 31/291 [==>...........................] - ETA: 1:43 - loss: 2.5758 - accuracy: 0.2732",
                    "output_type": "stream"
                },
                {
                    "name": "stdout",
                    "text": "\b\b\b\b\b\b\b\b\b\b\b\b\b\b\b\b\b\b\b\b\b\b\b\b\b\b\b\b\b\b\b\b\b\b\b\b\b\b\b\b\b\b\b\b\b\b\b\b\b\b\b\b\b\b\b\b\b\b\b\b\b\b\b\b\b\b\b\b\b\b\b\b\b\b\b\b\b\b\b\b\b\b\b\b\b\b\r 32/291 [==>...........................] - ETA: 1:43 - loss: 2.5732 - accuracy: 0.2749",
                    "output_type": "stream"
                },
                {
                    "name": "stdout",
                    "text": "\b\b\b\b\b\b\b\b\b\b\b\b\b\b\b\b\b\b\b\b\b\b\b\b\b\b\b\b\b\b\b\b\b\b\b\b\b\b\b\b\b\b\b\b\b\b\b\b\b\b\b\b\b\b\b\b\b\b\b\b\b\b\b\b\b\b\b\b\b\b\b\b\b\b\b\b\b\b\b\b\b\b\b\b\b\b\r 33/291 [==>...........................] - ETA: 1:42 - loss: 2.5684 - accuracy: 0.2765",
                    "output_type": "stream"
                },
                {
                    "name": "stdout",
                    "text": "\b\b\b\b\b\b\b\b\b\b\b\b\b\b\b\b\b\b\b\b\b\b\b\b\b\b\b\b\b\b\b\b\b\b\b\b\b\b\b\b\b\b\b\b\b\b\b\b\b\b\b\b\b\b\b\b\b\b\b\b\b\b\b\b\b\b\b\b\b\b\b\b\b\b\b\b\b\b\b\b\b\b\b\b\b\b\r 34/291 [==>...........................] - ETA: 1:42 - loss: 2.5606 - accuracy: 0.2776",
                    "output_type": "stream"
                },
                {
                    "name": "stdout",
                    "text": "\b\b\b\b\b\b\b\b\b\b\b\b\b\b\b\b\b\b\b\b\b\b\b\b\b\b\b\b\b\b\b\b\b\b\b\b\b\b\b\b\b\b\b\b\b\b\b\b\b\b\b\b\b\b\b\b\b\b\b\b\b\b\b\b\b\b\b\b\b\b\b\b\b\b\b\b\b\b\b\b\b\b\b\b\b\b\r 35/291 [==>...........................] - ETA: 1:41 - loss: 2.5618 - accuracy: 0.2777",
                    "output_type": "stream"
                },
                {
                    "name": "stdout",
                    "text": "\b\b\b\b\b\b\b\b\b\b\b\b\b\b\b\b\b\b\b\b\b\b\b\b\b\b\b\b\b\b\b\b\b\b\b\b\b\b\b\b\b\b\b\b\b\b\b\b\b\b\b\b\b\b\b\b\b\b\b\b\b\b\b\b\b\b\b\b\b\b\b\b\b\b\b\b\b\b\b\b\b\b\b\b\b\b\r 36/291 [==>...........................] - ETA: 1:39 - loss: 2.5562 - accuracy: 0.2795",
                    "output_type": "stream"
                },
                {
                    "name": "stdout",
                    "text": "\b\b\b\b\b\b\b\b\b\b\b\b\b\b\b\b\b\b\b\b\b\b\b\b\b\b\b\b\b\b\b\b\b\b\b\b\b\b\b\b\b\b\b\b\b\b\b\b\b\b\b\b\b\b\b\b\b\b\b\b\b\b\b\b\b\b\b\b\b\b\b\b\b\b\b\b\b\b\b\b\b\b\b\b\b\b\r 37/291 [==>...........................] - ETA: 1:39 - loss: 2.5506 - accuracy: 0.2804",
                    "output_type": "stream"
                },
                {
                    "name": "stdout",
                    "text": "\b\b\b\b\b\b\b\b\b\b\b\b\b\b\b\b\b\b\b\b\b\b\b\b\b\b\b\b\b\b\b\b\b\b\b\b\b\b\b\b\b\b\b\b\b\b\b\b\b\b\b\b\b\b\b\b\b\b\b\b\b\b\b\b\b\b\b\b\b\b\b\b\b\b\b\b\b\b\b\b\b\b\b\b\b\b\r 38/291 [==>...........................] - ETA: 1:38 - loss: 2.5525 - accuracy: 0.2796",
                    "output_type": "stream"
                },
                {
                    "name": "stdout",
                    "text": "\b\b\b\b\b\b\b\b\b\b\b\b\b\b\b\b\b\b\b\b\b\b\b\b\b\b\b\b\b\b\b\b\b\b\b\b\b\b\b\b\b\b\b\b\b\b\b\b\b\b\b\b\b\b\b\b\b\b\b\b\b\b\b\b\b\b\b\b\b\b\b\b\b\b\b\b\b\b\b\b\b\b\b\b\b\b\r 39/291 [===>..........................] - ETA: 1:38 - loss: 2.5626 - accuracy: 0.2772",
                    "output_type": "stream"
                },
                {
                    "name": "stdout",
                    "text": "\b\b\b\b\b\b\b\b\b\b\b\b\b\b\b\b\b\b\b\b\b\b\b\b\b\b\b\b\b\b\b\b\b\b\b\b\b\b\b\b\b\b\b\b\b\b\b\b\b\b\b\b\b\b\b\b\b\b\b\b\b\b\b\b\b\b\b\b\b\b\b\b\b\b\b\b\b\b\b\b\b\b\b\b\b\b\r 40/291 [===>..........................] - ETA: 1:37 - loss: 2.5590 - accuracy: 0.2797",
                    "output_type": "stream"
                },
                {
                    "name": "stdout",
                    "text": "\b\b\b\b\b\b\b\b\b\b\b\b\b\b\b\b\b\b\b\b\b\b\b\b\b\b\b\b\b\b\b\b\b\b\b\b\b\b\b\b\b\b\b\b\b\b\b\b\b\b\b\b\b\b\b\b\b\b\b\b\b\b\b\b\b\b\b\b\b\b\b\b\b\b\b\b\b\b\b\b\b\b\b\b\b\b\r 41/291 [===>..........................] - ETA: 1:36 - loss: 2.5523 - accuracy: 0.2805",
                    "output_type": "stream"
                },
                {
                    "name": "stdout",
                    "text": "\b\b\b\b\b\b\b\b\b\b\b\b\b\b\b\b\b\b\b\b\b\b\b\b\b\b\b\b\b\b\b\b\b\b\b\b\b\b\b\b\b\b\b\b\b\b\b\b\b\b\b\b\b\b\b\b\b\b\b\b\b\b\b\b\b\b\b\b\b\b\b\b\b\b\b\b\b\b\b\b\b\b\b\b\b\b\r 42/291 [===>..........................] - ETA: 1:36 - loss: 2.5534 - accuracy: 0.2794",
                    "output_type": "stream"
                },
                {
                    "name": "stdout",
                    "text": "\b\b\b\b\b\b\b\b\b\b\b\b\b\b\b\b\b\b\b\b\b\b\b\b\b\b\b\b\b\b\b\b\b\b\b\b\b\b\b\b\b\b\b\b\b\b\b\b\b\b\b\b\b\b\b\b\b\b\b\b\b\b\b\b\b\b\b\b\b\b\b\b\b\b\b\b\b\b\b\b\b\b\b\b\b\b\r 43/291 [===>..........................] - ETA: 1:35 - loss: 2.5530 - accuracy: 0.2794",
                    "output_type": "stream"
                },
                {
                    "name": "stdout",
                    "text": "\b\b\b\b\b\b\b\b\b\b\b\b\b\b\b\b\b\b\b\b\b\b\b\b\b\b\b\b\b\b\b\b\b\b\b\b\b\b\b\b\b\b\b\b\b\b\b\b\b\b\b\b\b\b\b\b\b\b\b\b\b\b\b\b\b\b\b\b\b\b\b\b\b\b\b\b\b\b\b\b\b\b\b\b\b\b\r 44/291 [===>..........................] - ETA: 1:35 - loss: 2.5531 - accuracy: 0.2802",
                    "output_type": "stream"
                },
                {
                    "name": "stdout",
                    "text": "\b\b\b\b\b\b\b\b\b\b\b\b\b\b\b\b\b\b\b\b\b\b\b\b\b\b\b\b\b\b\b\b\b\b\b\b\b\b\b\b\b\b\b\b\b\b\b\b\b\b\b\b\b\b\b\b\b\b\b\b\b\b\b\b\b\b\b\b\b\b\b\b\b\b\b\b\b\b\b\b\b\b\b\b\b\b\r 45/291 [===>..........................] - ETA: 1:34 - loss: 2.5506 - accuracy: 0.2806",
                    "output_type": "stream"
                },
                {
                    "name": "stdout",
                    "text": "\b\b\b\b\b\b\b\b\b\b\b\b\b\b\b\b\b\b\b\b\b\b\b\b\b\b\b\b\b\b\b\b\b\b\b\b\b\b\b\b\b\b\b\b\b\b\b\b\b\b\b\b\b\b\b\b\b\b\b\b\b\b\b\b\b\b\b\b\b\b\b\b\b\b\b\b\b\b\b\b\b\b\b\b\b\b\r 46/291 [===>..........................] - ETA: 1:34 - loss: 2.5499 - accuracy: 0.2809",
                    "output_type": "stream"
                },
                {
                    "name": "stdout",
                    "text": "\b\b\b\b\b\b\b\b\b\b\b\b\b\b\b\b\b\b\b\b\b\b\b\b\b\b\b\b\b\b\b\b\b\b\b\b\b\b\b\b\b\b\b\b\b\b\b\b\b\b\b\b\b\b\b\b\b\b\b\b\b\b\b\b\b\b\b\b\b\b\b\b\b\b\b\b\b\b\b\b\b\b\b\b\b\b\r 47/291 [===>..........................] - ETA: 1:34 - loss: 2.5524 - accuracy: 0.2799",
                    "output_type": "stream"
                },
                {
                    "name": "stdout",
                    "text": "\b\b\b\b\b\b\b\b\b\b\b\b\b\b\b\b\b\b\b\b\b\b\b\b\b\b\b\b\b\b\b\b\b\b\b\b\b\b\b\b\b\b\b\b\b\b\b\b\b\b\b\b\b\b\b\b\b\b\b\b\b\b\b\b\b\b\b\b\b\b\b\b\b\b\b\b\b\b\b\b\b\b\b\b\b\b\r 48/291 [===>..........................] - ETA: 1:34 - loss: 2.5500 - accuracy: 0.2812",
                    "output_type": "stream"
                },
                {
                    "name": "stdout",
                    "text": "\b\b\b\b\b\b\b\b\b\b\b\b\b\b\b\b\b\b\b\b\b\b\b\b\b\b\b\b\b\b\b\b\b\b\b\b\b\b\b\b\b\b\b\b\b\b\b\b\b\b\b\b\b\b\b\b\b\b\b\b\b\b\b\b\b\b\b\b\b\b\b\b\b\b\b\b\b\b\b\b\b\b\b\b\b\b\r 49/291 [====>.........................] - ETA: 1:33 - loss: 2.5448 - accuracy: 0.2819",
                    "output_type": "stream"
                },
                {
                    "name": "stdout",
                    "text": "\b\b\b\b\b\b\b\b\b\b\b\b\b\b\b\b\b\b\b\b\b\b\b\b\b\b\b\b\b\b\b\b\b\b\b\b\b\b\b\b\b\b\b\b\b\b\b\b\b\b\b\b\b\b\b\b\b\b\b\b\b\b\b\b\b\b\b\b\b\b\b\b\b\b\b\b\b\b\b\b\b\b\b\b\b\b\r 50/291 [====>.........................] - ETA: 1:33 - loss: 2.5449 - accuracy: 0.2806",
                    "output_type": "stream"
                },
                {
                    "name": "stdout",
                    "text": "\b\b\b\b\b\b\b\b\b\b\b\b\b\b\b\b\b\b\b\b\b\b\b\b\b\b\b\b\b\b\b\b\b\b\b\b\b\b\b\b\b\b\b\b\b\b\b\b\b\b\b\b\b\b\b\b\b\b\b\b\b\b\b\b\b\b\b\b\b\b\b\b\b\b\b\b\b\b\b\b\b\b\b\b\b\b\r 51/291 [====>.........................] - ETA: 1:33 - loss: 2.5450 - accuracy: 0.2797",
                    "output_type": "stream"
                },
                {
                    "name": "stdout",
                    "text": "\b\b\b\b\b\b\b\b\b\b\b\b\b\b\b\b\b\b\b\b\b\b\b\b\b\b\b\b\b\b\b\b\b\b\b\b\b\b\b\b\b\b\b\b\b\b\b\b\b\b\b\b\b\b\b\b\b\b\b\b\b\b\b\b\b\b\b\b\b\b\b\b\b\b\b\b\b\b\b\b\b\b\b\b\b\b\r 52/291 [====>.........................] - ETA: 1:32 - loss: 2.5407 - accuracy: 0.2800",
                    "output_type": "stream"
                },
                {
                    "name": "stdout",
                    "text": "\b\b\b\b\b\b\b\b\b\b\b\b\b\b\b\b\b\b\b\b\b\b\b\b\b\b\b\b\b\b\b\b\b\b\b\b\b\b\b\b\b\b\b\b\b\b\b\b\b\b\b\b\b\b\b\b\b\b\b\b\b\b\b\b\b\b\b\b\b\b\b\b\b\b\b\b\b\b\b\b\b\b\b\b\b\b\r 53/291 [====>.........................] - ETA: 1:32 - loss: 2.5366 - accuracy: 0.2812",
                    "output_type": "stream"
                },
                {
                    "name": "stdout",
                    "text": "\b\b\b\b\b\b\b\b\b\b\b\b\b\b\b\b\b\b\b\b\b\b\b\b\b\b\b\b\b\b\b\b\b\b\b\b\b\b\b\b\b\b\b\b\b\b\b\b\b\b\b\b\b\b\b\b\b\b\b\b\b\b\b\b\b\b\b\b\b\b\b\b\b\b\b\b\b\b\b\b\b\b\b\b\b\b\r 54/291 [====>.........................] - ETA: 1:31 - loss: 2.5331 - accuracy: 0.2833",
                    "output_type": "stream"
                },
                {
                    "name": "stdout",
                    "text": "\b\b\b\b\b\b\b\b\b\b\b\b\b\b\b\b\b\b\b\b\b\b\b\b\b\b\b\b\b\b\b\b\b\b\b\b\b\b\b\b\b\b\b\b\b\b\b\b\b\b\b\b\b\b\b\b\b\b\b\b\b\b\b\b\b\b\b\b\b\b\b\b\b\b\b\b\b\b\b\b\b\b\b\b\b\b\r 55/291 [====>.........................] - ETA: 1:30 - loss: 2.5375 - accuracy: 0.2818",
                    "output_type": "stream"
                },
                {
                    "name": "stdout",
                    "text": "\b\b\b\b\b\b\b\b\b\b\b\b\b\b\b\b\b\b\b\b\b\b\b\b\b\b\b\b\b\b\b\b\b\b\b\b\b\b\b\b\b\b\b\b\b\b\b\b\b\b\b\b\b\b\b\b\b\b\b\b\b\b\b\b\b\b\b\b\b\b\b\b\b\b\b\b\b\b\b\b\b\b\b\b\b\b\r 56/291 [====>.........................] - ETA: 1:30 - loss: 2.5357 - accuracy: 0.2824",
                    "output_type": "stream"
                },
                {
                    "name": "stdout",
                    "text": "\b\b\b\b\b\b\b\b\b\b\b\b\b\b\b\b\b\b\b\b\b\b\b\b\b\b\b\b\b\b\b\b\b\b\b\b\b\b\b\b\b\b\b\b\b\b\b\b\b\b\b\b\b\b\b\b\b\b\b\b\b\b\b\b\b\b\b\b\b\b\b\b\b\b\b\b\b\b\b\b\b\b\b\b\b\b\r 57/291 [====>.........................] - ETA: 1:30 - loss: 2.5353 - accuracy: 0.2821",
                    "output_type": "stream"
                },
                {
                    "name": "stdout",
                    "text": "\b\b\b\b\b\b\b\b\b\b\b\b\b\b\b\b\b\b\b\b\b\b\b\b\b\b\b\b\b\b\b\b\b\b\b\b\b\b\b\b\b\b\b\b\b\b\b\b\b\b\b\b\b\b\b\b\b\b\b\b\b\b\b\b\b\b\b\b\b\b\b\b\b\b\b\b\b\b\b\b\b\b\b\b\b\b\r 58/291 [====>.........................] - ETA: 1:29 - loss: 2.5300 - accuracy: 0.2829",
                    "output_type": "stream"
                },
                {
                    "name": "stdout",
                    "text": "\b\b\b\b\b\b\b\b\b\b\b\b\b\b\b\b\b\b\b\b\b\b\b\b\b\b\b\b\b\b\b\b\b\b\b\b\b\b\b\b\b\b\b\b\b\b\b\b\b\b\b\b\b\b\b\b\b\b\b\b\b\b\b\b\b\b\b\b\b\b\b\b\b\b\b\b\b\b\b\b\b\b\b\b\b\b\r 59/291 [=====>........................] - ETA: 1:29 - loss: 2.5296 - accuracy: 0.2836",
                    "output_type": "stream"
                },
                {
                    "name": "stdout",
                    "text": "\b\b\b\b\b\b\b\b\b\b\b\b\b\b\b\b\b\b\b\b\b\b\b\b\b\b\b\b\b\b\b\b\b\b\b\b\b\b\b\b\b\b\b\b\b\b\b\b\b\b\b\b\b\b\b\b\b\b\b\b\b\b\b\b\b\b\b\b\b\b\b\b\b\b\b\b\b\b\b\b\b\b\b\b\b\b\r 60/291 [=====>........................] - ETA: 1:28 - loss: 2.5282 - accuracy: 0.2839",
                    "output_type": "stream"
                },
                {
                    "name": "stdout",
                    "text": "\b\b\b\b\b\b\b\b\b\b\b\b\b\b\b\b\b\b\b\b\b\b\b\b\b\b\b\b\b\b\b\b\b\b\b\b\b\b\b\b\b\b\b\b\b\b\b\b\b\b\b\b\b\b\b\b\b\b\b\b\b\b\b\b\b\b\b\b\b\b\b\b\b\b\b\b\b\b\b\b\b\b\b\b\b\b\r 61/291 [=====>........................] - ETA: 1:28 - loss: 2.5287 - accuracy: 0.2830",
                    "output_type": "stream"
                },
                {
                    "name": "stdout",
                    "text": "\b\b\b\b\b\b\b\b\b\b\b\b\b\b\b\b\b\b\b\b\b\b\b\b\b\b\b\b\b\b\b\b\b\b\b\b\b\b\b\b\b\b\b\b\b\b\b\b\b\b\b\b\b\b\b\b\b\b\b\b\b\b\b\b\b\b\b\b\b\b\b\b\b\b\b\b\b\b\b\b\b\b\b\b\b\b\r 62/291 [=====>........................] - ETA: 1:27 - loss: 2.5298 - accuracy: 0.2823",
                    "output_type": "stream"
                },
                {
                    "name": "stdout",
                    "text": "\b\b\b\b\b\b\b\b\b\b\b\b\b\b\b\b\b\b\b\b\b\b\b\b\b\b\b\b\b\b\b\b\b\b\b\b\b\b\b\b\b\b\b\b\b\b\b\b\b\b\b\b\b\b\b\b\b\b\b\b\b\b\b\b\b\b\b\b\b\b\b\b\b\b\b\b\b\b\b\b\b\b\b\b\b\b\r 63/291 [=====>........................] - ETA: 1:27 - loss: 2.5267 - accuracy: 0.2827",
                    "output_type": "stream"
                },
                {
                    "name": "stdout",
                    "text": "\b\b\b\b\b\b\b\b\b\b\b\b\b\b\b\b\b\b\b\b\b\b\b\b\b\b\b\b\b\b\b\b\b\b\b\b\b\b\b\b\b\b\b\b\b\b\b\b\b\b\b\b\b\b\b\b\b\b\b\b\b\b\b\b\b\b\b\b\b\b\b\b\b\b\b\b\b\b\b\b\b\b\b\b\b\b\r 64/291 [=====>........................] - ETA: 1:26 - loss: 2.5276 - accuracy: 0.2817",
                    "output_type": "stream"
                },
                {
                    "name": "stdout",
                    "text": "\b\b\b\b\b\b\b\b\b\b\b\b\b\b\b\b\b\b\b\b\b\b\b\b\b\b\b\b\b\b\b\b\b\b\b\b\b\b\b\b\b\b\b\b\b\b\b\b\b\b\b\b\b\b\b\b\b\b\b\b\b\b\b\b\b\b\b\b\b\b\b\b\b\b\b\b\b\b\b\b\b\b\b\b\b\b\r 65/291 [=====>........................] - ETA: 1:26 - loss: 2.5281 - accuracy: 0.2808",
                    "output_type": "stream"
                },
                {
                    "name": "stdout",
                    "text": "\b\b\b\b\b\b\b\b\b\b\b\b\b\b\b\b\b\b\b\b\b\b\b\b\b\b\b\b\b\b\b\b\b\b\b\b\b\b\b\b\b\b\b\b\b\b\b\b\b\b\b\b\b\b\b\b\b\b\b\b\b\b\b\b\b\b\b\b\b\b\b\b\b\b\b\b\b\b\b\b\b\b\b\b\b\b\r 66/291 [=====>........................] - ETA: 1:25 - loss: 2.5300 - accuracy: 0.2805",
                    "output_type": "stream"
                },
                {
                    "name": "stdout",
                    "text": "\b\b\b\b\b\b\b\b\b\b\b\b\b\b\b\b\b\b\b\b\b\b\b\b\b\b\b\b\b\b\b\b\b\b\b\b\b\b\b\b\b\b\b\b\b\b\b\b\b\b\b\b\b\b\b\b\b\b\b\b\b\b\b\b\b\b\b\b\b\b\b\b\b\b\b\b\b\b\b\b\b\b\b\b\b\b\r 67/291 [=====>........................] - ETA: 1:25 - loss: 2.5307 - accuracy: 0.2801",
                    "output_type": "stream"
                },
                {
                    "name": "stdout",
                    "text": "\b\b\b\b\b\b\b\b\b\b\b\b\b\b\b\b\b\b\b\b\b\b\b\b\b\b\b\b\b\b\b\b\b\b\b\b\b\b\b\b\b\b\b\b\b\b\b\b\b\b\b\b\b\b\b\b\b\b\b\b\b\b\b\b\b\b\b\b\b\b\b\b\b\b\b\b\b\b\b\b\b\b\b\b\b\b\r 68/291 [======>.......................] - ETA: 1:24 - loss: 2.5285 - accuracy: 0.2803",
                    "output_type": "stream"
                },
                {
                    "name": "stdout",
                    "text": "\b\b\b\b\b\b\b\b\b\b\b\b\b\b\b\b\b\b\b\b\b\b\b\b\b\b\b\b\b\b\b\b\b\b\b\b\b\b\b\b\b\b\b\b\b\b\b\b\b\b\b\b\b\b\b\b\b\b\b\b\b\b\b\b\b\b\b\b\b\b\b\b\b\b\b\b\b\b\b\b\b\b\b\b\b\b\r 69/291 [======>.......................] - ETA: 1:24 - loss: 2.5314 - accuracy: 0.2794",
                    "output_type": "stream"
                },
                {
                    "name": "stdout",
                    "text": "\b\b\b\b\b\b\b\b\b\b\b\b\b\b\b\b\b\b\b\b\b\b\b\b\b\b\b\b\b\b\b\b\b\b\b\b\b\b\b\b\b\b\b\b\b\b\b\b\b\b\b\b\b\b\b\b\b\b\b\b\b\b\b\b\b\b\b\b\b\b\b\b\b\b\b\b\b\b\b\b\b\b\b\b\b\b\r 70/291 [======>.......................] - ETA: 1:23 - loss: 2.5276 - accuracy: 0.2804",
                    "output_type": "stream"
                },
                {
                    "name": "stdout",
                    "text": "\b\b\b\b\b\b\b\b\b\b\b\b\b\b\b\b\b\b\b\b\b\b\b\b\b\b\b\b\b\b\b\b\b\b\b\b\b\b\b\b\b\b\b\b\b\b\b\b\b\b\b\b\b\b\b\b\b\b\b\b\b\b\b\b\b\b\b\b\b\b\b\b\b\b\b\b\b\b\b\b\b\b\b\b\b\b\r 71/291 [======>.......................] - ETA: 1:22 - loss: 2.5256 - accuracy: 0.2817",
                    "output_type": "stream"
                },
                {
                    "name": "stdout",
                    "text": "\b\b\b\b\b\b\b\b\b\b\b\b\b\b\b\b\b\b\b\b\b\b\b\b\b\b\b\b\b\b\b\b\b\b\b\b\b\b\b\b\b\b\b\b\b\b\b\b\b\b\b\b\b\b\b\b\b\b\b\b\b\b\b\b\b\b\b\b\b\b\b\b\b\b\b\b\b\b\b\b\b\b\b\b\b\b\r 72/291 [======>.......................] - ETA: 1:22 - loss: 2.5265 - accuracy: 0.2812",
                    "output_type": "stream"
                },
                {
                    "name": "stdout",
                    "text": "\b\b\b\b\b\b\b\b\b\b\b\b\b\b\b\b\b\b\b\b\b\b\b\b\b\b\b\b\b\b\b\b\b\b\b\b\b\b\b\b\b\b\b\b\b\b\b\b\b\b\b\b\b\b\b\b\b\b\b\b\b\b\b\b\b\b\b\b\b\b\b\b\b\b\b\b\b\b\b\b\b\b\b\b\b\b\r 73/291 [======>.......................] - ETA: 1:22 - loss: 2.5266 - accuracy: 0.2810",
                    "output_type": "stream"
                },
                {
                    "name": "stdout",
                    "text": "\b\b\b\b\b\b\b\b\b\b\b\b\b\b\b\b\b\b\b\b\b\b\b\b\b\b\b\b\b\b\b\b\b\b\b\b\b\b\b\b\b\b\b\b\b\b\b\b\b\b\b\b\b\b\b\b\b\b\b\b\b\b\b\b\b\b\b\b\b\b\b\b\b\b\b\b\b\b\b\b\b\b\b\b\b\b\r 74/291 [======>.......................] - ETA: 1:21 - loss: 2.5280 - accuracy: 0.2804",
                    "output_type": "stream"
                },
                {
                    "name": "stdout",
                    "text": "\b\b\b\b\b\b\b\b\b\b\b\b\b\b\b\b\b\b\b\b\b\b\b\b\b\b\b\b\b\b\b\b\b\b\b\b\b\b\b\b\b\b\b\b\b\b\b\b\b\b\b\b\b\b\b\b\b\b\b\b\b\b\b\b\b\b\b\b\b\b\b\b\b\b\b\b\b\b\b\b\b\b\b\b\b\b\r 75/291 [======>.......................] - ETA: 1:20 - loss: 2.5267 - accuracy: 0.2802",
                    "output_type": "stream"
                },
                {
                    "name": "stdout",
                    "text": "\b\b\b\b\b\b\b\b\b\b\b\b\b\b\b\b\b\b\b\b\b\b\b\b\b\b\b\b\b\b\b\b\b\b\b\b\b\b\b\b\b\b\b\b\b\b\b\b\b\b\b\b\b\b\b\b\b\b\b\b\b\b\b\b\b\b\b\b\b\b\b\b\b\b\b\b\b\b\b\b\b\b\b\b\b\b\r 76/291 [======>.......................] - ETA: 1:20 - loss: 2.5274 - accuracy: 0.2812",
                    "output_type": "stream"
                },
                {
                    "name": "stdout",
                    "text": "\b\b\b\b\b\b\b\b\b\b\b\b\b\b\b\b\b\b\b\b\b\b\b\b\b\b\b\b\b\b\b\b\b\b\b\b\b\b\b\b\b\b\b\b\b\b\b\b\b\b\b\b\b\b\b\b\b\b\b\b\b\b\b\b\b\b\b\b\b\b\b\b\b\b\b\b\b\b\b\b\b\b\b\b\b\b\r 77/291 [======>.......................] - ETA: 1:19 - loss: 2.5280 - accuracy: 0.2812",
                    "output_type": "stream"
                },
                {
                    "name": "stdout",
                    "text": "\b\b\b\b\b\b\b\b\b\b\b\b\b\b\b\b\b\b\b\b\b\b\b\b\b\b\b\b\b\b\b\b\b\b\b\b\b\b\b\b\b\b\b\b\b\b\b\b\b\b\b\b\b\b\b\b\b\b\b\b\b\b\b\b\b\b\b\b\b\b\b\b\b\b\b\b\b\b\b\b\b\b\b\b\b\b\r 78/291 [=======>......................] - ETA: 1:19 - loss: 2.5266 - accuracy: 0.2819",
                    "output_type": "stream"
                },
                {
                    "name": "stdout",
                    "text": "\b\b\b\b\b\b\b\b\b\b\b\b\b\b\b\b\b\b\b\b\b\b\b\b\b\b\b\b\b\b\b\b\b\b\b\b\b\b\b\b\b\b\b\b\b\b\b\b\b\b\b\b\b\b\b\b\b\b\b\b\b\b\b\b\b\b\b\b\b\b\b\b\b\b\b\b\b\b\b\b\b\b\b\b\b\b\r 79/291 [=======>......................] - ETA: 1:18 - loss: 2.5248 - accuracy: 0.2818",
                    "output_type": "stream"
                },
                {
                    "name": "stdout",
                    "text": "\b\b\b\b\b\b\b\b\b\b\b\b\b\b\b\b\b\b\b\b\b\b\b\b\b\b\b\b\b\b\b\b\b\b\b\b\b\b\b\b\b\b\b\b\b\b\b\b\b\b\b\b\b\b\b\b\b\b\b\b\b\b\b\b\b\b\b\b\b\b\b\b\b\b\b\b\b\b\b\b\b\b\b\b\b\b\r 80/291 [=======>......................] - ETA: 1:18 - loss: 2.5226 - accuracy: 0.2826",
                    "output_type": "stream"
                },
                {
                    "name": "stdout",
                    "text": "\b\b\b\b\b\b\b\b\b\b\b\b\b\b\b\b\b\b\b\b\b\b\b\b\b\b\b\b\b\b\b\b\b\b\b\b\b\b\b\b\b\b\b\b\b\b\b\b\b\b\b\b\b\b\b\b\b\b\b\b\b\b\b\b\b\b\b\b\b\b\b\b\b\b\b\b\b\b\b\b\b\b\b\b\b\b\r 81/291 [=======>......................] - ETA: 1:17 - loss: 2.5221 - accuracy: 0.2826",
                    "output_type": "stream"
                },
                {
                    "name": "stdout",
                    "text": "\b\b\b\b\b\b\b\b\b\b\b\b\b\b\b\b\b\b\b\b\b\b\b\b\b\b\b\b\b\b\b\b\b\b\b\b\b\b\b\b\b\b\b\b\b\b\b\b\b\b\b\b\b\b\b\b\b\b\b\b\b\b\b\b\b\b\b\b\b\b\b\b\b\b\b\b\b\b\b\b\b\b\b\b\b\b\r 82/291 [=======>......................] - ETA: 1:17 - loss: 2.5248 - accuracy: 0.2820",
                    "output_type": "stream"
                },
                {
                    "name": "stdout",
                    "text": "\b\b\b\b\b\b\b\b\b\b\b\b\b\b\b\b\b\b\b\b\b\b\b\b\b\b\b\b\b\b\b\b\b\b\b\b\b\b\b\b\b\b\b\b\b\b\b\b\b\b\b\b\b\b\b\b\b\b\b\b\b\b\b\b\b\b\b\b\b\b\b\b\b\b\b\b\b\b\b\b\b\b\b\b\b\b\r 83/291 [=======>......................] - ETA: 1:16 - loss: 2.5228 - accuracy: 0.2818",
                    "output_type": "stream"
                },
                {
                    "name": "stdout",
                    "text": "\b\b\b\b\b\b\b\b\b\b\b\b\b\b\b\b\b\b\b\b\b\b\b\b\b\b\b\b\b\b\b\b\b\b\b\b\b\b\b\b\b\b\b\b\b\b\b\b\b\b\b\b\b\b\b\b\b\b\b\b\b\b\b\b\b\b\b\b\b\b\b\b\b\b\b\b\b\b\b\b\b\b\b\b\b\b\r 84/291 [=======>......................] - ETA: 1:16 - loss: 2.5230 - accuracy: 0.2814",
                    "output_type": "stream"
                },
                {
                    "name": "stdout",
                    "text": "\b\b\b\b\b\b\b\b\b\b\b\b\b\b\b\b\b\b\b\b\b\b\b\b\b\b\b\b\b\b\b\b\b\b\b\b\b\b\b\b\b\b\b\b\b\b\b\b\b\b\b\b\b\b\b\b\b\b\b\b\b\b\b\b\b\b\b\b\b\b\b\b\b\b\b\b\b\b\b\b\b\b\b\b\b\b\r 85/291 [=======>......................] - ETA: 1:15 - loss: 2.5224 - accuracy: 0.2812",
                    "output_type": "stream"
                },
                {
                    "name": "stdout",
                    "text": "\b\b\b\b\b\b\b\b\b\b\b\b\b\b\b\b\b\b\b\b\b\b\b\b\b\b\b\b\b\b\b\b\b\b\b\b\b\b\b\b\b\b\b\b\b\b\b\b\b\b\b\b\b\b\b\b\b\b\b\b\b\b\b\b\b\b\b\b\b\b\b\b\b\b\b\b\b\b\b\b\b\b\b\b\b\b\r 86/291 [=======>......................] - ETA: 1:15 - loss: 2.5227 - accuracy: 0.2812",
                    "output_type": "stream"
                },
                {
                    "name": "stdout",
                    "text": "\b\b\b\b\b\b\b\b\b\b\b\b\b\b\b\b\b\b\b\b\b\b\b\b\b\b\b\b\b\b\b\b\b\b\b\b\b\b\b\b\b\b\b\b\b\b\b\b\b\b\b\b\b\b\b\b\b\b\b\b\b\b\b\b\b\b\b\b\b\b\b\b\b\b\b\b\b\b\b\b\b\b\b\b\b\b\r 87/291 [=======>......................] - ETA: 1:14 - loss: 2.5203 - accuracy: 0.2818",
                    "output_type": "stream"
                },
                {
                    "name": "stdout",
                    "text": "\b\b\b\b\b\b\b\b\b\b\b\b\b\b\b\b\b\b\b\b\b\b\b\b\b\b\b\b\b\b\b\b\b\b\b\b\b\b\b\b\b\b\b\b\b\b\b\b\b\b\b\b\b\b\b\b\b\b\b\b\b\b\b\b\b\b\b\b\b\b\b\b\b\b\b\b\b\b\b\b\b\b\b\b\b\b\r 88/291 [========>.....................] - ETA: 1:14 - loss: 2.5185 - accuracy: 0.2816",
                    "output_type": "stream"
                },
                {
                    "name": "stdout",
                    "text": "\b\b\b\b\b\b\b\b\b\b\b\b\b\b\b\b\b\b\b\b\b\b\b\b\b\b\b\b\b\b\b\b\b\b\b\b\b\b\b\b\b\b\b\b\b\b\b\b\b\b\b\b\b\b\b\b\b\b\b\b\b\b\b\b\b\b\b\b\b\b\b\b\b\b\b\b\b\b\b\b\b\b\b\b\b\b\r 89/291 [========>.....................] - ETA: 1:13 - loss: 2.5177 - accuracy: 0.2818",
                    "output_type": "stream"
                },
                {
                    "name": "stdout",
                    "text": "\b\b\b\b\b\b\b\b\b\b\b\b\b\b\b\b\b\b\b\b\b\b\b\b\b\b\b\b\b\b\b\b\b\b\b\b\b\b\b\b\b\b\b\b\b\b\b\b\b\b\b\b\b\b\b\b\b\b\b\b\b\b\b\b\b\b\b\b\b\b\b\b\b\b\b\b\b\b\b\b\b\b\b\b\b\b\r 90/291 [========>.....................] - ETA: 1:13 - loss: 2.5174 - accuracy: 0.2819",
                    "output_type": "stream"
                },
                {
                    "name": "stdout",
                    "text": "\b\b\b\b\b\b\b\b\b\b\b\b\b\b\b\b\b\b\b\b\b\b\b\b\b\b\b\b\b\b\b\b\b\b\b\b\b\b\b\b\b\b\b\b\b\b\b\b\b\b\b\b\b\b\b\b\b\b\b\b\b\b\b\b\b\b\b\b\b\b\b\b\b\b\b\b\b\b\b\b\b\b\b\b\b\b\r 91/291 [========>.....................] - ETA: 1:12 - loss: 2.5146 - accuracy: 0.2818",
                    "output_type": "stream"
                },
                {
                    "name": "stdout",
                    "text": "\b\b\b\b\b\b\b\b\b\b\b\b\b\b\b\b\b\b\b\b\b\b\b\b\b\b\b\b\b\b\b\b\b\b\b\b\b\b\b\b\b\b\b\b\b\b\b\b\b\b\b\b\b\b\b\b\b\b\b\b\b\b\b\b\b\b\b\b\b\b\b\b\b\b\b\b\b\b\b\b\b\b\b\b\b\b\r 92/291 [========>.....................] - ETA: 1:12 - loss: 2.5147 - accuracy: 0.2816",
                    "output_type": "stream"
                },
                {
                    "name": "stdout",
                    "text": "\b\b\b\b\b\b\b\b\b\b\b\b\b\b\b\b\b\b\b\b\b\b\b\b\b\b\b\b\b\b\b\b\b\b\b\b\b\b\b\b\b\b\b\b\b\b\b\b\b\b\b\b\b\b\b\b\b\b\b\b\b\b\b\b\b\b\b\b\b\b\b\b\b\b\b\b\b\b\b\b\b\b\b\b\b\b\r 93/291 [========>.....................] - ETA: 1:11 - loss: 2.5123 - accuracy: 0.2826",
                    "output_type": "stream"
                },
                {
                    "name": "stdout",
                    "text": "\b\b\b\b\b\b\b\b\b\b\b\b\b\b\b\b\b\b\b\b\b\b\b\b\b\b\b\b\b\b\b\b\b\b\b\b\b\b\b\b\b\b\b\b\b\b\b\b\b\b\b\b\b\b\b\b\b\b\b\b\b\b\b\b\b\b\b\b\b\b\b\b\b\b\b\b\b\b\b\b\b\b\b\b\b\b\r 94/291 [========>.....................] - ETA: 1:11 - loss: 2.5130 - accuracy: 0.2814",
                    "output_type": "stream"
                },
                {
                    "name": "stdout",
                    "text": "\b\b\b\b\b\b\b\b\b\b\b\b\b\b\b\b\b\b\b\b\b\b\b\b\b\b\b\b\b\b\b\b\b\b\b\b\b\b\b\b\b\b\b\b\b\b\b\b\b\b\b\b\b\b\b\b\b\b\b\b\b\b\b\b\b\b\b\b\b\b\b\b\b\b\b\b\b\b\b\b\b\b\b\b\b\b\r 95/291 [========>.....................] - ETA: 1:11 - loss: 2.5117 - accuracy: 0.2819",
                    "output_type": "stream"
                },
                {
                    "name": "stdout",
                    "text": "\b\b\b\b\b\b\b\b\b\b\b\b\b\b\b\b\b\b\b\b\b\b\b\b\b\b\b\b\b\b\b\b\b\b\b\b\b\b\b\b\b\b\b\b\b\b\b\b\b\b\b\b\b\b\b\b\b\b\b\b\b\b\b\b\b\b\b\b\b\b\b\b\b\b\b\b\b\b\b\b\b\b\b\b\b\b\r 96/291 [========>.....................] - ETA: 1:10 - loss: 2.5125 - accuracy: 0.2814",
                    "output_type": "stream"
                },
                {
                    "name": "stdout",
                    "text": "\b\b\b\b\b\b\b\b\b\b\b\b\b\b\b\b\b\b\b\b\b\b\b\b\b\b\b\b\b\b\b\b\b\b\b\b\b\b\b\b\b\b\b\b\b\b\b\b\b\b\b\b\b\b\b\b\b\b\b\b\b\b\b\b\b\b\b\b\b\b\b\b\b\b\b\b\b\b\b\b\b\b\b\b\b\b\r 97/291 [=========>....................] - ETA: 1:10 - loss: 2.5112 - accuracy: 0.2811",
                    "output_type": "stream"
                },
                {
                    "name": "stdout",
                    "text": "\b\b\b\b\b\b\b\b\b\b\b\b\b\b\b\b\b\b\b\b\b\b\b\b\b\b\b\b\b\b\b\b\b\b\b\b\b\b\b\b\b\b\b\b\b\b\b\b\b\b\b\b\b\b\b\b\b\b\b\b\b\b\b\b\b\b\b\b\b\b\b\b\b\b\b\b\b\b\b\b\b\b\b\b\b\b\r 98/291 [=========>....................] - ETA: 1:09 - loss: 2.5111 - accuracy: 0.2816",
                    "output_type": "stream"
                },
                {
                    "name": "stdout",
                    "text": "\b\b\b\b\b\b\b\b\b\b\b\b\b\b\b\b\b\b\b\b\b\b\b\b\b\b\b\b\b\b\b\b\b\b\b\b\b\b\b\b\b\b\b\b\b\b\b\b\b\b\b\b\b\b\b\b\b\b\b\b\b\b\b\b\b\b\b\b\b\b\b\b\b\b\b\b\b\b\b\b\b\b\b\b\b\b\r 99/291 [=========>....................] - ETA: 1:09 - loss: 2.5110 - accuracy: 0.2820",
                    "output_type": "stream"
                },
                {
                    "name": "stdout",
                    "text": "\b\b\b\b\b\b\b\b\b\b\b\b\b\b\b\b\b\b\b\b\b\b\b\b\b\b\b\b\b\b\b\b\b\b\b\b\b\b\b\b\b\b\b\b\b\b\b\b\b\b\b\b\b\b\b\b\b\b\b\b\b\b\b\b\b\b\b\b\b\b\b\b\b\b\b\b\b\b\b\b\b\b\b\b\b\b\r100/291 [=========>....................] - ETA: 1:08 - loss: 2.5086 - accuracy: 0.2822",
                    "output_type": "stream"
                },
                {
                    "name": "stdout",
                    "text": "\b\b\b\b\b\b\b\b\b\b\b\b\b\b\b\b\b\b\b\b\b\b\b\b\b\b\b\b\b\b\b\b\b\b\b\b\b\b\b\b\b\b\b\b\b\b\b\b\b\b\b\b\b\b\b\b\b\b\b\b\b\b\b\b\b\b\b\b\b\b\b\b\b\b\b\b\b\b\b\b\b\b\b\b\b\b\r101/291 [=========>....................] - ETA: 1:08 - loss: 2.5085 - accuracy: 0.2831",
                    "output_type": "stream"
                },
                {
                    "name": "stdout",
                    "text": "\b\b\b\b\b\b\b\b\b\b\b\b\b\b\b\b\b\b\b\b\b\b\b\b\b\b\b\b\b\b\b\b\b\b\b\b\b\b\b\b\b\b\b\b\b\b\b\b\b\b\b\b\b\b\b\b\b\b\b\b\b\b\b\b\b\b\b\b\b\b\b\b\b\b\b\b\b\b\b\b\b\b\b\b\b\b\r102/291 [=========>....................] - ETA: 1:07 - loss: 2.5087 - accuracy: 0.2826",
                    "output_type": "stream"
                },
                {
                    "name": "stdout",
                    "text": "\b\b\b\b\b\b\b\b\b\b\b\b\b\b\b\b\b\b\b\b\b\b\b\b\b\b\b\b\b\b\b\b\b\b\b\b\b\b\b\b\b\b\b\b\b\b\b\b\b\b\b\b\b\b\b\b\b\b\b\b\b\b\b\b\b\b\b\b\b\b\b\b\b\b\b\b\b\b\b\b\b\b\b\b\b\b\r103/291 [=========>....................] - ETA: 1:07 - loss: 2.5084 - accuracy: 0.2831",
                    "output_type": "stream"
                },
                {
                    "name": "stdout",
                    "text": "\b\b\b\b\b\b\b\b\b\b\b\b\b\b\b\b\b\b\b\b\b\b\b\b\b\b\b\b\b\b\b\b\b\b\b\b\b\b\b\b\b\b\b\b\b\b\b\b\b\b\b\b\b\b\b\b\b\b\b\b\b\b\b\b\b\b\b\b\b\b\b\b\b\b\b\b\b\b\b\b\b\b\b\b\b\b\r104/291 [=========>....................] - ETA: 1:06 - loss: 2.5073 - accuracy: 0.2837",
                    "output_type": "stream"
                },
                {
                    "name": "stdout",
                    "text": "\b\b\b\b\b\b\b\b\b\b\b\b\b\b\b\b\b\b\b\b\b\b\b\b\b\b\b\b\b\b\b\b\b\b\b\b\b\b\b\b\b\b\b\b\b\b\b\b\b\b\b\b\b\b\b\b\b\b\b\b\b\b\b\b\b\b\b\b\b\b\b\b\b\b\b\b\b\b\b\b\b\b\b\b\b\b\r105/291 [=========>....................] - ETA: 1:06 - loss: 2.5089 - accuracy: 0.2832",
                    "output_type": "stream"
                },
                {
                    "name": "stdout",
                    "text": "\b\b\b\b\b\b\b\b\b\b\b\b\b\b\b\b\b\b\b\b\b\b\b\b\b\b\b\b\b\b\b\b\b\b\b\b\b\b\b\b\b\b\b\b\b\b\b\b\b\b\b\b\b\b\b\b\b\b\b\b\b\b\b\b\b\b\b\b\b\b\b\b\b\b\b\b\b\b\b\b\b\b\b\b\b\b\r106/291 [=========>....................] - ETA: 1:05 - loss: 2.5068 - accuracy: 0.2833",
                    "output_type": "stream"
                },
                {
                    "name": "stdout",
                    "text": "\b\b\b\b\b\b\b\b\b\b\b\b\b\b\b\b\b\b\b\b\b\b\b\b\b\b\b\b\b\b\b\b\b\b\b\b\b\b\b\b\b\b\b\b\b\b\b\b\b\b\b\b\b\b\b\b\b\b\b\b\b\b\b\b\b\b\b\b\b\b\b\b\b\b\b\b\b\b\b\b\b\b\b\b\b\b\r107/291 [==========>...................] - ETA: 1:05 - loss: 2.5075 - accuracy: 0.2831",
                    "output_type": "stream"
                },
                {
                    "name": "stdout",
                    "text": "\b\b\b\b\b\b\b\b\b\b\b\b\b\b\b\b\b\b\b\b\b\b\b\b\b\b\b\b\b\b\b\b\b\b\b\b\b\b\b\b\b\b\b\b\b\b\b\b\b\b\b\b\b\b\b\b\b\b\b\b\b\b\b\b\b\b\b\b\b\b\b\b\b\b\b\b\b\b\b\b\b\b\b\b\b\b\r108/291 [==========>...................] - ETA: 1:05 - loss: 2.5055 - accuracy: 0.2840",
                    "output_type": "stream"
                },
                {
                    "name": "stdout",
                    "text": "\b\b\b\b\b\b\b\b\b\b\b\b\b\b\b\b\b\b\b\b\b\b\b\b\b\b\b\b\b\b\b\b\b\b\b\b\b\b\b\b\b\b\b\b\b\b\b\b\b\b\b\b\b\b\b\b\b\b\b\b\b\b\b\b\b\b\b\b\b\b\b\b\b\b\b\b\b\b\b\b\b\b\b\b\b\b\r109/291 [==========>...................] - ETA: 1:04 - loss: 2.5051 - accuracy: 0.2838",
                    "output_type": "stream"
                },
                {
                    "name": "stdout",
                    "text": "\b\b\b\b\b\b\b\b\b\b\b\b\b\b\b\b\b\b\b\b\b\b\b\b\b\b\b\b\b\b\b\b\b\b\b\b\b\b\b\b\b\b\b\b\b\b\b\b\b\b\b\b\b\b\b\b\b\b\b\b\b\b\b\b\b\b\b\b\b\b\b\b\b\b\b\b\b\b\b\b\b\b\b\b\b\b\r110/291 [==========>...................] - ETA: 1:04 - loss: 2.5037 - accuracy: 0.2841",
                    "output_type": "stream"
                },
                {
                    "name": "stdout",
                    "text": "\b\b\b\b\b\b\b\b\b\b\b\b\b\b\b\b\b\b\b\b\b\b\b\b\b\b\b\b\b\b\b\b\b\b\b\b\b\b\b\b\b\b\b\b\b\b\b\b\b\b\b\b\b\b\b\b\b\b\b\b\b\b\b\b\b\b\b\b\b\b\b\b\b\b\b\b\b\b\b\b\b\b\b\b\b\b\r111/291 [==========>...................] - ETA: 1:03 - loss: 2.5039 - accuracy: 0.2841",
                    "output_type": "stream"
                },
                {
                    "name": "stdout",
                    "text": "\b\b\b\b\b\b\b\b\b\b\b\b\b\b\b\b\b\b\b\b\b\b\b\b\b\b\b\b\b\b\b\b\b\b\b\b\b\b\b\b\b\b\b\b\b\b\b\b\b\b\b\b\b\b\b\b\b\b\b\b\b\b\b\b\b\b\b\b\b\b\b\b\b\b\b\b\b\b\b\b\b\b\b\b\b\b\r112/291 [==========>...................] - ETA: 1:03 - loss: 2.5027 - accuracy: 0.2852",
                    "output_type": "stream"
                },
                {
                    "name": "stdout",
                    "text": "\b\b\b\b\b\b\b\b\b\b\b\b\b\b\b\b\b\b\b\b\b\b\b\b\b\b\b\b\b\b\b\b\b\b\b\b\b\b\b\b\b\b\b\b\b\b\b\b\b\b\b\b\b\b\b\b\b\b\b\b\b\b\b\b\b\b\b\b\b\b\b\b\b\b\b\b\b\b\b\b\b\b\b\b\b\b\r113/291 [==========>...................] - ETA: 1:02 - loss: 2.5047 - accuracy: 0.2847",
                    "output_type": "stream"
                },
                {
                    "name": "stdout",
                    "text": "\b\b\b\b\b\b\b\b\b\b\b\b\b\b\b\b\b\b\b\b\b\b\b\b\b\b\b\b\b\b\b\b\b\b\b\b\b\b\b\b\b\b\b\b\b\b\b\b\b\b\b\b\b\b\b\b\b\b\b\b\b\b\b\b\b\b\b\b\b\b\b\b\b\b\b\b\b\b\b\b\b\b\b\b\b\b\r114/291 [==========>...................] - ETA: 1:02 - loss: 2.5058 - accuracy: 0.2845",
                    "output_type": "stream"
                },
                {
                    "name": "stdout",
                    "text": "\b\b\b\b\b\b\b\b\b\b\b\b\b\b\b\b\b\b\b\b\b\b\b\b\b\b\b\b\b\b\b\b\b\b\b\b\b\b\b\b\b\b\b\b\b\b\b\b\b\b\b\b\b\b\b\b\b\b\b\b\b\b\b\b\b\b\b\b\b\b\b\b\b\b\b\b\b\b\b\b\b\b\b\b\b\b\r115/291 [==========>...................] - ETA: 1:02 - loss: 2.5045 - accuracy: 0.2852",
                    "output_type": "stream"
                },
                {
                    "name": "stdout",
                    "text": "\b\b\b\b\b\b\b\b\b\b\b\b\b\b\b\b\b\b\b\b\b\b\b\b\b\b\b\b\b\b\b\b\b\b\b\b\b\b\b\b\b\b\b\b\b\b\b\b\b\b\b\b\b\b\b\b\b\b\b\b\b\b\b\b\b\b\b\b\b\b\b\b\b\b\b\b\b\b\b\b\b\b\b\b\b\b\r116/291 [==========>...................] - ETA: 1:01 - loss: 2.5029 - accuracy: 0.2857",
                    "output_type": "stream"
                },
                {
                    "name": "stdout",
                    "text": "\b\b\b\b\b\b\b\b\b\b\b\b\b\b\b\b\b\b\b\b\b\b\b\b\b\b\b\b\b\b\b\b\b\b\b\b\b\b\b\b\b\b\b\b\b\b\b\b\b\b\b\b\b\b\b\b\b\b\b\b\b\b\b\b\b\b\b\b\b\b\b\b\b\b\b\b\b\b\b\b\b\b\b\b\b\b\r117/291 [===========>..................] - ETA: 1:01 - loss: 2.5011 - accuracy: 0.2855",
                    "output_type": "stream"
                },
                {
                    "name": "stdout",
                    "text": "\b\b\b\b\b\b\b\b\b\b\b\b\b\b\b\b\b\b\b\b\b\b\b\b\b\b\b\b\b\b\b\b\b\b\b\b\b\b\b\b\b\b\b\b\b\b\b\b\b\b\b\b\b\b\b\b\b\b\b\b\b\b\b\b\b\b\b\b\b\b\b\b\b\b\b\b\b\b\b\b\b\b\b\b\b\b\r118/291 [===========>..................] - ETA: 1:00 - loss: 2.5014 - accuracy: 0.2852",
                    "output_type": "stream"
                },
                {
                    "name": "stdout",
                    "text": "\b\b\b\b\b\b\b\b\b\b\b\b\b\b\b\b\b\b\b\b\b\b\b\b\b\b\b\b\b\b\b\b\b\b\b\b\b\b\b\b\b\b\b\b\b\b\b\b\b\b\b\b\b\b\b\b\b\b\b\b\b\b\b\b\b\b\b\b\b\b\b\b\b\b\b\b\b\b\b\b\b\b\b\b\b\b\r119/291 [===========>..................] - ETA: 1:00 - loss: 2.5007 - accuracy: 0.2855",
                    "output_type": "stream"
                },
                {
                    "name": "stdout",
                    "text": "\b\b\b\b\b\b\b\b\b\b\b\b\b\b\b\b\b\b\b\b\b\b\b\b\b\b\b\b\b\b\b\b\b\b\b\b\b\b\b\b\b\b\b\b\b\b\b\b\b\b\b\b\b\b\b\b\b\b\b\b\b\b\b\b\b\b\b\b\b\b\b\b\b\b\b\b\b\b\b\b\b\b\b\b\b\b\r120/291 [===========>..................] - ETA: 59s - loss: 2.5005 - accuracy: 0.2857 ",
                    "output_type": "stream"
                },
                {
                    "name": "stdout",
                    "text": "\b\b\b\b\b\b\b\b\b\b\b\b\b\b\b\b\b\b\b\b\b\b\b\b\b\b\b\b\b\b\b\b\b\b\b\b\b\b\b\b\b\b\b\b\b\b\b\b\b\b\b\b\b\b\b\b\b\b\b\b\b\b\b\b\b\b\b\b\b\b\b\b\b\b\b\b\b\b\b\b\b\b\b\b\b\r121/291 [===========>..................] - ETA: 59s - loss: 2.4988 - accuracy: 0.2860",
                    "output_type": "stream"
                },
                {
                    "name": "stdout",
                    "text": "\b\b\b\b\b\b\b\b\b\b\b\b\b\b\b\b\b\b\b\b\b\b\b\b\b\b\b\b\b\b\b\b\b\b\b\b\b\b\b\b\b\b\b\b\b\b\b\b\b\b\b\b\b\b\b\b\b\b\b\b\b\b\b\b\b\b\b\b\b\b\b\b\b\b\b\b\b\b\b\b\b\b\b\b\b\r122/291 [===========>..................] - ETA: 59s - loss: 2.5000 - accuracy: 0.2851",
                    "output_type": "stream"
                },
                {
                    "name": "stdout",
                    "text": "\b\b\b\b\b\b\b\b\b\b\b\b\b\b\b\b\b\b\b\b\b\b\b\b\b\b\b\b\b\b\b\b\b\b\b\b\b\b\b\b\b\b\b\b\b\b\b\b\b\b\b\b\b\b\b\b\b\b\b\b\b\b\b\b\b\b\b\b\b\b\b\b\b\b\b\b\b\b\b\b\b\b\b\b\b\r123/291 [===========>..................] - ETA: 58s - loss: 2.4994 - accuracy: 0.2852",
                    "output_type": "stream"
                },
                {
                    "name": "stdout",
                    "text": "\b\b\b\b\b\b\b\b\b\b\b\b\b\b\b\b\b\b\b\b\b\b\b\b\b\b\b\b\b\b\b\b\b\b\b\b\b\b\b\b\b\b\b\b\b\b\b\b\b\b\b\b\b\b\b\b\b\b\b\b\b\b\b\b\b\b\b\b\b\b\b\b\b\b\b\b\b\b\b\b\b\b\b\b\b\r124/291 [===========>..................] - ETA: 58s - loss: 2.4984 - accuracy: 0.2855",
                    "output_type": "stream"
                },
                {
                    "name": "stdout",
                    "text": "\b\b\b\b\b\b\b\b\b\b\b\b\b\b\b\b\b\b\b\b\b\b\b\b\b\b\b\b\b\b\b\b\b\b\b\b\b\b\b\b\b\b\b\b\b\b\b\b\b\b\b\b\b\b\b\b\b\b\b\b\b\b\b\b\b\b\b\b\b\b\b\b\b\b\b\b\b\b\b\b\b\b\b\b\b\r125/291 [===========>..................] - ETA: 58s - loss: 2.4976 - accuracy: 0.2859",
                    "output_type": "stream"
                },
                {
                    "name": "stdout",
                    "text": "\b\b\b\b\b\b\b\b\b\b\b\b\b\b\b\b\b\b\b\b\b\b\b\b\b\b\b\b\b\b\b\b\b\b\b\b\b\b\b\b\b\b\b\b\b\b\b\b\b\b\b\b\b\b\b\b\b\b\b\b\b\b\b\b\b\b\b\b\b\b\b\b\b\b\b\b\b\b\b\b\b\b\b\b\b\r126/291 [===========>..................] - ETA: 57s - loss: 2.4953 - accuracy: 0.2871",
                    "output_type": "stream"
                },
                {
                    "name": "stdout",
                    "text": "\b\b\b\b\b\b\b\b\b\b\b\b\b\b\b\b\b\b\b\b\b\b\b\b\b\b\b\b\b\b\b\b\b\b\b\b\b\b\b\b\b\b\b\b\b\b\b\b\b\b\b\b\b\b\b\b\b\b\b\b\b\b\b\b\b\b\b\b\b\b\b\b\b\b\b\b\b\b\b\b\b\b\b\b\b\r127/291 [============>.................] - ETA: 57s - loss: 2.4953 - accuracy: 0.2872",
                    "output_type": "stream"
                },
                {
                    "name": "stdout",
                    "text": "\b\b\b\b\b\b\b\b\b\b\b\b\b\b\b\b\b\b\b\b\b\b\b\b\b\b\b\b\b\b\b\b\b\b\b\b\b\b\b\b\b\b\b\b\b\b\b\b\b\b\b\b\b\b\b\b\b\b\b\b\b\b\b\b\b\b\b\b\b\b\b\b\b\b\b\b\b\b\b\b\b\b\b\b\b\r128/291 [============>.................] - ETA: 56s - loss: 2.4961 - accuracy: 0.2863",
                    "output_type": "stream"
                },
                {
                    "name": "stdout",
                    "text": "\b\b\b\b\b\b\b\b\b\b\b\b\b\b\b\b\b\b\b\b\b\b\b\b\b\b\b\b\b\b\b\b\b\b\b\b\b\b\b\b\b\b\b\b\b\b\b\b\b\b\b\b\b\b\b\b\b\b\b\b\b\b\b\b\b\b\b\b\b\b\b\b\b\b\b\b\b\b\b\b\b\b\b\b\b\r129/291 [============>.................] - ETA: 56s - loss: 2.4942 - accuracy: 0.2871",
                    "output_type": "stream"
                },
                {
                    "name": "stdout",
                    "text": "\b\b\b\b\b\b\b\b\b\b\b\b\b\b\b\b\b\b\b\b\b\b\b\b\b\b\b\b\b\b\b\b\b\b\b\b\b\b\b\b\b\b\b\b\b\b\b\b\b\b\b\b\b\b\b\b\b\b\b\b\b\b\b\b\b\b\b\b\b\b\b\b\b\b\b\b\b\b\b\b\b\b\b\b\b\r130/291 [============>.................] - ETA: 56s - loss: 2.4946 - accuracy: 0.2871",
                    "output_type": "stream"
                },
                {
                    "name": "stdout",
                    "text": "\b\b\b\b\b\b\b\b\b\b\b\b\b\b\b\b\b\b\b\b\b\b\b\b\b\b\b\b\b\b\b\b\b\b\b\b\b\b\b\b\b\b\b\b\b\b\b\b\b\b\b\b\b\b\b\b\b\b\b\b\b\b\b\b\b\b\b\b\b\b\b\b\b\b\b\b\b\b\b\b\b\b\b\b\b\r131/291 [============>.................] - ETA: 55s - loss: 2.4954 - accuracy: 0.2871",
                    "output_type": "stream"
                },
                {
                    "name": "stdout",
                    "text": "\b\b\b\b\b\b\b\b\b\b\b\b\b\b\b\b\b\b\b\b\b\b\b\b\b\b\b\b\b\b\b\b\b\b\b\b\b\b\b\b\b\b\b\b\b\b\b\b\b\b\b\b\b\b\b\b\b\b\b\b\b\b\b\b\b\b\b\b\b\b\b\b\b\b\b\b\b\b\b\b\b\b\b\b\b\r132/291 [============>.................] - ETA: 55s - loss: 2.4955 - accuracy: 0.2871",
                    "output_type": "stream"
                },
                {
                    "name": "stdout",
                    "text": "\b\b\b\b\b\b\b\b\b\b\b\b\b\b\b\b\b\b\b\b\b\b\b\b\b\b\b\b\b\b\b\b\b\b\b\b\b\b\b\b\b\b\b\b\b\b\b\b\b\b\b\b\b\b\b\b\b\b\b\b\b\b\b\b\b\b\b\b\b\b\b\b\b\b\b\b\b\b\b\b\b\b\b\b\b\r133/291 [============>.................] - ETA: 54s - loss: 2.4957 - accuracy: 0.2867",
                    "output_type": "stream"
                },
                {
                    "name": "stdout",
                    "text": "\b\b\b\b\b\b\b\b\b\b\b\b\b\b\b\b\b\b\b\b\b\b\b\b\b\b\b\b\b\b\b\b\b\b\b\b\b\b\b\b\b\b\b\b\b\b\b\b\b\b\b\b\b\b\b\b\b\b\b\b\b\b\b\b\b\b\b\b\b\b\b\b\b\b\b\b\b\b\b\b\b\b\b\b\b\r134/291 [============>.................] - ETA: 54s - loss: 2.4946 - accuracy: 0.2867",
                    "output_type": "stream"
                },
                {
                    "name": "stdout",
                    "text": "\b\b\b\b\b\b\b\b\b\b\b\b\b\b\b\b\b\b\b\b\b\b\b\b\b\b\b\b\b\b\b\b\b\b\b\b\b\b\b\b\b\b\b\b\b\b\b\b\b\b\b\b\b\b\b\b\b\b\b\b\b\b\b\b\b\b\b\b\b\b\b\b\b\b\b\b\b\b\b\b\b\b\b\b\b\r135/291 [============>.................] - ETA: 54s - loss: 2.4950 - accuracy: 0.2862",
                    "output_type": "stream"
                },
                {
                    "name": "stdout",
                    "text": "\b\b\b\b\b\b\b\b\b\b\b\b\b\b\b\b\b\b\b\b\b\b\b\b\b\b\b\b\b\b\b\b\b\b\b\b\b\b\b\b\b\b\b\b\b\b\b\b\b\b\b\b\b\b\b\b\b\b\b\b\b\b\b\b\b\b\b\b\b\b\b\b\b\b\b\b\b\b\b\b\b\b\b\b\b\r136/291 [=============>................] - ETA: 53s - loss: 2.4940 - accuracy: 0.2865",
                    "output_type": "stream"
                },
                {
                    "name": "stdout",
                    "text": "\b\b\b\b\b\b\b\b\b\b\b\b\b\b\b\b\b\b\b\b\b\b\b\b\b\b\b\b\b\b\b\b\b\b\b\b\b\b\b\b\b\b\b\b\b\b\b\b\b\b\b\b\b\b\b\b\b\b\b\b\b\b\b\b\b\b\b\b\b\b\b\b\b\b\b\b\b\b\b\b\b\b\b\b\b\r137/291 [=============>................] - ETA: 53s - loss: 2.4935 - accuracy: 0.2867",
                    "output_type": "stream"
                },
                {
                    "name": "stdout",
                    "text": "\b\b\b\b\b\b\b\b\b\b\b\b\b\b\b\b\b\b\b\b\b\b\b\b\b\b\b\b\b\b\b\b\b\b\b\b\b\b\b\b\b\b\b\b\b\b\b\b\b\b\b\b\b\b\b\b\b\b\b\b\b\b\b\b\b\b\b\b\b\b\b\b\b\b\b\b\b\b\b\b\b\b\b\b\b\r138/291 [=============>................] - ETA: 52s - loss: 2.4943 - accuracy: 0.2863",
                    "output_type": "stream"
                },
                {
                    "name": "stdout",
                    "text": "\b\b\b\b\b\b\b\b\b\b\b\b\b\b\b\b\b\b\b\b\b\b\b\b\b\b\b\b\b\b\b\b\b\b\b\b\b\b\b\b\b\b\b\b\b\b\b\b\b\b\b\b\b\b\b\b\b\b\b\b\b\b\b\b\b\b\b\b\b\b\b\b\b\b\b\b\b\b\b\b\b\b\b\b\b\r139/291 [=============>................] - ETA: 52s - loss: 2.4941 - accuracy: 0.2865",
                    "output_type": "stream"
                },
                {
                    "name": "stdout",
                    "text": "\b\b\b\b\b\b\b\b\b\b\b\b\b\b\b\b\b\b\b\b\b\b\b\b\b\b\b\b\b\b\b\b\b\b\b\b\b\b\b\b\b\b\b\b\b\b\b\b\b\b\b\b\b\b\b\b\b\b\b\b\b\b\b\b\b\b\b\b\b\b\b\b\b\b\b\b\b\b\b\b\b\b\b\b\b\r140/291 [=============>................] - ETA: 52s - loss: 2.4932 - accuracy: 0.2865",
                    "output_type": "stream"
                },
                {
                    "name": "stdout",
                    "text": "\b\b\b\b\b\b\b\b\b\b\b\b\b\b\b\b\b\b\b\b\b\b\b\b\b\b\b\b\b\b\b\b\b\b\b\b\b\b\b\b\b\b\b\b\b\b\b\b\b\b\b\b\b\b\b\b\b\b\b\b\b\b\b\b\b\b\b\b\b\b\b\b\b\b\b\b\b\b\b\b\b\b\b\b\b\r141/291 [=============>................] - ETA: 51s - loss: 2.4947 - accuracy: 0.2865",
                    "output_type": "stream"
                },
                {
                    "name": "stdout",
                    "text": "\b\b\b\b\b\b\b\b\b\b\b\b\b\b\b\b\b\b\b\b\b\b\b\b\b\b\b\b\b\b\b\b\b\b\b\b\b\b\b\b\b\b\b\b\b\b\b\b\b\b\b\b\b\b\b\b\b\b\b\b\b\b\b\b\b\b\b\b\b\b\b\b\b\b\b\b\b\b\b\b\b\b\b\b\b\r142/291 [=============>................] - ETA: 51s - loss: 2.4941 - accuracy: 0.2873",
                    "output_type": "stream"
                },
                {
                    "name": "stdout",
                    "text": "\b\b\b\b\b\b\b\b\b\b\b\b\b\b\b\b\b\b\b\b\b\b\b\b\b\b\b\b\b\b\b\b\b\b\b\b\b\b\b\b\b\b\b\b\b\b\b\b\b\b\b\b\b\b\b\b\b\b\b\b\b\b\b\b\b\b\b\b\b\b\b\b\b\b\b\b\b\b\b\b\b\b\b\b\b\r143/291 [=============>................] - ETA: 51s - loss: 2.4947 - accuracy: 0.2865",
                    "output_type": "stream"
                },
                {
                    "name": "stdout",
                    "text": "\b\b\b\b\b\b\b\b\b\b\b\b\b\b\b\b\b\b\b\b\b\b\b\b\b\b\b\b\b\b\b\b\b\b\b\b\b\b\b\b\b\b\b\b\b\b\b\b\b\b\b\b\b\b\b\b\b\b\b\b\b\b\b\b\b\b\b\b\b\b\b\b\b\b\b\b\b\b\b\b\b\b\b\b\b\r144/291 [=============>................] - ETA: 50s - loss: 2.4926 - accuracy: 0.2867",
                    "output_type": "stream"
                },
                {
                    "name": "stdout",
                    "text": "\b\b\b\b\b\b\b\b\b\b\b\b\b\b\b\b\b\b\b\b\b\b\b\b\b\b\b\b\b\b\b\b\b\b\b\b\b\b\b\b\b\b\b\b\b\b\b\b\b\b\b\b\b\b\b\b\b\b\b\b\b\b\b\b\b\b\b\b\b\b\b\b\b\b\b\b\b\b\b\b\b\b\b\b\b\r145/291 [=============>................] - ETA: 50s - loss: 2.4941 - accuracy: 0.2861",
                    "output_type": "stream"
                },
                {
                    "name": "stdout",
                    "text": "\b\b\b\b\b\b\b\b\b\b\b\b\b\b\b\b\b\b\b\b\b\b\b\b\b\b\b\b\b\b\b\b\b\b\b\b\b\b\b\b\b\b\b\b\b\b\b\b\b\b\b\b\b\b\b\b\b\b\b\b\b\b\b\b\b\b\b\b\b\b\b\b\b\b\b\b\b\b\b\b\b\b\b\b\b\r146/291 [==============>...............] - ETA: 50s - loss: 2.4953 - accuracy: 0.2854",
                    "output_type": "stream"
                },
                {
                    "name": "stdout",
                    "text": "\b\b\b\b\b\b\b\b\b\b\b\b\b\b\b\b\b\b\b\b\b\b\b\b\b\b\b\b\b\b\b\b\b\b\b\b\b\b\b\b\b\b\b\b\b\b\b\b\b\b\b\b\b\b\b\b\b\b\b\b\b\b\b\b\b\b\b\b\b\b\b\b\b\b\b\b\b\b\b\b\b\b\b\b\b\r147/291 [==============>...............] - ETA: 49s - loss: 2.4956 - accuracy: 0.2858",
                    "output_type": "stream"
                },
                {
                    "name": "stdout",
                    "text": "\b\b\b\b\b\b\b\b\b\b\b\b\b\b\b\b\b\b\b\b\b\b\b\b\b\b\b\b\b\b\b\b\b\b\b\b\b\b\b\b\b\b\b\b\b\b\b\b\b\b\b\b\b\b\b\b\b\b\b\b\b\b\b\b\b\b\b\b\b\b\b\b\b\b\b\b\b\b\b\b\b\b\b\b\b\r148/291 [==============>...............] - ETA: 49s - loss: 2.4930 - accuracy: 0.2864",
                    "output_type": "stream"
                },
                {
                    "name": "stdout",
                    "text": "\b\b\b\b\b\b\b\b\b\b\b\b\b\b\b\b\b\b\b\b\b\b\b\b\b\b\b\b\b\b\b\b\b\b\b\b\b\b\b\b\b\b\b\b\b\b\b\b\b\b\b\b\b\b\b\b\b\b\b\b\b\b\b\b\b\b\b\b\b\b\b\b\b\b\b\b\b\b\b\b\b\b\b\b\b\r149/291 [==============>...............] - ETA: 49s - loss: 2.4948 - accuracy: 0.2863",
                    "output_type": "stream"
                },
                {
                    "name": "stdout",
                    "text": "\b\b\b\b\b\b\b\b\b\b\b\b\b\b\b\b\b\b\b\b\b\b\b\b\b\b\b\b\b\b\b\b\b\b\b\b\b\b\b\b\b\b\b\b\b\b\b\b\b\b\b\b\b\b\b\b\b\b\b\b\b\b\b\b\b\b\b\b\b\b\b\b\b\b\b\b\b\b\b\b\b\b\b\b\b\r150/291 [==============>...............] - ETA: 48s - loss: 2.4943 - accuracy: 0.2864",
                    "output_type": "stream"
                },
                {
                    "name": "stdout",
                    "text": "\b\b\b\b\b\b\b\b\b\b\b\b\b\b\b\b\b\b\b\b\b\b\b\b\b\b\b\b\b\b\b\b\b\b\b\b\b\b\b\b\b\b\b\b\b\b\b\b\b\b\b\b\b\b\b\b\b\b\b\b\b\b\b\b\b\b\b\b\b\b\b\b\b\b\b\b\b\b\b\b\b\b\b\b\b\r151/291 [==============>...............] - ETA: 48s - loss: 2.4930 - accuracy: 0.2863",
                    "output_type": "stream"
                },
                {
                    "name": "stdout",
                    "text": "\b\b\b\b\b\b\b\b\b\b\b\b\b\b\b\b\b\b\b\b\b\b\b\b\b\b\b\b\b\b\b\b\b\b\b\b\b\b\b\b\b\b\b\b\b\b\b\b\b\b\b\b\b\b\b\b\b\b\b\b\b\b\b\b\b\b\b\b\b\b\b\b\b\b\b\b\b\b\b\b\b\b\b\b\b\r152/291 [==============>...............] - ETA: 48s - loss: 2.4902 - accuracy: 0.2870",
                    "output_type": "stream"
                },
                {
                    "name": "stdout",
                    "text": "\b\b\b\b\b\b\b\b\b\b\b\b\b\b\b\b\b\b\b\b\b\b\b\b\b\b\b\b\b\b\b\b\b\b\b\b\b\b\b\b\b\b\b\b\b\b\b\b\b\b\b\b\b\b\b\b\b\b\b\b\b\b\b\b\b\b\b\b\b\b\b\b\b\b\b\b\b\b\b\b\b\b\b\b\b\r153/291 [==============>...............] - ETA: 47s - loss: 2.4902 - accuracy: 0.2871",
                    "output_type": "stream"
                },
                {
                    "name": "stdout",
                    "text": "\b\b\b\b\b\b\b\b\b\b\b\b\b\b\b\b\b\b\b\b\b\b\b\b\b\b\b\b\b\b\b\b\b\b\b\b\b\b\b\b\b\b\b\b\b\b\b\b\b\b\b\b\b\b\b\b\b\b\b\b\b\b\b\b\b\b\b\b\b\b\b\b\b\b\b\b\b\b\b\b\b\b\b\b\b\r154/291 [==============>...............] - ETA: 47s - loss: 2.4881 - accuracy: 0.2875",
                    "output_type": "stream"
                },
                {
                    "name": "stdout",
                    "text": "\b\b\b\b\b\b\b\b\b\b\b\b\b\b\b\b\b\b\b\b\b\b\b\b\b\b\b\b\b\b\b\b\b\b\b\b\b\b\b\b\b\b\b\b\b\b\b\b\b\b\b\b\b\b\b\b\b\b\b\b\b\b\b\b\b\b\b\b\b\b\b\b\b\b\b\b\b\b\b\b\b\b\b\b\b\r155/291 [==============>...............] - ETA: 47s - loss: 2.4856 - accuracy: 0.2883",
                    "output_type": "stream"
                },
                {
                    "name": "stdout",
                    "text": "\b\b\b\b\b\b\b\b\b\b\b\b\b\b\b\b\b\b\b\b\b\b\b\b\b\b\b\b\b\b\b\b\b\b\b\b\b\b\b\b\b\b\b\b\b\b\b\b\b\b\b\b\b\b\b\b\b\b\b\b\b\b\b\b\b\b\b\b\b\b\b\b\b\b\b\b\b\b\b\b\b\b\b\b\b\r156/291 [===============>..............] - ETA: 47s - loss: 2.4857 - accuracy: 0.2883",
                    "output_type": "stream"
                },
                {
                    "name": "stdout",
                    "text": "\b\b\b\b\b\b\b\b\b\b\b\b\b\b\b\b\b\b\b\b\b\b\b\b\b\b\b\b\b\b\b\b\b\b\b\b\b\b\b\b\b\b\b\b\b\b\b\b\b\b\b\b\b\b\b\b\b\b\b\b\b\b\b\b\b\b\b\b\b\b\b\b\b\b\b\b\b\b\b\b\b\b\b\b\b\r157/291 [===============>..............] - ETA: 46s - loss: 2.4840 - accuracy: 0.2881",
                    "output_type": "stream"
                },
                {
                    "name": "stdout",
                    "text": "\b\b\b\b\b\b\b\b\b\b\b\b\b\b\b\b\b\b\b\b\b\b\b\b\b\b\b\b\b\b\b\b\b\b\b\b\b\b\b\b\b\b\b\b\b\b\b\b\b\b\b\b\b\b\b\b\b\b\b\b\b\b\b\b\b\b\b\b\b\b\b\b\b\b\b\b\b\b\b\b\b\b\b\b\b\r158/291 [===============>..............] - ETA: 46s - loss: 2.4830 - accuracy: 0.2882",
                    "output_type": "stream"
                },
                {
                    "name": "stdout",
                    "text": "\b\b\b\b\b\b\b\b\b\b\b\b\b\b\b\b\b\b\b\b\b\b\b\b\b\b\b\b\b\b\b\b\b\b\b\b\b\b\b\b\b\b\b\b\b\b\b\b\b\b\b\b\b\b\b\b\b\b\b\b\b\b\b\b\b\b\b\b\b\b\b\b\b\b\b\b\b\b\b\b\b\b\b\b\b\r159/291 [===============>..............] - ETA: 46s - loss: 2.4821 - accuracy: 0.2886",
                    "output_type": "stream"
                },
                {
                    "name": "stdout",
                    "text": "\b\b\b\b\b\b\b\b\b\b\b\b\b\b\b\b\b\b\b\b\b\b\b\b\b\b\b\b\b\b\b\b\b\b\b\b\b\b\b\b\b\b\b\b\b\b\b\b\b\b\b\b\b\b\b\b\b\b\b\b\b\b\b\b\b\b\b\b\b\b\b\b\b\b\b\b\b\b\b\b\b\b\b\b\b\r160/291 [===============>..............] - ETA: 45s - loss: 2.4823 - accuracy: 0.2885",
                    "output_type": "stream"
                },
                {
                    "name": "stdout",
                    "text": "\b\b\b\b\b\b\b\b\b\b\b\b\b\b\b\b\b\b\b\b\b\b\b\b\b\b\b\b\b\b\b\b\b\b\b\b\b\b\b\b\b\b\b\b\b\b\b\b\b\b\b\b\b\b\b\b\b\b\b\b\b\b\b\b\b\b\b\b\b\b\b\b\b\b\b\b\b\b\b\b\b\b\b\b\b\r161/291 [===============>..............] - ETA: 45s - loss: 2.4806 - accuracy: 0.2885",
                    "output_type": "stream"
                },
                {
                    "name": "stdout",
                    "text": "\b\b\b\b\b\b\b\b\b\b\b\b\b\b\b\b\b\b\b\b\b\b\b\b\b\b\b\b\b\b\b\b\b\b\b\b\b\b\b\b\b\b\b\b\b\b\b\b\b\b\b\b\b\b\b\b\b\b\b\b\b\b\b\b\b\b\b\b\b\b\b\b\b\b\b\b\b\b\b\b\b\b\b\b\b\r162/291 [===============>..............] - ETA: 45s - loss: 2.4794 - accuracy: 0.2886",
                    "output_type": "stream"
                },
                {
                    "name": "stdout",
                    "text": "\b\b\b\b\b\b\b\b\b\b\b\b\b\b\b\b\b\b\b\b\b\b\b\b\b\b\b\b\b\b\b\b\b\b\b\b\b\b\b\b\b\b\b\b\b\b\b\b\b\b\b\b\b\b\b\b\b\b\b\b\b\b\b\b\b\b\b\b\b\b\b\b\b\b\b\b\b\b\b\b\b\b\b\b\b\r163/291 [===============>..............] - ETA: 44s - loss: 2.4788 - accuracy: 0.2890",
                    "output_type": "stream"
                },
                {
                    "name": "stdout",
                    "text": "\b\b\b\b\b\b\b\b\b\b\b\b\b\b\b\b\b\b\b\b\b\b\b\b\b\b\b\b\b\b\b\b\b\b\b\b\b\b\b\b\b\b\b\b\b\b\b\b\b\b\b\b\b\b\b\b\b\b\b\b\b\b\b\b\b\b\b\b\b\b\b\b\b\b\b\b\b\b\b\b\b\b\b\b\b\r164/291 [===============>..............] - ETA: 44s - loss: 2.4777 - accuracy: 0.2892",
                    "output_type": "stream"
                },
                {
                    "name": "stdout",
                    "text": "\b\b\b\b\b\b\b\b\b\b\b\b\b\b\b\b\b\b\b\b\b\b\b\b\b\b\b\b\b\b\b\b\b\b\b\b\b\b\b\b\b\b\b\b\b\b\b\b\b\b\b\b\b\b\b\b\b\b\b\b\b\b\b\b\b\b\b\b\b\b\b\b\b\b\b\b\b\b\b\b\b\b\b\b\b\r165/291 [================>.............] - ETA: 44s - loss: 2.4788 - accuracy: 0.2887",
                    "output_type": "stream"
                },
                {
                    "name": "stdout",
                    "text": "\b\b\b\b\b\b\b\b\b\b\b\b\b\b\b\b\b\b\b\b\b\b\b\b\b\b\b\b\b\b\b\b\b\b\b\b\b\b\b\b\b\b\b\b\b\b\b\b\b\b\b\b\b\b\b\b\b\b\b\b\b\b\b\b\b\b\b\b\b\b\b\b\b\b\b\b\b\b\b\b\b\b\b\b\b\r166/291 [================>.............] - ETA: 43s - loss: 2.4798 - accuracy: 0.2883",
                    "output_type": "stream"
                },
                {
                    "name": "stdout",
                    "text": "\b\b\b\b\b\b\b\b\b\b\b\b\b\b\b\b\b\b\b\b\b\b\b\b\b\b\b\b\b\b\b\b\b\b\b\b\b\b\b\b\b\b\b\b\b\b\b\b\b\b\b\b\b\b\b\b\b\b\b\b\b\b\b\b\b\b\b\b\b\b\b\b\b\b\b\b\b\b\b\b\b\b\b\b\b\r167/291 [================>.............] - ETA: 43s - loss: 2.4789 - accuracy: 0.2883",
                    "output_type": "stream"
                },
                {
                    "name": "stdout",
                    "text": "\b\b\b\b\b\b\b\b\b\b\b\b\b\b\b\b\b\b\b\b\b\b\b\b\b\b\b\b\b\b\b\b\b\b\b\b\b\b\b\b\b\b\b\b\b\b\b\b\b\b\b\b\b\b\b\b\b\b\b\b\b\b\b\b\b\b\b\b\b\b\b\b\b\b\b\b\b\b\b\b\b\b\b\b\b\r168/291 [================>.............] - ETA: 43s - loss: 2.4799 - accuracy: 0.2884",
                    "output_type": "stream"
                },
                {
                    "name": "stdout",
                    "text": "\b\b\b\b\b\b\b\b\b\b\b\b\b\b\b\b\b\b\b\b\b\b\b\b\b\b\b\b\b\b\b\b\b\b\b\b\b\b\b\b\b\b\b\b\b\b\b\b\b\b\b\b\b\b\b\b\b\b\b\b\b\b\b\b\b\b\b\b\b\b\b\b\b\b\b\b\b\b\b\b\b\b\b\b\b\r169/291 [================>.............] - ETA: 42s - loss: 2.4801 - accuracy: 0.2888",
                    "output_type": "stream"
                },
                {
                    "name": "stdout",
                    "text": "\b\b\b\b\b\b\b\b\b\b\b\b\b\b\b\b\b\b\b\b\b\b\b\b\b\b\b\b\b\b\b\b\b\b\b\b\b\b\b\b\b\b\b\b\b\b\b\b\b\b\b\b\b\b\b\b\b\b\b\b\b\b\b\b\b\b\b\b\b\b\b\b\b\b\b\b\b\b\b\b\b\b\b\b\b\r170/291 [================>.............] - ETA: 42s - loss: 2.4802 - accuracy: 0.2887",
                    "output_type": "stream"
                },
                {
                    "name": "stdout",
                    "text": "\b\b\b\b\b\b\b\b\b\b\b\b\b\b\b\b\b\b\b\b\b\b\b\b\b\b\b\b\b\b\b\b\b\b\b\b\b\b\b\b\b\b\b\b\b\b\b\b\b\b\b\b\b\b\b\b\b\b\b\b\b\b\b\b\b\b\b\b\b\b\b\b\b\b\b\b\b\b\b\b\b\b\b\b\b\r171/291 [================>.............] - ETA: 42s - loss: 2.4797 - accuracy: 0.2887",
                    "output_type": "stream"
                },
                {
                    "name": "stdout",
                    "text": "\b\b\b\b\b\b\b\b\b\b\b\b\b\b\b\b\b\b\b\b\b\b\b\b\b\b\b\b\b\b\b\b\b\b\b\b\b\b\b\b\b\b\b\b\b\b\b\b\b\b\b\b\b\b\b\b\b\b\b\b\b\b\b\b\b\b\b\b\b\b\b\b\b\b\b\b\b\b\b\b\b\b\b\b\b\r172/291 [================>.............] - ETA: 41s - loss: 2.4798 - accuracy: 0.2890",
                    "output_type": "stream"
                },
                {
                    "name": "stdout",
                    "text": "\b\b\b\b\b\b\b\b\b\b\b\b\b\b\b\b\b\b\b\b\b\b\b\b\b\b\b\b\b\b\b\b\b\b\b\b\b\b\b\b\b\b\b\b\b\b\b\b\b\b\b\b\b\b\b\b\b\b\b\b\b\b\b\b\b\b\b\b\b\b\b\b\b\b\b\b\b\b\b\b\b\b\b\b\b\r173/291 [================>.............] - ETA: 41s - loss: 2.4801 - accuracy: 0.2892",
                    "output_type": "stream"
                },
                {
                    "name": "stdout",
                    "text": "\b\b\b\b\b\b\b\b\b\b\b\b\b\b\b\b\b\b\b\b\b\b\b\b\b\b\b\b\b\b\b\b\b\b\b\b\b\b\b\b\b\b\b\b\b\b\b\b\b\b\b\b\b\b\b\b\b\b\b\b\b\b\b\b\b\b\b\b\b\b\b\b\b\b\b\b\b\b\b\b\b\b\b\b\b\r174/291 [================>.............] - ETA: 41s - loss: 2.4803 - accuracy: 0.2892",
                    "output_type": "stream"
                },
                {
                    "name": "stdout",
                    "text": "\b\b\b\b\b\b\b\b\b\b\b\b\b\b\b\b\b\b\b\b\b\b\b\b\b\b\b\b\b\b\b\b\b\b\b\b\b\b\b\b\b\b\b\b\b\b\b\b\b\b\b\b\b\b\b\b\b\b\b\b\b\b\b\b\b\b\b\b\b\b\b\b\b\b\b\b\b\b\b\b\b\b\b\b\b\r175/291 [=================>............] - ETA: 40s - loss: 2.4801 - accuracy: 0.2888",
                    "output_type": "stream"
                },
                {
                    "name": "stdout",
                    "text": "\b\b\b\b\b\b\b\b\b\b\b\b\b\b\b\b\b\b\b\b\b\b\b\b\b\b\b\b\b\b\b\b\b\b\b\b\b\b\b\b\b\b\b\b\b\b\b\b\b\b\b\b\b\b\b\b\b\b\b\b\b\b\b\b\b\b\b\b\b\b\b\b\b\b\b\b\b\b\b\b\b\b\b\b\b\r176/291 [=================>............] - ETA: 40s - loss: 2.4798 - accuracy: 0.2885",
                    "output_type": "stream"
                },
                {
                    "name": "stdout",
                    "text": "\b\b\b\b\b\b\b\b\b\b\b\b\b\b\b\b\b\b\b\b\b\b\b\b\b\b\b\b\b\b\b\b\b\b\b\b\b\b\b\b\b\b\b\b\b\b\b\b\b\b\b\b\b\b\b\b\b\b\b\b\b\b\b\b\b\b\b\b\b\b\b\b\b\b\b\b\b\b\b\b\b\b\b\b\b\r177/291 [=================>............] - ETA: 39s - loss: 2.4804 - accuracy: 0.2884",
                    "output_type": "stream"
                },
                {
                    "name": "stdout",
                    "text": "\b\b\b\b\b\b\b\b\b\b\b\b\b\b\b\b\b\b\b\b\b\b\b\b\b\b\b\b\b\b\b\b\b\b\b\b\b\b\b\b\b\b\b\b\b\b\b\b\b\b\b\b\b\b\b\b\b\b\b\b\b\b\b\b\b\b\b\b\b\b\b\b\b\b\b\b\b\b\b\b\b\b\b\b\b\r178/291 [=================>............] - ETA: 39s - loss: 2.4787 - accuracy: 0.2895",
                    "output_type": "stream"
                },
                {
                    "name": "stdout",
                    "text": "\b\b\b\b\b\b\b\b\b\b\b\b\b\b\b\b\b\b\b\b\b\b\b\b\b\b\b\b\b\b\b\b\b\b\b\b\b\b\b\b\b\b\b\b\b\b\b\b\b\b\b\b\b\b\b\b\b\b\b\b\b\b\b\b\b\b\b\b\b\b\b\b\b\b\b\b\b\b\b\b\b\b\b\b\b\r179/291 [=================>............] - ETA: 39s - loss: 2.4775 - accuracy: 0.2898",
                    "output_type": "stream"
                },
                {
                    "name": "stdout",
                    "text": "\b\b\b\b\b\b\b\b\b\b\b\b\b\b\b\b\b\b\b\b\b\b\b\b\b\b\b\b\b\b\b\b\b\b\b\b\b\b\b\b\b\b\b\b\b\b\b\b\b\b\b\b\b\b\b\b\b\b\b\b\b\b\b\b\b\b\b\b\b\b\b\b\b\b\b\b\b\b\b\b\b\b\b\b\b\r180/291 [=================>............] - ETA: 38s - loss: 2.4789 - accuracy: 0.2895",
                    "output_type": "stream"
                },
                {
                    "name": "stdout",
                    "text": "\b\b\b\b\b\b\b\b\b\b\b\b\b\b\b\b\b\b\b\b\b\b\b\b\b\b\b\b\b\b\b\b\b\b\b\b\b\b\b\b\b\b\b\b\b\b\b\b\b\b\b\b\b\b\b\b\b\b\b\b\b\b\b\b\b\b\b\b\b\b\b\b\b\b\b\b\b\b\b\b\b\b\b\b\b\r181/291 [=================>............] - ETA: 38s - loss: 2.4793 - accuracy: 0.2894",
                    "output_type": "stream"
                },
                {
                    "name": "stdout",
                    "text": "\b\b\b\b\b\b\b\b\b\b\b\b\b\b\b\b\b\b\b\b\b\b\b\b\b\b\b\b\b\b\b\b\b\b\b\b\b\b\b\b\b\b\b\b\b\b\b\b\b\b\b\b\b\b\b\b\b\b\b\b\b\b\b\b\b\b\b\b\b\b\b\b\b\b\b\b\b\b\b\b\b\b\b\b\b\r182/291 [=================>............] - ETA: 38s - loss: 2.4784 - accuracy: 0.2894",
                    "output_type": "stream"
                },
                {
                    "name": "stdout",
                    "text": "\b\b\b\b\b\b\b\b\b\b\b\b\b\b\b\b\b\b\b\b\b\b\b\b\b\b\b\b\b\b\b\b\b\b\b\b\b\b\b\b\b\b\b\b\b\b\b\b\b\b\b\b\b\b\b\b\b\b\b\b\b\b\b\b\b\b\b\b\b\b\b\b\b\b\b\b\b\b\b\b\b\b\b\b\b\r183/291 [=================>............] - ETA: 37s - loss: 2.4775 - accuracy: 0.2898",
                    "output_type": "stream"
                },
                {
                    "name": "stdout",
                    "text": "\b\b\b\b\b\b\b\b\b\b\b\b\b\b\b\b\b\b\b\b\b\b\b\b\b\b\b\b\b\b\b\b\b\b\b\b\b\b\b\b\b\b\b\b\b\b\b\b\b\b\b\b\b\b\b\b\b\b\b\b\b\b\b\b\b\b\b\b\b\b\b\b\b\b\b\b\b\b\b\b\b\b\b\b\b\r184/291 [=================>............] - ETA: 37s - loss: 2.4766 - accuracy: 0.2901",
                    "output_type": "stream"
                },
                {
                    "name": "stdout",
                    "text": "\b\b\b\b\b\b\b\b\b\b\b\b\b\b\b\b\b\b\b\b\b\b\b\b\b\b\b\b\b\b\b\b\b\b\b\b\b\b\b\b\b\b\b\b\b\b\b\b\b\b\b\b\b\b\b\b\b\b\b\b\b\b\b\b\b\b\b\b\b\b\b\b\b\b\b\b\b\b\b\b\b\b\b\b\b\r185/291 [==================>...........] - ETA: 36s - loss: 2.4753 - accuracy: 0.2903",
                    "output_type": "stream"
                },
                {
                    "name": "stdout",
                    "text": "\b\b\b\b\b\b\b\b\b\b\b\b\b\b\b\b\b\b\b\b\b\b\b\b\b\b\b\b\b\b\b\b\b\b\b\b\b\b\b\b\b\b\b\b\b\b\b\b\b\b\b\b\b\b\b\b\b\b\b\b\b\b\b\b\b\b\b\b\b\b\b\b\b\b\b\b\b\b\b\b\b\b\b\b\b\r186/291 [==================>...........] - ETA: 36s - loss: 2.4758 - accuracy: 0.2901",
                    "output_type": "stream"
                },
                {
                    "name": "stdout",
                    "text": "\b\b\b\b\b\b\b\b\b\b\b\b\b\b\b\b\b\b\b\b\b\b\b\b\b\b\b\b\b\b\b\b\b\b\b\b\b\b\b\b\b\b\b\b\b\b\b\b\b\b\b\b\b\b\b\b\b\b\b\b\b\b\b\b\b\b\b\b\b\b\b\b\b\b\b\b\b\b\b\b\b\b\b\b\b\r187/291 [==================>...........] - ETA: 36s - loss: 2.4761 - accuracy: 0.2899",
                    "output_type": "stream"
                },
                {
                    "name": "stdout",
                    "text": "\b\b\b\b\b\b\b\b\b\b\b\b\b\b\b\b\b\b\b\b\b\b\b\b\b\b\b\b\b\b\b\b\b\b\b\b\b\b\b\b\b\b\b\b\b\b\b\b\b\b\b\b\b\b\b\b\b\b\b\b\b\b\b\b\b\b\b\b\b\b\b\b\b\b\b\b\b\b\b\b\b\b\b\b\b\r188/291 [==================>...........] - ETA: 35s - loss: 2.4751 - accuracy: 0.2897",
                    "output_type": "stream"
                },
                {
                    "name": "stdout",
                    "text": "\b\b\b\b\b\b\b\b\b\b\b\b\b\b\b\b\b\b\b\b\b\b\b\b\b\b\b\b\b\b\b\b\b\b\b\b\b\b\b\b\b\b\b\b\b\b\b\b\b\b\b\b\b\b\b\b\b\b\b\b\b\b\b\b\b\b\b\b\b\b\b\b\b\b\b\b\b\b\b\b\b\b\b\b\b\r189/291 [==================>...........] - ETA: 35s - loss: 2.4738 - accuracy: 0.2903",
                    "output_type": "stream"
                },
                {
                    "name": "stdout",
                    "text": "\b\b\b\b\b\b\b\b\b\b\b\b\b\b\b\b\b\b\b\b\b\b\b\b\b\b\b\b\b\b\b\b\b\b\b\b\b\b\b\b\b\b\b\b\b\b\b\b\b\b\b\b\b\b\b\b\b\b\b\b\b\b\b\b\b\b\b\b\b\b\b\b\b\b\b\b\b\b\b\b\b\b\b\b\b\r190/291 [==================>...........] - ETA: 35s - loss: 2.4724 - accuracy: 0.2910",
                    "output_type": "stream"
                },
                {
                    "name": "stdout",
                    "text": "\b\b\b\b\b\b\b\b\b\b\b\b\b\b\b\b\b\b\b\b\b\b\b\b\b\b\b\b\b\b\b\b\b\b\b\b\b\b\b\b\b\b\b\b\b\b\b\b\b\b\b\b\b\b\b\b\b\b\b\b\b\b\b\b\b\b\b\b\b\b\b\b\b\b\b\b\b\b\b\b\b\b\b\b\b\r191/291 [==================>...........] - ETA: 34s - loss: 2.4730 - accuracy: 0.2908",
                    "output_type": "stream"
                },
                {
                    "name": "stdout",
                    "text": "\b\b\b\b\b\b\b\b\b\b\b\b\b\b\b\b\b\b\b\b\b\b\b\b\b\b\b\b\b\b\b\b\b\b\b\b\b\b\b\b\b\b\b\b\b\b\b\b\b\b\b\b\b\b\b\b\b\b\b\b\b\b\b\b\b\b\b\b\b\b\b\b\b\b\b\b\b\b\b\b\b\b\b\b\b\r192/291 [==================>...........] - ETA: 34s - loss: 2.4711 - accuracy: 0.2914",
                    "output_type": "stream"
                },
                {
                    "name": "stdout",
                    "text": "\b\b\b\b\b\b\b\b\b\b\b\b\b\b\b\b\b\b\b\b\b\b\b\b\b\b\b\b\b\b\b\b\b\b\b\b\b\b\b\b\b\b\b\b\b\b\b\b\b\b\b\b\b\b\b\b\b\b\b\b\b\b\b\b\b\b\b\b\b\b\b\b\b\b\b\b\b\b\b\b\b\b\b\b\b\r193/291 [==================>...........] - ETA: 34s - loss: 2.4691 - accuracy: 0.2917",
                    "output_type": "stream"
                },
                {
                    "name": "stdout",
                    "text": "\b\b\b\b\b\b\b\b\b\b\b\b\b\b\b\b\b\b\b\b\b\b\b\b\b\b\b\b\b\b\b\b\b\b\b\b\b\b\b\b\b\b\b\b\b\b\b\b\b\b\b\b\b\b\b\b\b\b\b\b\b\b\b\b\b\b\b\b\b\b\b\b\b\b\b\b\b\b\b\b\b\b\b\b\b\r194/291 [===================>..........] - ETA: 33s - loss: 2.4692 - accuracy: 0.2917",
                    "output_type": "stream"
                },
                {
                    "name": "stdout",
                    "text": "\b\b\b\b\b\b\b\b\b\b\b\b\b\b\b\b\b\b\b\b\b\b\b\b\b\b\b\b\b\b\b\b\b\b\b\b\b\b\b\b\b\b\b\b\b\b\b\b\b\b\b\b\b\b\b\b\b\b\b\b\b\b\b\b\b\b\b\b\b\b\b\b\b\b\b\b\b\b\b\b\b\b\b\b\b\r195/291 [===================>..........] - ETA: 33s - loss: 2.4672 - accuracy: 0.2918",
                    "output_type": "stream"
                },
                {
                    "name": "stdout",
                    "text": "\b\b\b\b\b\b\b\b\b\b\b\b\b\b\b\b\b\b\b\b\b\b\b\b\b\b\b\b\b\b\b\b\b\b\b\b\b\b\b\b\b\b\b\b\b\b\b\b\b\b\b\b\b\b\b\b\b\b\b\b\b\b\b\b\b\b\b\b\b\b\b\b\b\b\b\b\b\b\b\b\b\b\b\b\b\r196/291 [===================>..........] - ETA: 32s - loss: 2.4676 - accuracy: 0.2915",
                    "output_type": "stream"
                },
                {
                    "name": "stdout",
                    "text": "\b\b\b\b\b\b\b\b\b\b\b\b\b\b\b\b\b\b\b\b\b\b\b\b\b\b\b\b\b\b\b\b\b\b\b\b\b\b\b\b\b\b\b\b\b\b\b\b\b\b\b\b\b\b\b\b\b\b\b\b\b\b\b\b\b\b\b\b\b\b\b\b\b\b\b\b\b\b\b\b\b\b\b\b\b\r197/291 [===================>..........] - ETA: 32s - loss: 2.4671 - accuracy: 0.2914",
                    "output_type": "stream"
                },
                {
                    "name": "stdout",
                    "text": "\b\b\b\b\b\b\b\b\b\b\b\b\b\b\b\b\b\b\b\b\b\b\b\b\b\b\b\b\b\b\b\b\b\b\b\b\b\b\b\b\b\b\b\b\b\b\b\b\b\b\b\b\b\b\b\b\b\b\b\b\b\b\b\b\b\b\b\b\b\b\b\b\b\b\b\b\b\b\b\b\b\b\b\b\b\r198/291 [===================>..........] - ETA: 32s - loss: 2.4663 - accuracy: 0.2917",
                    "output_type": "stream"
                },
                {
                    "name": "stdout",
                    "text": "\b\b\b\b\b\b\b\b\b\b\b\b\b\b\b\b\b\b\b\b\b\b\b\b\b\b\b\b\b\b\b\b\b\b\b\b\b\b\b\b\b\b\b\b\b\b\b\b\b\b\b\b\b\b\b\b\b\b\b\b\b\b\b\b\b\b\b\b\b\b\b\b\b\b\b\b\b\b\b\b\b\b\b\b\b\r199/291 [===================>..........] - ETA: 31s - loss: 2.4670 - accuracy: 0.2915",
                    "output_type": "stream"
                },
                {
                    "name": "stdout",
                    "text": "\b\b\b\b\b\b\b\b\b\b\b\b\b\b\b\b\b\b\b\b\b\b\b\b\b\b\b\b\b\b\b\b\b\b\b\b\b\b\b\b\b\b\b\b\b\b\b\b\b\b\b\b\b\b\b\b\b\b\b\b\b\b\b\b\b\b\b\b\b\b\b\b\b\b\b\b\b\b\b\b\b\b\b\b\b\r200/291 [===================>..........] - ETA: 31s - loss: 2.4670 - accuracy: 0.2916",
                    "output_type": "stream"
                },
                {
                    "name": "stdout",
                    "text": "\b\b\b\b\b\b\b\b\b\b\b\b\b\b\b\b\b\b\b\b\b\b\b\b\b\b\b\b\b\b\b\b\b\b\b\b\b\b\b\b\b\b\b\b\b\b\b\b\b\b\b\b\b\b\b\b\b\b\b\b\b\b\b\b\b\b\b\b\b\b\b\b\b\b\b\b\b\b\b\b\b\b\b\b\b\r201/291 [===================>..........] - ETA: 31s - loss: 2.4665 - accuracy: 0.2915",
                    "output_type": "stream"
                },
                {
                    "name": "stdout",
                    "text": "\b\b\b\b\b\b\b\b\b\b\b\b\b\b\b\b\b\b\b\b\b\b\b\b\b\b\b\b\b\b\b\b\b\b\b\b\b\b\b\b\b\b\b\b\b\b\b\b\b\b\b\b\b\b\b\b\b\b\b\b\b\b\b\b\b\b\b\b\b\b\b\b\b\b\b\b\b\b\b\b\b\b\b\b\b\r202/291 [===================>..........] - ETA: 30s - loss: 2.4651 - accuracy: 0.2922",
                    "output_type": "stream"
                },
                {
                    "name": "stdout",
                    "text": "\b\b\b\b\b\b\b\b\b\b\b\b\b\b\b\b\b\b\b\b\b\b\b\b\b\b\b\b\b\b\b\b\b\b\b\b\b\b\b\b\b\b\b\b\b\b\b\b\b\b\b\b\b\b\b\b\b\b\b\b\b\b\b\b\b\b\b\b\b\b\b\b\b\b\b\b\b\b\b\b\b\b\b\b\b\r203/291 [===================>..........] - ETA: 30s - loss: 2.4634 - accuracy: 0.2928",
                    "output_type": "stream"
                },
                {
                    "name": "stdout",
                    "text": "\b\b\b\b\b\b\b\b\b\b\b\b\b\b\b\b\b\b\b\b\b\b\b\b\b\b\b\b\b\b\b\b\b\b\b\b\b\b\b\b\b\b\b\b\b\b\b\b\b\b\b\b\b\b\b\b\b\b\b\b\b\b\b\b\b\b\b\b\b\b\b\b\b\b\b\b\b\b\b\b\b\b\b\b\b\r204/291 [====================>.........] - ETA: 30s - loss: 2.4610 - accuracy: 0.2937",
                    "output_type": "stream"
                },
                {
                    "name": "stdout",
                    "text": "\b\b\b\b\b\b\b\b\b\b\b\b\b\b\b\b\b\b\b\b\b\b\b\b\b\b\b\b\b\b\b\b\b\b\b\b\b\b\b\b\b\b\b\b\b\b\b\b\b\b\b\b\b\b\b\b\b\b\b\b\b\b\b\b\b\b\b\b\b\b\b\b\b\b\b\b\b\b\b\b\b\b\b\b\b\r205/291 [====================>.........] - ETA: 29s - loss: 2.4597 - accuracy: 0.2943",
                    "output_type": "stream"
                },
                {
                    "name": "stdout",
                    "text": "\b\b\b\b\b\b\b\b\b\b\b\b\b\b\b\b\b\b\b\b\b\b\b\b\b\b\b\b\b\b\b\b\b\b\b\b\b\b\b\b\b\b\b\b\b\b\b\b\b\b\b\b\b\b\b\b\b\b\b\b\b\b\b\b\b\b\b\b\b\b\b\b\b\b\b\b\b\b\b\b\b\b\b\b\b\r206/291 [====================>.........] - ETA: 29s - loss: 2.4583 - accuracy: 0.2947",
                    "output_type": "stream"
                },
                {
                    "name": "stdout",
                    "text": "\b\b\b\b\b\b\b\b\b\b\b\b\b\b\b\b\b\b\b\b\b\b\b\b\b\b\b\b\b\b\b\b\b\b\b\b\b\b\b\b\b\b\b\b\b\b\b\b\b\b\b\b\b\b\b\b\b\b\b\b\b\b\b\b\b\b\b\b\b\b\b\b\b\b\b\b\b\b\b\b\b\b\b\b\b\r207/291 [====================>.........] - ETA: 28s - loss: 2.4583 - accuracy: 0.2947",
                    "output_type": "stream"
                },
                {
                    "name": "stdout",
                    "text": "\b\b\b\b\b\b\b\b\b\b\b\b\b\b\b\b\b\b\b\b\b\b\b\b\b\b\b\b\b\b\b\b\b\b\b\b\b\b\b\b\b\b\b\b\b\b\b\b\b\b\b\b\b\b\b\b\b\b\b\b\b\b\b\b\b\b\b\b\b\b\b\b\b\b\b\b\b\b\b\b\b\b\b\b\b\r208/291 [====================>.........] - ETA: 28s - loss: 2.4601 - accuracy: 0.2948",
                    "output_type": "stream"
                },
                {
                    "name": "stdout",
                    "text": "\b\b\b\b\b\b\b\b\b\b\b\b\b\b\b\b\b\b\b\b\b\b\b\b\b\b\b\b\b\b\b\b\b\b\b\b\b\b\b\b\b\b\b\b\b\b\b\b\b\b\b\b\b\b\b\b\b\b\b\b\b\b\b\b\b\b\b\b\b\b\b\b\b\b\b\b\b\b\b\b\b\b\b\b\b\r209/291 [====================>.........] - ETA: 28s - loss: 2.4590 - accuracy: 0.2955",
                    "output_type": "stream"
                },
                {
                    "name": "stdout",
                    "text": "\b\b\b\b\b\b\b\b\b\b\b\b\b\b\b\b\b\b\b\b\b\b\b\b\b\b\b\b\b\b\b\b\b\b\b\b\b\b\b\b\b\b\b\b\b\b\b\b\b\b\b\b\b\b\b\b\b\b\b\b\b\b\b\b\b\b\b\b\b\b\b\b\b\b\b\b\b\b\b\b\b\b\b\b\b\r210/291 [====================>.........] - ETA: 27s - loss: 2.4602 - accuracy: 0.2952",
                    "output_type": "stream"
                },
                {
                    "name": "stdout",
                    "text": "\b\b\b\b\b\b\b\b\b\b\b\b\b\b\b\b\b\b\b\b\b\b\b\b\b\b\b\b\b\b\b\b\b\b\b\b\b\b\b\b\b\b\b\b\b\b\b\b\b\b\b\b\b\b\b\b\b\b\b\b\b\b\b\b\b\b\b\b\b\b\b\b\b\b\b\b\b\b\b\b\b\b\b\b\b\r211/291 [====================>.........] - ETA: 27s - loss: 2.4593 - accuracy: 0.2955",
                    "output_type": "stream"
                },
                {
                    "name": "stdout",
                    "text": "\b\b\b\b\b\b\b\b\b\b\b\b\b\b\b\b\b\b\b\b\b\b\b\b\b\b\b\b\b\b\b\b\b\b\b\b\b\b\b\b\b\b\b\b\b\b\b\b\b\b\b\b\b\b\b\b\b\b\b\b\b\b\b\b\b\b\b\b\b\b\b\b\b\b\b\b\b\b\b\b\b\b\b\b\b\r212/291 [====================>.........] - ETA: 27s - loss: 2.4579 - accuracy: 0.2955",
                    "output_type": "stream"
                },
                {
                    "name": "stdout",
                    "text": "\b\b\b\b\b\b\b\b\b\b\b\b\b\b\b\b\b\b\b\b\b\b\b\b\b\b\b\b\b\b\b\b\b\b\b\b\b\b\b\b\b\b\b\b\b\b\b\b\b\b\b\b\b\b\b\b\b\b\b\b\b\b\b\b\b\b\b\b\b\b\b\b\b\b\b\b\b\b\b\b\b\b\b\b\b\r213/291 [====================>.........] - ETA: 26s - loss: 2.4563 - accuracy: 0.2958",
                    "output_type": "stream"
                },
                {
                    "name": "stdout",
                    "text": "\b\b\b\b\b\b\b\b\b\b\b\b\b\b\b\b\b\b\b\b\b\b\b\b\b\b\b\b\b\b\b\b\b\b\b\b\b\b\b\b\b\b\b\b\b\b\b\b\b\b\b\b\b\b\b\b\b\b\b\b\b\b\b\b\b\b\b\b\b\b\b\b\b\b\b\b\b\b\b\b\b\b\b\b\b\r214/291 [=====================>........] - ETA: 26s - loss: 2.4557 - accuracy: 0.2959",
                    "output_type": "stream"
                },
                {
                    "name": "stdout",
                    "text": "\b\b\b\b\b\b\b\b\b\b\b\b\b\b\b\b\b\b\b\b\b\b\b\b\b\b\b\b\b\b\b\b\b\b\b\b\b\b\b\b\b\b\b\b\b\b\b\b\b\b\b\b\b\b\b\b\b\b\b\b\b\b\b\b\b\b\b\b\b\b\b\b\b\b\b\b\b\b\b\b\b\b\b\b\b\r215/291 [=====================>........] - ETA: 26s - loss: 2.4552 - accuracy: 0.2960",
                    "output_type": "stream"
                },
                {
                    "name": "stdout",
                    "text": "\b\b\b\b\b\b\b\b\b\b\b\b\b\b\b\b\b\b\b\b\b\b\b\b\b\b\b\b\b\b\b\b\b\b\b\b\b\b\b\b\b\b\b\b\b\b\b\b\b\b\b\b\b\b\b\b\b\b\b\b\b\b\b\b\b\b\b\b\b\b\b\b\b\b\b\b\b\b\b\b\b\b\b\b\b\r216/291 [=====================>........] - ETA: 25s - loss: 2.4541 - accuracy: 0.2960",
                    "output_type": "stream"
                },
                {
                    "name": "stdout",
                    "text": "\b\b\b\b\b\b\b\b\b\b\b\b\b\b\b\b\b\b\b\b\b\b\b\b\b\b\b\b\b\b\b\b\b\b\b\b\b\b\b\b\b\b\b\b\b\b\b\b\b\b\b\b\b\b\b\b\b\b\b\b\b\b\b\b\b\b\b\b\b\b\b\b\b\b\b\b\b\b\b\b\b\b\b\b\b\r217/291 [=====================>........] - ETA: 25s - loss: 2.4531 - accuracy: 0.2962",
                    "output_type": "stream"
                },
                {
                    "name": "stdout",
                    "text": "\b\b\b\b\b\b\b\b\b\b\b\b\b\b\b\b\b\b\b\b\b\b\b\b\b\b\b\b\b\b\b\b\b\b\b\b\b\b\b\b\b\b\b\b\b\b\b\b\b\b\b\b\b\b\b\b\b\b\b\b\b\b\b\b\b\b\b\b\b\b\b\b\b\b\b\b\b\b\b\b\b\b\b\b\b\r218/291 [=====================>........] - ETA: 25s - loss: 2.4518 - accuracy: 0.2964",
                    "output_type": "stream"
                },
                {
                    "name": "stdout",
                    "text": "\b\b\b\b\b\b\b\b\b\b\b\b\b\b\b\b\b\b\b\b\b\b\b\b\b\b\b\b\b\b\b\b\b\b\b\b\b\b\b\b\b\b\b\b\b\b\b\b\b\b\b\b\b\b\b\b\b\b\b\b\b\b\b\b\b\b\b\b\b\b\b\b\b\b\b\b\b\b\b\b\b\b\b\b\b\r219/291 [=====================>........] - ETA: 24s - loss: 2.4515 - accuracy: 0.2964",
                    "output_type": "stream"
                },
                {
                    "name": "stdout",
                    "text": "\b\b\b\b\b\b\b\b\b\b\b\b\b\b\b\b\b\b\b\b\b\b\b\b\b\b\b\b\b\b\b\b\b\b\b\b\b\b\b\b\b\b\b\b\b\b\b\b\b\b\b\b\b\b\b\b\b\b\b\b\b\b\b\b\b\b\b\b\b\b\b\b\b\b\b\b\b\b\b\b\b\b\b\b\b\r220/291 [=====================>........] - ETA: 24s - loss: 2.4509 - accuracy: 0.2966",
                    "output_type": "stream"
                },
                {
                    "name": "stdout",
                    "text": "\b\b\b\b\b\b\b\b\b\b\b\b\b\b\b\b\b\b\b\b\b\b\b\b\b\b\b\b\b\b\b\b\b\b\b\b\b\b\b\b\b\b\b\b\b\b\b\b\b\b\b\b\b\b\b\b\b\b\b\b\b\b\b\b\b\b\b\b\b\b\b\b\b\b\b\b\b\b\b\b\b\b\b\b\b\r221/291 [=====================>........] - ETA: 24s - loss: 2.4508 - accuracy: 0.2967",
                    "output_type": "stream"
                },
                {
                    "name": "stdout",
                    "text": "\b\b\b\b\b\b\b\b\b\b\b\b\b\b\b\b\b\b\b\b\b\b\b\b\b\b\b\b\b\b\b\b\b\b\b\b\b\b\b\b\b\b\b\b\b\b\b\b\b\b\b\b\b\b\b\b\b\b\b\b\b\b\b\b\b\b\b\b\b\b\b\b\b\b\b\b\b\b\b\b\b\b\b\b\b\r222/291 [=====================>........] - ETA: 23s - loss: 2.4517 - accuracy: 0.2964",
                    "output_type": "stream"
                },
                {
                    "name": "stdout",
                    "text": "\b\b\b\b\b\b\b\b\b\b\b\b\b\b\b\b\b\b\b\b\b\b\b\b\b\b\b\b\b\b\b\b\b\b\b\b\b\b\b\b\b\b\b\b\b\b\b\b\b\b\b\b\b\b\b\b\b\b\b\b\b\b\b\b\b\b\b\b\b\b\b\b\b\b\b\b\b\b\b\b\b\b\b\b\b\r223/291 [=====================>........] - ETA: 23s - loss: 2.4513 - accuracy: 0.2965",
                    "output_type": "stream"
                },
                {
                    "name": "stdout",
                    "text": "\b\b\b\b\b\b\b\b\b\b\b\b\b\b\b\b\b\b\b\b\b\b\b\b\b\b\b\b\b\b\b\b\b\b\b\b\b\b\b\b\b\b\b\b\b\b\b\b\b\b\b\b\b\b\b\b\b\b\b\b\b\b\b\b\b\b\b\b\b\b\b\b\b\b\b\b\b\b\b\b\b\b\b\b\b\r224/291 [======================>.......] - ETA: 23s - loss: 2.4495 - accuracy: 0.2971",
                    "output_type": "stream"
                },
                {
                    "name": "stdout",
                    "text": "\b\b\b\b\b\b\b\b\b\b\b\b\b\b\b\b\b\b\b\b\b\b\b\b\b\b\b\b\b\b\b\b\b\b\b\b\b\b\b\b\b\b\b\b\b\b\b\b\b\b\b\b\b\b\b\b\b\b\b\b\b\b\b\b\b\b\b\b\b\b\b\b\b\b\b\b\b\b\b\b\b\b\b\b\b\r225/291 [======================>.......] - ETA: 22s - loss: 2.4496 - accuracy: 0.2974",
                    "output_type": "stream"
                },
                {
                    "name": "stdout",
                    "text": "\b\b\b\b\b\b\b\b\b\b\b\b\b\b\b\b\b\b\b\b\b\b\b\b\b\b\b\b\b\b\b\b\b\b\b\b\b\b\b\b\b\b\b\b\b\b\b\b\b\b\b\b\b\b\b\b\b\b\b\b\b\b\b\b\b\b\b\b\b\b\b\b\b\b\b\b\b\b\b\b\b\b\b\b\b\r226/291 [======================>.......] - ETA: 22s - loss: 2.4502 - accuracy: 0.2976",
                    "output_type": "stream"
                },
                {
                    "name": "stdout",
                    "text": "\b\b\b\b\b\b\b\b\b\b\b\b\b\b\b\b\b\b\b\b\b\b\b\b\b\b\b\b\b\b\b\b\b\b\b\b\b\b\b\b\b\b\b\b\b\b\b\b\b\b\b\b\b\b\b\b\b\b\b\b\b\b\b\b\b\b\b\b\b\b\b\b\b\b\b\b\b\b\b\b\b\b\b\b\b\r227/291 [======================>.......] - ETA: 21s - loss: 2.4503 - accuracy: 0.2976",
                    "output_type": "stream"
                },
                {
                    "name": "stdout",
                    "text": "\b\b\b\b\b\b\b\b\b\b\b\b\b\b\b\b\b\b\b\b\b\b\b\b\b\b\b\b\b\b\b\b\b\b\b\b\b\b\b\b\b\b\b\b\b\b\b\b\b\b\b\b\b\b\b\b\b\b\b\b\b\b\b\b\b\b\b\b\b\b\b\b\b\b\b\b\b\b\b\b\b\b\b\b\b\r228/291 [======================>.......] - ETA: 21s - loss: 2.4506 - accuracy: 0.2978",
                    "output_type": "stream"
                },
                {
                    "name": "stdout",
                    "text": "\b\b\b\b\b\b\b\b\b\b\b\b\b\b\b\b\b\b\b\b\b\b\b\b\b\b\b\b\b\b\b\b\b\b\b\b\b\b\b\b\b\b\b\b\b\b\b\b\b\b\b\b\b\b\b\b\b\b\b\b\b\b\b\b\b\b\b\b\b\b\b\b\b\b\b\b\b\b\b\b\b\b\b\b\b\r229/291 [======================>.......] - ETA: 21s - loss: 2.4499 - accuracy: 0.2980",
                    "output_type": "stream"
                },
                {
                    "name": "stdout",
                    "text": "\b\b\b\b\b\b\b\b\b\b\b\b\b\b\b\b\b\b\b\b\b\b\b\b\b\b\b\b\b\b\b\b\b\b\b\b\b\b\b\b\b\b\b\b\b\b\b\b\b\b\b\b\b\b\b\b\b\b\b\b\b\b\b\b\b\b\b\b\b\b\b\b\b\b\b\b\b\b\b\b\b\b\b\b\b\r230/291 [======================>.......] - ETA: 20s - loss: 2.4493 - accuracy: 0.2984",
                    "output_type": "stream"
                },
                {
                    "name": "stdout",
                    "text": "\b\b\b\b\b\b\b\b\b\b\b\b\b\b\b\b\b\b\b\b\b\b\b\b\b\b\b\b\b\b\b\b\b\b\b\b\b\b\b\b\b\b\b\b\b\b\b\b\b\b\b\b\b\b\b\b\b\b\b\b\b\b\b\b\b\b\b\b\b\b\b\b\b\b\b\b\b\b\b\b\b\b\b\b\b\r231/291 [======================>.......] - ETA: 20s - loss: 2.4482 - accuracy: 0.2989",
                    "output_type": "stream"
                },
                {
                    "name": "stdout",
                    "text": "\b\b\b\b\b\b\b\b\b\b\b\b\b\b\b\b\b\b\b\b\b\b\b\b\b\b\b\b\b\b\b\b\b\b\b\b\b\b\b\b\b\b\b\b\b\b\b\b\b\b\b\b\b\b\b\b\b\b\b\b\b\b\b\b\b\b\b\b\b\b\b\b\b\b\b\b\b\b\b\b\b\b\b\b\b\r232/291 [======================>.......] - ETA: 20s - loss: 2.4470 - accuracy: 0.2990",
                    "output_type": "stream"
                },
                {
                    "name": "stdout",
                    "text": "\b\b\b\b\b\b\b\b\b\b\b\b\b\b\b\b\b\b\b\b\b\b\b\b\b\b\b\b\b\b\b\b\b\b\b\b\b\b\b\b\b\b\b\b\b\b\b\b\b\b\b\b\b\b\b\b\b\b\b\b\b\b\b\b\b\b\b\b\b\b\b\b\b\b\b\b\b\b\b\b\b\b\b\b\b\r233/291 [=======================>......] - ETA: 19s - loss: 2.4465 - accuracy: 0.2993",
                    "output_type": "stream"
                },
                {
                    "name": "stdout",
                    "text": "\b\b\b\b\b\b\b\b\b\b\b\b\b\b\b\b\b\b\b\b\b\b\b\b\b\b\b\b\b\b\b\b\b\b\b\b\b\b\b\b\b\b\b\b\b\b\b\b\b\b\b\b\b\b\b\b\b\b\b\b\b\b\b\b\b\b\b\b\b\b\b\b\b\b\b\b\b\b\b\b\b\b\b\b\b\r234/291 [=======================>......] - ETA: 19s - loss: 2.4455 - accuracy: 0.2996",
                    "output_type": "stream"
                },
                {
                    "name": "stdout",
                    "text": "\b\b\b\b\b\b\b\b\b\b\b\b\b\b\b\b\b\b\b\b\b\b\b\b\b\b\b\b\b\b\b\b\b\b\b\b\b\b\b\b\b\b\b\b\b\b\b\b\b\b\b\b\b\b\b\b\b\b\b\b\b\b\b\b\b\b\b\b\b\b\b\b\b\b\b\b\b\b\b\b\b\b\b\b\b\r235/291 [=======================>......] - ETA: 19s - loss: 2.4462 - accuracy: 0.2998",
                    "output_type": "stream"
                },
                {
                    "name": "stdout",
                    "text": "\b\b\b\b\b\b\b\b\b\b\b\b\b\b\b\b\b\b\b\b\b\b\b\b\b\b\b\b\b\b\b\b\b\b\b\b\b\b\b\b\b\b\b\b\b\b\b\b\b\b\b\b\b\b\b\b\b\b\b\b\b\b\b\b\b\b\b\b\b\b\b\b\b\b\b\b\b\b\b\b\b\b\b\b\b\r236/291 [=======================>......] - ETA: 18s - loss: 2.4465 - accuracy: 0.2997",
                    "output_type": "stream"
                },
                {
                    "name": "stdout",
                    "text": "\b\b\b\b\b\b\b\b\b\b\b\b\b\b\b\b\b\b\b\b\b\b\b\b\b\b\b\b\b\b\b\b\b\b\b\b\b\b\b\b\b\b\b\b\b\b\b\b\b\b\b\b\b\b\b\b\b\b\b\b\b\b\b\b\b\b\b\b\b\b\b\b\b\b\b\b\b\b\b\b\b\b\b\b\b\r237/291 [=======================>......] - ETA: 18s - loss: 2.4453 - accuracy: 0.3000",
                    "output_type": "stream"
                },
                {
                    "name": "stdout",
                    "text": "\b\b\b\b\b\b\b\b\b\b\b\b\b\b\b\b\b\b\b\b\b\b\b\b\b\b\b\b\b\b\b\b\b\b\b\b\b\b\b\b\b\b\b\b\b\b\b\b\b\b\b\b\b\b\b\b\b\b\b\b\b\b\b\b\b\b\b\b\b\b\b\b\b\b\b\b\b\b\b\b\b\b\b\b\b\r238/291 [=======================>......] - ETA: 18s - loss: 2.4452 - accuracy: 0.3000",
                    "output_type": "stream"
                },
                {
                    "name": "stdout",
                    "text": "\b\b\b\b\b\b\b\b\b\b\b\b\b\b\b\b\b\b\b\b\b\b\b\b\b\b\b\b\b\b\b\b\b\b\b\b\b\b\b\b\b\b\b\b\b\b\b\b\b\b\b\b\b\b\b\b\b\b\b\b\b\b\b\b\b\b\b\b\b\b\b\b\b\b\b\b\b\b\b\b\b\b\b\b\b\r239/291 [=======================>......] - ETA: 17s - loss: 2.4437 - accuracy: 0.3005",
                    "output_type": "stream"
                },
                {
                    "name": "stdout",
                    "text": "\b\b\b\b\b\b\b\b\b\b\b\b\b\b\b\b\b\b\b\b\b\b\b\b\b\b\b\b\b\b\b\b\b\b\b\b\b\b\b\b\b\b\b\b\b\b\b\b\b\b\b\b\b\b\b\b\b\b\b\b\b\b\b\b\b\b\b\b\b\b\b\b\b\b\b\b\b\b\b\b\b\b\b\b\b\r240/291 [=======================>......] - ETA: 17s - loss: 2.4430 - accuracy: 0.3005",
                    "output_type": "stream"
                },
                {
                    "name": "stdout",
                    "text": "\b\b\b\b\b\b\b\b\b\b\b\b\b\b\b\b\b\b\b\b\b\b\b\b\b\b\b\b\b\b\b\b\b\b\b\b\b\b\b\b\b\b\b\b\b\b\b\b\b\b\b\b\b\b\b\b\b\b\b\b\b\b\b\b\b\b\b\b\b\b\b\b\b\b\b\b\b\b\b\b\b\b\b\b\b\r241/291 [=======================>......] - ETA: 17s - loss: 2.4435 - accuracy: 0.3002",
                    "output_type": "stream"
                },
                {
                    "name": "stdout",
                    "text": "\b\b\b\b\b\b\b\b\b\b\b\b\b\b\b\b\b\b\b\b\b\b\b\b\b\b\b\b\b\b\b\b\b\b\b\b\b\b\b\b\b\b\b\b\b\b\b\b\b\b\b\b\b\b\b\b\b\b\b\b\b\b\b\b\b\b\b\b\b\b\b\b\b\b\b\b\b\b\b\b\b\b\b\b\b\r242/291 [=======================>......] - ETA: 16s - loss: 2.4427 - accuracy: 0.3004",
                    "output_type": "stream"
                },
                {
                    "name": "stdout",
                    "text": "\b\b\b\b\b\b\b\b\b\b\b\b\b\b\b\b\b\b\b\b\b\b\b\b\b\b\b\b\b\b\b\b\b\b\b\b\b\b\b\b\b\b\b\b\b\b\b\b\b\b\b\b\b\b\b\b\b\b\b\b\b\b\b\b\b\b\b\b\b\b\b\b\b\b\b\b\b\b\b\b\b\b\b\b\b\r243/291 [========================>.....] - ETA: 16s - loss: 2.4424 - accuracy: 0.3005",
                    "output_type": "stream"
                },
                {
                    "name": "stdout",
                    "text": "\b\b\b\b\b\b\b\b\b\b\b\b\b\b\b\b\b\b\b\b\b\b\b\b\b\b\b\b\b\b\b\b\b\b\b\b\b\b\b\b\b\b\b\b\b\b\b\b\b\b\b\b\b\b\b\b\b\b\b\b\b\b\b\b\b\b\b\b\b\b\b\b\b\b\b\b\b\b\b\b\b\b\b\b\b\r244/291 [========================>.....] - ETA: 16s - loss: 2.4425 - accuracy: 0.3007",
                    "output_type": "stream"
                },
                {
                    "name": "stdout",
                    "text": "\b\b\b\b\b\b\b\b\b\b\b\b\b\b\b\b\b\b\b\b\b\b\b\b\b\b\b\b\b\b\b\b\b\b\b\b\b\b\b\b\b\b\b\b\b\b\b\b\b\b\b\b\b\b\b\b\b\b\b\b\b\b\b\b\b\b\b\b\b\b\b\b\b\b\b\b\b\b\b\b\b\b\b\b\b\r245/291 [========================>.....] - ETA: 15s - loss: 2.4419 - accuracy: 0.3008",
                    "output_type": "stream"
                },
                {
                    "name": "stdout",
                    "text": "\b\b\b\b\b\b\b\b\b\b\b\b\b\b\b\b\b\b\b\b\b\b\b\b\b\b\b\b\b\b\b\b\b\b\b\b\b\b\b\b\b\b\b\b\b\b\b\b\b\b\b\b\b\b\b\b\b\b\b\b\b\b\b\b\b\b\b\b\b\b\b\b\b\b\b\b\b\b\b\b\b\b\b\b\b\r246/291 [========================>.....] - ETA: 15s - loss: 2.4409 - accuracy: 0.3011",
                    "output_type": "stream"
                },
                {
                    "name": "stdout",
                    "text": "\b\b\b\b\b\b\b\b\b\b\b\b\b\b\b\b\b\b\b\b\b\b\b\b\b\b\b\b\b\b\b\b\b\b\b\b\b\b\b\b\b\b\b\b\b\b\b\b\b\b\b\b\b\b\b\b\b\b\b\b\b\b\b\b\b\b\b\b\b\b\b\b\b\b\b\b\b\b\b\b\b\b\b\b\b\r247/291 [========================>.....] - ETA: 15s - loss: 2.4417 - accuracy: 0.3010",
                    "output_type": "stream"
                },
                {
                    "name": "stdout",
                    "text": "\b\b\b\b\b\b\b\b\b\b\b\b\b\b\b\b\b\b\b\b\b\b\b\b\b\b\b\b\b\b\b\b\b\b\b\b\b\b\b\b\b\b\b\b\b\b\b\b\b\b\b\b\b\b\b\b\b\b\b\b\b\b\b\b\b\b\b\b\b\b\b\b\b\b\b\b\b\b\b\b\b\b\b\b\b\r248/291 [========================>.....] - ETA: 14s - loss: 2.4412 - accuracy: 0.3009",
                    "output_type": "stream"
                },
                {
                    "name": "stdout",
                    "text": "\b\b\b\b\b\b\b\b\b\b\b\b\b\b\b\b\b\b\b\b\b\b\b\b\b\b\b\b\b\b\b\b\b\b\b\b\b\b\b\b\b\b\b\b\b\b\b\b\b\b\b\b\b\b\b\b\b\b\b\b\b\b\b\b\b\b\b\b\b\b\b\b\b\b\b\b\b\b\b\b\b\b\b\b\b\r249/291 [========================>.....] - ETA: 14s - loss: 2.4398 - accuracy: 0.3014",
                    "output_type": "stream"
                },
                {
                    "name": "stdout",
                    "text": "\b\b\b\b\b\b\b\b\b\b\b\b\b\b\b\b\b\b\b\b\b\b\b\b\b\b\b\b\b\b\b\b\b\b\b\b\b\b\b\b\b\b\b\b\b\b\b\b\b\b\b\b\b\b\b\b\b\b\b\b\b\b\b\b\b\b\b\b\b\b\b\b\b\b\b\b\b\b\b\b\b\b\b\b\b\r250/291 [========================>.....] - ETA: 14s - loss: 2.4396 - accuracy: 0.3015",
                    "output_type": "stream"
                },
                {
                    "name": "stdout",
                    "text": "\b\b\b\b\b\b\b\b\b\b\b\b\b\b\b\b\b\b\b\b\b\b\b\b\b\b\b\b\b\b\b\b\b\b\b\b\b\b\b\b\b\b\b\b\b\b\b\b\b\b\b\b\b\b\b\b\b\b\b\b\b\b\b\b\b\b\b\b\b\b\b\b\b\b\b\b\b\b\b\b\b\b\b\b\b\r251/291 [========================>.....] - ETA: 13s - loss: 2.4390 - accuracy: 0.3016",
                    "output_type": "stream"
                },
                {
                    "name": "stdout",
                    "text": "\b\b\b\b\b\b\b\b\b\b\b\b\b\b\b\b\b\b\b\b\b\b\b\b\b\b\b\b\b\b\b\b\b\b\b\b\b\b\b\b\b\b\b\b\b\b\b\b\b\b\b\b\b\b\b\b\b\b\b\b\b\b\b\b\b\b\b\b\b\b\b\b\b\b\b\b\b\b\b\b\b\b\b\b\b\r252/291 [========================>.....] - ETA: 13s - loss: 2.4380 - accuracy: 0.3020",
                    "output_type": "stream"
                },
                {
                    "name": "stdout",
                    "text": "\b\b\b\b\b\b\b\b\b\b\b\b\b\b\b\b\b\b\b\b\b\b\b\b\b\b\b\b\b\b\b\b\b\b\b\b\b\b\b\b\b\b\b\b\b\b\b\b\b\b\b\b\b\b\b\b\b\b\b\b\b\b\b\b\b\b\b\b\b\b\b\b\b\b\b\b\b\b\b\b\b\b\b\b\b\r253/291 [=========================>....] - ETA: 13s - loss: 2.4374 - accuracy: 0.3020",
                    "output_type": "stream"
                },
                {
                    "name": "stdout",
                    "text": "\b\b\b\b\b\b\b\b\b\b\b\b\b\b\b\b\b\b\b\b\b\b\b\b\b\b\b\b\b\b\b\b\b\b\b\b\b\b\b\b\b\b\b\b\b\b\b\b\b\b\b\b\b\b\b\b\b\b\b\b\b\b\b\b\b\b\b\b\b\b\b\b\b\b\b\b\b\b\b\b\b\b\b\b\b\r254/291 [=========================>....] - ETA: 12s - loss: 2.4352 - accuracy: 0.3029",
                    "output_type": "stream"
                },
                {
                    "name": "stdout",
                    "text": "\b\b\b\b\b\b\b\b\b\b\b\b\b\b\b\b\b\b\b\b\b\b\b\b\b\b\b\b\b\b\b\b\b\b\b\b\b\b\b\b\b\b\b\b\b\b\b\b\b\b\b\b\b\b\b\b\b\b\b\b\b\b\b\b\b\b\b\b\b\b\b\b\b\b\b\b\b\b\b\b\b\b\b\b\b\r255/291 [=========================>....] - ETA: 12s - loss: 2.4358 - accuracy: 0.3029",
                    "output_type": "stream"
                },
                {
                    "name": "stdout",
                    "text": "\b\b\b\b\b\b\b\b\b\b\b\b\b\b\b\b\b\b\b\b\b\b\b\b\b\b\b\b\b\b\b\b\b\b\b\b\b\b\b\b\b\b\b\b\b\b\b\b\b\b\b\b\b\b\b\b\b\b\b\b\b\b\b\b\b\b\b\b\b\b\b\b\b\b\b\b\b\b\b\b\b\b\b\b\b\r256/291 [=========================>....] - ETA: 11s - loss: 2.4353 - accuracy: 0.3030",
                    "output_type": "stream"
                },
                {
                    "name": "stdout",
                    "text": "\b\b\b\b\b\b\b\b\b\b\b\b\b\b\b\b\b\b\b\b\b\b\b\b\b\b\b\b\b\b\b\b\b\b\b\b\b\b\b\b\b\b\b\b\b\b\b\b\b\b\b\b\b\b\b\b\b\b\b\b\b\b\b\b\b\b\b\b\b\b\b\b\b\b\b\b\b\b\b\b\b\b\b\b\b\r257/291 [=========================>....] - ETA: 11s - loss: 2.4338 - accuracy: 0.3036",
                    "output_type": "stream"
                },
                {
                    "name": "stdout",
                    "text": "\b\b\b\b\b\b\b\b\b\b\b\b\b\b\b\b\b\b\b\b\b\b\b\b\b\b\b\b\b\b\b\b\b\b\b\b\b\b\b\b\b\b\b\b\b\b\b\b\b\b\b\b\b\b\b\b\b\b\b\b\b\b\b\b\b\b\b\b\b\b\b\b\b\b\b\b\b\b\b\b\b\b\b\b\b\r258/291 [=========================>....] - ETA: 11s - loss: 2.4344 - accuracy: 0.3033",
                    "output_type": "stream"
                },
                {
                    "name": "stdout",
                    "text": "\b\b\b\b\b\b\b\b\b\b\b\b\b\b\b\b\b\b\b\b\b\b\b\b\b\b\b\b\b\b\b\b\b\b\b\b\b\b\b\b\b\b\b\b\b\b\b\b\b\b\b\b\b\b\b\b\b\b\b\b\b\b\b\b\b\b\b\b\b\b\b\b\b\b\b\b\b\b\b\b\b\b\b\b\b\r259/291 [=========================>....] - ETA: 10s - loss: 2.4339 - accuracy: 0.3035",
                    "output_type": "stream"
                },
                {
                    "name": "stdout",
                    "text": "\b\b\b\b\b\b\b\b\b\b\b\b\b\b\b\b\b\b\b\b\b\b\b\b\b\b\b\b\b\b\b\b\b\b\b\b\b\b\b\b\b\b\b\b\b\b\b\b\b\b\b\b\b\b\b\b\b\b\b\b\b\b\b\b\b\b\b\b\b\b\b\b\b\b\b\b\b\b\b\b\b\b\b\b\b\r260/291 [=========================>....] - ETA: 10s - loss: 2.4338 - accuracy: 0.3032",
                    "output_type": "stream"
                },
                {
                    "name": "stdout",
                    "text": "\b\b\b\b\b\b\b\b\b\b\b\b\b\b\b\b\b\b\b\b\b\b\b\b\b\b\b\b\b\b\b\b\b\b\b\b\b\b\b\b\b\b\b\b\b\b\b\b\b\b\b\b\b\b\b\b\b\b\b\b\b\b\b\b\b\b\b\b\b\b\b\b\b\b\b\b\b\b\b\b\b\b\b\b\b\r261/291 [=========================>....] - ETA: 10s - loss: 2.4321 - accuracy: 0.3038",
                    "output_type": "stream"
                },
                {
                    "name": "stdout",
                    "text": "\b\b\b\b\b\b\b\b\b\b\b\b\b\b\b\b\b\b\b\b\b\b\b\b\b\b\b\b\b\b\b\b\b\b\b\b\b\b\b\b\b\b\b\b\b\b\b\b\b\b\b\b\b\b\b\b\b\b\b\b\b\b\b\b\b\b\b\b\b\b\b\b\b\b\b\b\b\b\b\b\b\b\b\b\b\r262/291 [==========================>...] - ETA: 9s - loss: 2.4317 - accuracy: 0.3040 ",
                    "output_type": "stream"
                },
                {
                    "name": "stdout",
                    "text": "\b\b\b\b\b\b\b\b\b\b\b\b\b\b\b\b\b\b\b\b\b\b\b\b\b\b\b\b\b\b\b\b\b\b\b\b\b\b\b\b\b\b\b\b\b\b\b\b\b\b\b\b\b\b\b\b\b\b\b\b\b\b\b\b\b\b\b\b\b\b\b\b\b\b\b\b\b\b\b\b\b\b\b\b\r263/291 [==========================>...] - ETA: 9s - loss: 2.4313 - accuracy: 0.3042",
                    "output_type": "stream"
                },
                {
                    "name": "stdout",
                    "text": "\b\b\b\b\b\b\b\b\b\b\b\b\b\b\b\b\b\b\b\b\b\b\b\b\b\b\b\b\b\b\b\b\b\b\b\b\b\b\b\b\b\b\b\b\b\b\b\b\b\b\b\b\b\b\b\b\b\b\b\b\b\b\b\b\b\b\b\b\b\b\b\b\b\b\b\b\b\b\b\b\b\b\b\b\r264/291 [==========================>...] - ETA: 9s - loss: 2.4309 - accuracy: 0.3042",
                    "output_type": "stream"
                },
                {
                    "name": "stdout",
                    "text": "\b\b\b\b\b\b\b\b\b\b\b\b\b\b\b\b\b\b\b\b\b\b\b\b\b\b\b\b\b\b\b\b\b\b\b\b\b\b\b\b\b\b\b\b\b\b\b\b\b\b\b\b\b\b\b\b\b\b\b\b\b\b\b\b\b\b\b\b\b\b\b\b\b\b\b\b\b\b\b\b\b\b\b\b\r265/291 [==========================>...] - ETA: 8s - loss: 2.4304 - accuracy: 0.3042",
                    "output_type": "stream"
                },
                {
                    "name": "stdout",
                    "text": "\b\b\b\b\b\b\b\b\b\b\b\b\b\b\b\b\b\b\b\b\b\b\b\b\b\b\b\b\b\b\b\b\b\b\b\b\b\b\b\b\b\b\b\b\b\b\b\b\b\b\b\b\b\b\b\b\b\b\b\b\b\b\b\b\b\b\b\b\b\b\b\b\b\b\b\b\b\b\b\b\b\b\b\b\r266/291 [==========================>...] - ETA: 8s - loss: 2.4297 - accuracy: 0.3046",
                    "output_type": "stream"
                },
                {
                    "name": "stdout",
                    "text": "\b\b\b\b\b\b\b\b\b\b\b\b\b\b\b\b\b\b\b\b\b\b\b\b\b\b\b\b\b\b\b\b\b\b\b\b\b\b\b\b\b\b\b\b\b\b\b\b\b\b\b\b\b\b\b\b\b\b\b\b\b\b\b\b\b\b\b\b\b\b\b\b\b\b\b\b\b\b\b\b\b\b\b\b\r267/291 [==========================>...] - ETA: 8s - loss: 2.4288 - accuracy: 0.3051",
                    "output_type": "stream"
                },
                {
                    "name": "stdout",
                    "text": "\b\b\b\b\b\b\b\b\b\b\b\b\b\b\b\b\b\b\b\b\b\b\b\b\b\b\b\b\b\b\b\b\b\b\b\b\b\b\b\b\b\b\b\b\b\b\b\b\b\b\b\b\b\b\b\b\b\b\b\b\b\b\b\b\b\b\b\b\b\b\b\b\b\b\b\b\b\b\b\b\b\b\b\b\r268/291 [==========================>...] - ETA: 7s - loss: 2.4274 - accuracy: 0.3054",
                    "output_type": "stream"
                },
                {
                    "name": "stdout",
                    "text": "\b\b\b\b\b\b\b\b\b\b\b\b\b\b\b\b\b\b\b\b\b\b\b\b\b\b\b\b\b\b\b\b\b\b\b\b\b\b\b\b\b\b\b\b\b\b\b\b\b\b\b\b\b\b\b\b\b\b\b\b\b\b\b\b\b\b\b\b\b\b\b\b\b\b\b\b\b\b\b\b\b\b\b\b\r269/291 [==========================>...] - ETA: 7s - loss: 2.4268 - accuracy: 0.3055",
                    "output_type": "stream"
                },
                {
                    "name": "stdout",
                    "text": "\b\b\b\b\b\b\b\b\b\b\b\b\b\b\b\b\b\b\b\b\b\b\b\b\b\b\b\b\b\b\b\b\b\b\b\b\b\b\b\b\b\b\b\b\b\b\b\b\b\b\b\b\b\b\b\b\b\b\b\b\b\b\b\b\b\b\b\b\b\b\b\b\b\b\b\b\b\b\b\b\b\b\b\b\r270/291 [==========================>...] - ETA: 7s - loss: 2.4266 - accuracy: 0.3056",
                    "output_type": "stream"
                },
                {
                    "name": "stdout",
                    "text": "\b\b\b\b\b\b\b\b\b\b\b\b\b\b\b\b\b\b\b\b\b\b\b\b\b\b\b\b\b\b\b\b\b\b\b\b\b\b\b\b\b\b\b\b\b\b\b\b\b\b\b\b\b\b\b\b\b\b\b\b\b\b\b\b\b\b\b\b\b\b\b\b\b\b\b\b\b\b\b\b\b\b\b\b\r271/291 [==========================>...] - ETA: 6s - loss: 2.4264 - accuracy: 0.3056",
                    "output_type": "stream"
                },
                {
                    "name": "stdout",
                    "text": "\b\b\b\b\b\b\b\b\b\b\b\b\b\b\b\b\b\b\b\b\b\b\b\b\b\b\b\b\b\b\b\b\b\b\b\b\b\b\b\b\b\b\b\b\b\b\b\b\b\b\b\b\b\b\b\b\b\b\b\b\b\b\b\b\b\b\b\b\b\b\b\b\b\b\b\b\b\b\b\b\b\b\b\b\r272/291 [===========================>..] - ETA: 6s - loss: 2.4255 - accuracy: 0.3057",
                    "output_type": "stream"
                },
                {
                    "name": "stdout",
                    "text": "\b\b\b\b\b\b\b\b\b\b\b\b\b\b\b\b\b\b\b\b\b\b\b\b\b\b\b\b\b\b\b\b\b\b\b\b\b\b\b\b\b\b\b\b\b\b\b\b\b\b\b\b\b\b\b\b\b\b\b\b\b\b\b\b\b\b\b\b\b\b\b\b\b\b\b\b\b\b\b\b\b\b\b\b\r273/291 [===========================>..] - ETA: 6s - loss: 2.4253 - accuracy: 0.3055",
                    "output_type": "stream"
                },
                {
                    "name": "stdout",
                    "text": "\b\b\b\b\b\b\b\b\b\b\b\b\b\b\b\b\b\b\b\b\b\b\b\b\b\b\b\b\b\b\b\b\b\b\b\b\b\b\b\b\b\b\b\b\b\b\b\b\b\b\b\b\b\b\b\b\b\b\b\b\b\b\b\b\b\b\b\b\b\b\b\b\b\b\b\b\b\b\b\b\b\b\b\b\r274/291 [===========================>..] - ETA: 5s - loss: 2.4246 - accuracy: 0.3055",
                    "output_type": "stream"
                },
                {
                    "name": "stdout",
                    "text": "\b\b\b\b\b\b\b\b\b\b\b\b\b\b\b\b\b\b\b\b\b\b\b\b\b\b\b\b\b\b\b\b\b\b\b\b\b\b\b\b\b\b\b\b\b\b\b\b\b\b\b\b\b\b\b\b\b\b\b\b\b\b\b\b\b\b\b\b\b\b\b\b\b\b\b\b\b\b\b\b\b\b\b\b\r275/291 [===========================>..] - ETA: 5s - loss: 2.4233 - accuracy: 0.3057",
                    "output_type": "stream"
                },
                {
                    "name": "stdout",
                    "text": "\b\b\b\b\b\b\b\b\b\b\b\b\b\b\b\b\b\b\b\b\b\b\b\b\b\b\b\b\b\b\b\b\b\b\b\b\b\b\b\b\b\b\b\b\b\b\b\b\b\b\b\b\b\b\b\b\b\b\b\b\b\b\b\b\b\b\b\b\b\b\b\b\b\b\b\b\b\b\b\b\b\b\b\b\r276/291 [===========================>..] - ETA: 5s - loss: 2.4229 - accuracy: 0.3058",
                    "output_type": "stream"
                },
                {
                    "name": "stdout",
                    "text": "\b\b\b\b\b\b\b\b\b\b\b\b\b\b\b\b\b\b\b\b\b\b\b\b\b\b\b\b\b\b\b\b\b\b\b\b\b\b\b\b\b\b\b\b\b\b\b\b\b\b\b\b\b\b\b\b\b\b\b\b\b\b\b\b\b\b\b\b\b\b\b\b\b\b\b\b\b\b\b\b\b\b\b\b\r277/291 [===========================>..] - ETA: 4s - loss: 2.4230 - accuracy: 0.3057",
                    "output_type": "stream"
                },
                {
                    "name": "stdout",
                    "text": "\b\b\b\b\b\b\b\b\b\b\b\b\b\b\b\b\b\b\b\b\b\b\b\b\b\b\b\b\b\b\b\b\b\b\b\b\b\b\b\b\b\b\b\b\b\b\b\b\b\b\b\b\b\b\b\b\b\b\b\b\b\b\b\b\b\b\b\b\b\b\b\b\b\b\b\b\b\b\b\b\b\b\b\b\r278/291 [===========================>..] - ETA: 4s - loss: 2.4231 - accuracy: 0.3055",
                    "output_type": "stream"
                },
                {
                    "name": "stdout",
                    "text": "\b\b\b\b\b\b\b\b\b\b\b\b\b\b\b\b\b\b\b\b\b\b\b\b\b\b\b\b\b\b\b\b\b\b\b\b\b\b\b\b\b\b\b\b\b\b\b\b\b\b\b\b\b\b\b\b\b\b\b\b\b\b\b\b\b\b\b\b\b\b\b\b\b\b\b\b\b\b\b\b\b\b\b\b\r279/291 [===========================>..] - ETA: 4s - loss: 2.4219 - accuracy: 0.3060",
                    "output_type": "stream"
                },
                {
                    "name": "stdout",
                    "text": "\b\b\b\b\b\b\b\b\b\b\b\b\b\b\b\b\b\b\b\b\b\b\b\b\b\b\b\b\b\b\b\b\b\b\b\b\b\b\b\b\b\b\b\b\b\b\b\b\b\b\b\b\b\b\b\b\b\b\b\b\b\b\b\b\b\b\b\b\b\b\b\b\b\b\b\b\b\b\b\b\b\b\b\b\r280/291 [===========================>..] - ETA: 3s - loss: 2.4212 - accuracy: 0.3062",
                    "output_type": "stream"
                },
                {
                    "name": "stdout",
                    "text": "\b\b\b\b\b\b\b\b\b\b\b\b\b\b\b\b\b\b\b\b\b\b\b\b\b\b\b\b\b\b\b\b\b\b\b\b\b\b\b\b\b\b\b\b\b\b\b\b\b\b\b\b\b\b\b\b\b\b\b\b\b\b\b\b\b\b\b\b\b\b\b\b\b\b\b\b\b\b\b\b\b\b\b\b\r281/291 [===========================>..] - ETA: 3s - loss: 2.4200 - accuracy: 0.3067",
                    "output_type": "stream"
                },
                {
                    "name": "stdout",
                    "text": "\b\b\b\b\b\b\b\b\b\b\b\b\b\b\b\b\b\b\b\b\b\b\b\b\b\b\b\b\b\b\b\b\b\b\b\b\b\b\b\b\b\b\b\b\b\b\b\b\b\b\b\b\b\b\b\b\b\b\b\b\b\b\b\b\b\b\b\b\b\b\b\b\b\b\b\b\b\b\b\b\b\b\b\b\r282/291 [============================>.] - ETA: 3s - loss: 2.4193 - accuracy: 0.3067",
                    "output_type": "stream"
                },
                {
                    "name": "stdout",
                    "text": "\b\b\b\b\b\b\b\b\b\b\b\b\b\b\b\b\b\b\b\b\b\b\b\b\b\b\b\b\b\b\b\b\b\b\b\b\b\b\b\b\b\b\b\b\b\b\b\b\b\b\b\b\b\b\b\b\b\b\b\b\b\b\b\b\b\b\b\b\b\b\b\b\b\b\b\b\b\b\b\b\b\b\b\b\r283/291 [============================>.] - ETA: 2s - loss: 2.4187 - accuracy: 0.3070",
                    "output_type": "stream"
                },
                {
                    "name": "stdout",
                    "text": "\b\b\b\b\b\b\b\b\b\b\b\b\b\b\b\b\b\b\b\b\b\b\b\b\b\b\b\b\b\b\b\b\b\b\b\b\b\b\b\b\b\b\b\b\b\b\b\b\b\b\b\b\b\b\b\b\b\b\b\b\b\b\b\b\b\b\b\b\b\b\b\b\b\b\b\b\b\b\b\b\b\b\b\b\r284/291 [============================>.] - ETA: 2s - loss: 2.4174 - accuracy: 0.3075",
                    "output_type": "stream"
                },
                {
                    "name": "stdout",
                    "text": "\b\b\b\b\b\b\b\b\b\b\b\b\b\b\b\b\b\b\b\b\b\b\b\b\b\b\b\b\b\b\b\b\b\b\b\b\b\b\b\b\b\b\b\b\b\b\b\b\b\b\b\b\b\b\b\b\b\b\b\b\b\b\b\b\b\b\b\b\b\b\b\b\b\b\b\b\b\b\b\b\b\b\b\b\r285/291 [============================>.] - ETA: 2s - loss: 2.4171 - accuracy: 0.3075",
                    "output_type": "stream"
                },
                {
                    "name": "stdout",
                    "text": "\b\b\b\b\b\b\b\b\b\b\b\b\b\b\b\b\b\b\b\b\b\b\b\b\b\b\b\b\b\b\b\b\b\b\b\b\b\b\b\b\b\b\b\b\b\b\b\b\b\b\b\b\b\b\b\b\b\b\b\b\b\b\b\b\b\b\b\b\b\b\b\b\b\b\b\b\b\b\b\b\b\b\b\b\r286/291 [============================>.] - ETA: 1s - loss: 2.4159 - accuracy: 0.3077",
                    "output_type": "stream"
                },
                {
                    "name": "stdout",
                    "text": "\b\b\b\b\b\b\b\b\b\b\b\b\b\b\b\b\b\b\b\b\b\b\b\b\b\b\b\b\b\b\b\b\b\b\b\b\b\b\b\b\b\b\b\b\b\b\b\b\b\b\b\b\b\b\b\b\b\b\b\b\b\b\b\b\b\b\b\b\b\b\b\b\b\b\b\b\b\b\b\b\b\b\b\b\r287/291 [============================>.] - ETA: 1s - loss: 2.4151 - accuracy: 0.3078",
                    "output_type": "stream"
                },
                {
                    "name": "stdout",
                    "text": "\b\b\b\b\b\b\b\b\b\b\b\b\b\b\b\b\b\b\b\b\b\b\b\b\b\b\b\b\b\b\b\b\b\b\b\b\b\b\b\b\b\b\b\b\b\b\b\b\b\b\b\b\b\b\b\b\b\b\b\b\b\b\b\b\b\b\b\b\b\b\b\b\b\b\b\b\b\b\b\b\b\b\b\b\r288/291 [============================>.] - ETA: 1s - loss: 2.4153 - accuracy: 0.3076",
                    "output_type": "stream"
                },
                {
                    "name": "stdout",
                    "text": "\b\b\b\b\b\b\b\b\b\b\b\b\b\b\b\b\b\b\b\b\b\b\b\b\b\b\b\b\b\b\b\b\b\b\b\b\b\b\b\b\b\b\b\b\b\b\b\b\b\b\b\b\b\b\b\b\b\b\b\b\b\b\b\b\b\b\b\b\b\b\b\b\b\b\b\b\b\b\b\b\b\b\b\b\r289/291 [============================>.] - ETA: 0s - loss: 2.4149 - accuracy: 0.3077",
                    "output_type": "stream"
                },
                {
                    "name": "stdout",
                    "text": "\b\b\b\b\b\b\b\b\b\b\b\b\b\b\b\b\b\b\b\b\b\b\b\b\b\b\b\b\b\b\b\b\b\b\b\b\b\b\b\b\b\b\b\b\b\b\b\b\b\b\b\b\b\b\b\b\b\b\b\b\b\b\b\b\b\b\b\b\b\b\b\b\b\b\b\b\b\b\b\b\b\b\b\b\r290/291 [============================>.] - ETA: 0s - loss: 2.4133 - accuracy: 0.3080",
                    "output_type": "stream"
                },
                {
                    "name": "stdout",
                    "text": "\b\b\b\b\b\b\b\b\b\b\b\b\b\b\b\b\b\b\b\b\b\b\b\b\b\b\b\b\b\b\b\b\b\b\b\b\b\b\b\b\b\b\b\b\b\b\b\b\b\b\b\b\b\b\b\b\b\b\b\b\b\b\b\b\b\b\b\b\b\b\b\b\b\b\b\b\b\b\b\b\b\b\b\b\r291/291 [==============================] - ETA: 0s - loss: 2.4121 - accuracy: 0.3084",
                    "output_type": "stream"
                },
                {
                    "name": "stdout",
                    "text": "\b\b\b\b\b\b\b\b\b\b\b\b\b\b\b\b\b\b\b\b\b\b\b\b\b\b\b\b\b\b\b\b\b\b\b\b\b\b\b\b\b\b\b\b\b\b\b\b\b\b\b\b\b\b\b\b\b\b\b\b\b\b\b\b\b\b\b\b\b\b\b\b\b\b\b\b\b\b\b\b\b\b\b\b\r291/291 [==============================] - 98s 336ms/step - loss: 2.4121 - accuracy: 0.3084\n",
                    "output_type": "stream"
                }
            ],
            "execution_count": 12
        },
        {
            "cell_type": "code",
            "source": [
                "seq_length = 100\r\n",
                "sentence_end_markers = ['.', '?']\r\n",
                "\r\n",
                "def generate_text(model, start_text, char_to_index, index_to_char, max_length=500):\r\n",
                "    generated_text = start_text\r\n",
                "    num_words = len(generated_text.split())\r\n",
                "\r\n",
                "    while num_words < max_length and not any(generated_text.endswith(marker) for marker in sentence_end_markers):\r\n",
                "        input_seq = [char_to_index[char] for char in generated_text[-seq_length:]]\r\n",
                "        input_seq = pad_sequences([input_seq], maxlen=seq_length, padding='pre')\r\n",
                "\r\n",
                "        probabilities = model.predict(input_seq, verbose=0)[0]\r\n",
                "        predicted_index = np.random.choice(len(probabilities), p=probabilities)\r\n",
                "        predicted_char = index_to_char[predicted_index]\r\n",
                "\r\n",
                "        generated_text += predicted_char\r\n",
                "        num_words = len(generated_text.split())\r\n",
                "\r\n",
                "    return generated_text"
            ],
            "metadata": {
                "azdata_cell_guid": "21a014c9-00a7-46bf-823d-b62ec769dd9a",
                "language": "python"
            },
            "outputs": [],
            "execution_count": 13
        },
        {
            "cell_type": "code",
            "source": [
                "start_seq = \"Deep Learning is a subset of Machine Learning\"\r\n",
                "generated_text = generate_text(model, start_seq, char_to_num, num_to_char, max_length=500)\r\n",
                "\r\n",
                "print(\"Generated Text:\")\r\n",
                "print(generated_text)"
            ],
            "metadata": {
                "language": "python",
                "azdata_cell_guid": "de6d31d8-3184-4a27-852a-44fb4790e106"
            },
            "outputs": [
                {
                    "name": "stdout",
                    "text": "Generated Text:\nDeep Learning is a subset of Machine Learning torking bos slencots sreent henlenting enpecosta tolcnuing thite dadentincosssal egdedets and neenciqaw, kedpentacx to Cmate onsalmengss-resstianita-ng a Lasting endepmapnisienmes, Deeran tentian enderreatixs.\n",
                    "output_type": "stream"
                }
            ],
            "execution_count": 14
        }
    ]
}